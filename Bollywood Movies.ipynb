{
 "cells": [
  {
   "cell_type": "markdown",
   "metadata": {},
   "source": [
    "In this notebook we will build a system which will predict the imdb rating of a movie on a scale of 10.\n",
    "We will do this for bollywood movies since 1995.\n",
    "Data for this is obtained from pages such as this :http://www.imdb.com/search/titlelanguages=hi|1&title_type=feature&sort=moviemeter,asc"
   ]
  },
  {
   "cell_type": "code",
   "execution_count": 2,
   "metadata": {
    "collapsed": false
   },
   "outputs": [],
   "source": [
    "%matplotlib inline\n",
    "from bs4 import BeautifulSoup \n",
    "from pattern import web\n",
    "import requests\n",
    "import urllib\n",
    "import pandas as pd\n",
    "import numpy as np\n",
    "import matplotlib.pyplot as plt\n",
    "\n",
    "#Importing the necessary modules"
   ]
  },
  {
   "cell_type": "markdown",
   "metadata": {},
   "source": [
    "We will use the requests module to scrape the data from the websites. The urllib module will be used to obtain the html for the url.\n"
   ]
  },
  {
   "cell_type": "code",
   "execution_count": 3,
   "metadata": {
    "collapsed": false
   },
   "outputs": [
    {
     "data": {
      "text/plain": [
       "u'    \\n\\n<!DOCTYPE html PUBLIC \"-//W3C//DTD XHTML 1.0 Strict//EN\"\\n        \"http://www.w3.org/TR/xhtml1/DTD/xhtml1-strict.dtd\">\\n<html xmlns=\"http://www.w3.org/1999/xhtml\">\\n        <head>\\n                <meta http-equiv=\"Content-Type\" content=\"text/html; charset=utf-8\" />\\n<script>\\nvar addClickstreamHeadersToAjax = function(xhr) {\\n    xhr.setRequestHeader(\"x-imdb-parent-id\", \"0N8DDXSXFJJXX8AQ9YAV\");\\n};\\n</script>\\n\\n                <title>IMDb: Most Popular   Hindi-Language Feature Films\\n</title>\\n<link rel=\"canonical\" href=\"http://www.imdb.com/search/title?languages=hi%7C1&title_type=feature&sort=moviemeter,asc\" /><meta property=\"og:url\" content=\"http://www.imdb.com/search/title?languages=hi%7C1&title_type=feature&sort=moviemeter,asc\" />\\n\\n<link rel=\"stylesheet\" type=\"text/css\" href=\"http://i.media-imdb.com/images/SFf916c48ae9059d778bc2a0138c326bdf/css2/consumersite.css\" ><link rel=\"stylesheet\" type=\"text/css\" href=\"http://i.media-imdb.com/images/SFd36761b30ebc061c8d30826d3d211d3c/css2/site/consumer-navbar-mega.css\" ><link rel=\"stylesheet\" type=\"text/css\" href=\"http://i.media-imdb.com/images/SF5ed50fbc28756db79d18e73e7ff96aa3/wheel/base.css\" ><link rel=\"stylesheet\" type=\"text/css\" href=\"http://i.media-imdb.com/images/SFa1d1dc21b3fa3bb079a450e6cb833a20/wheel/layout.css\" ><link rel=\"stylesheet\" type=\"text/css\" href=\"http://i.media-imdb.com/images/SF81342682e82e6b6a45b59d43c48aeac5/wheel/fixed.css\" ><link rel=\"stylesheet\" type=\"text/css\" href=\"http://i.media-imdb.com/images/SF6520738a648f46452f25b55c6df60087/css2/app/search/advsearch/view.css\" ><link rel=\"stylesheet\" type=\"text/css\" href=\"http://i.media-imdb.com/images/SFff7dae3592135f947f3f787b98bd5817/css2/app/realm/view.css\" ><link rel=\"stylesheet\" type=\"text/css\" href=\"http://i.media-imdb.com/images/SFa88e6ba92e5894e7909b0d2ef5d21e79/css2/site/consumer-navbar-suggestionsearch.css\" ><link rel=\"stylesheet\" type=\"text/css\" href=\"http://i.media-imdb.com/images/SFe349c433e719491fa3192fed28cfb9e1/wheel/buttons.css\" ><link rel=\"stylesheet\" type=\"text/css\" href=\"http://i.media-imdb.com/images/SFa496ac0b707802e06c9f0192a8fb76bd/css/title-name-sprites.css\" ><link rel=\"stylesheet\" type=\"text/css\" href=\"http://i.media-imdb.com/images/SF24f65d592832287a3f3e1da8898d33f3/wheel/btn2.css\" ><link rel=\"stylesheet\" type=\"text/css\" href=\"http://i.media-imdb.com/images/SF86490d125684bb6a47cdfa12a86f7d98/css/min/rating.css\" ><meta property=\"og:type\" content=\"article\" /><meta property=\"og:site_name\" content=\"IMDb\" /><meta property=\"og:title\" content=\"IMDb: Most Popular   Hindi-Language Feature Films\\n\" /><meta name=\"description\" content=\"IMDb\\'s advanced search allows you to run extremely powerful queries over all people and titles in the database.  Find exactly what you\\'re looking for!\" /><link rel=\"stylesheet\" type=\"text/css\" href=\"http://i.media-imdb.com/images/SF42a361874b4f716f234cd842bed55350/wheel/widgets.css\" >\\n<!-- start m/s/a/_g_a_s , head -->\\n<script>\\nwindow.ads_js_start = new Date().getTime();\\nvar imdbads = imdbads || {}; imdbads.cmd = imdbads.cmd || [];\\n</script>\\n<!-- begin SRA -->\\n<script>\\n(function(){var d=function(o){return Object.prototype.toString.call(o)===\"[object Array]\";},g=function(q,p){var o;for(o=0;o<q.length;o++){if(o in q){p.call(null,q[o],o);}}},h=[],k,b,l=false,n=false,f=function(){var o=[],p=[],q={};g(h,function(s){var r=\"\";g(s.dartsite.split(\"/\"),function(t){if(t!==\"\"){if(t in q){}else{q[t]=o.length;o.push(t);}r+=\"/\"+q[t];}});p.push(r);});return{iu_parts:o,enc_prev_ius:p};},c=function(){var o=[];g(h,function(q){var p=[];g(q.sizes,function(r){p.push(r.join(\"x\"));});o.push(p.join(\"|\"));});return o;},m=function(){var o=[];g(h,function(p){o.push(a(p.targeting));});return o.join(\"|\");},a=function(r,o){var q,p,s=[];for(q in r){p=[];for(j=0;j<r[q].length;j++){p.push(encodeURIComponent(r[q][j]));}if(o){s.push(q+\"=\"+encodeURIComponent(p.join(\",\")));}else{s.push(q+\"=\"+p.join(\",\"));}}return s.join(\"&\");},e=function(){var o=+new Date();if(n){return;}if(!this.readyState||\"loaded\"===this.readyState){n=true;if(l){imdbads.cmd.push(function(){for(i=0;i<h.length;i++){generic.monitoring.record_metric(h[i].name+\".fail\",csm.duration(o));}});}}};window.tinygpt={define_slot:function(r,q,o,p){h.push({dartsite:r.replace(/\\\\/$/,\"\"),sizes:q,name:o,targeting:p});},set_targeting:function(o){k=o;},callback:function(q){var r,p={},t,o,s=+new Date();l=false;for(r=0;r<h.length;r++){t=h[r].dartsite;o=h[r].name;if(q[r][t]){p[o]=q[r][t];}else{window.console&&console.error&&console.error(\"Unable to correlate GPT response for \"+o);}}imdbads.cmd.push(function(){for(r=0;r<h.length;r++){ad_utils.slot_events.trigger(h[r].name,\"request\",{timestamp:b});ad_utils.slot_events.trigger(h[r].name,\"tagdeliver\",{timestamp:s});}ad_utils.gpt.handle_response(p);});},send:function(){var r=[],q=function(s,t){if(d(t)){t=t.join(\",\");}if(t){r.push(s+\"=\"+encodeURIComponent(\"\"+t));}},o,p;if(h.length===0){tinygpt.callback({});return;}q(\"gdfp_req\",\"1\");q(\"correlator\",Math.floor(4503599627370496*Math.random()));q(\"output\",\"json_html\");q(\"callback\",\"tinygpt.callback\");q(\"impl\",\"fifs\");q(\"json_a\",\"1\");result=f();q(\"iu_parts\",result.iu_parts);q(\"enc_prev_ius\",result.enc_prev_ius);q(\"prev_iu_szs\",c());q(\"prev_scp\",m());q(\"cust_params\",a(k,true));o=document.createElement(\"script\");p=document.getElementsByTagName(\"script\")[0];o.async=true;o.type=\"text/javascript\";o.src=\"http://pubads.g.doubleclick.net/gampad/ads?\"+r.join(\"&\");o.id=\"tinygpt\";o.onload=o.onerror=o.onreadystatechange=e;l=true;p.parentNode.insertBefore(o,p);b=+new Date();}};})();</script>\\n<script>\\ntinygpt.define_slot(\\'/4215/imdb2.consumer.main/find\\',\\n[[300,250],[300,600],[11,1]],\\n\\'top_rhs\\',\\n{\\n\\'p\\': [\\'tr\\']\\n});\\ntinygpt.define_slot(\\'/4215/imdb2.consumer.main/find\\',\\n[[728,90],[1008,150],[1008,200],[1008,30],[970,250],[9,1]],\\n\\'top_ad\\',\\n{\\n\\'p\\': [\\'top\\',\\'t\\']\\n});\\ntinygpt.set_targeting({\\n\\'fv\\' : [\\'1\\'],\\n\\'ab\\' : [\\'f\\'],\\n\\'c\\' : [\\'0\\'],\\n\\'bpx\\' : [\\'1\\'],\\n\\'u\\': [\\'771496913748\\'],\\n\\'oe\\': [\\'utf-8\\']\\n});\\ntinygpt.send();\\n</script>\\n<!-- begin ads header -->\\n<script src=\"http://ia.media-imdb.com/images/G/01/imdbads/js/collections/ads-tarnhelm-4142269441._CB313481380_.js\"></script>\\n<script>\\ndoWithAds = function(){};\\n</script>\\n<script>\\ndoWithAds = function(inside, failureMessage){\\nif (\\'consoleLog\\' in window &&\\n\\'generic\\' in window &&\\n\\'ad_utils\\' in window &&\\n\\'custom\\' in window &&\\n\\'monitoring\\' in generic &&\\n\\'document_is_ready\\' in generic) {\\ntry{\\ninside.call(this);\\n}catch(e) {\\nif ( window.ueLogError ) {\\nif(typeof failureMessage !== \\'undefined\\'){\\ne.message = failureMessage;\\n}\\ne.attribution = \"Advertising\";\\ne.logLevel = \"ERROR\";\\nueLogError(e);\\n}\\nif( (document.location.hash.match(\\'debug=1\\')) &&\\n(typeof failureMessage !== \\'undefined\\') ){\\nconsole.error(failureMessage);\\n}\\n}\\n} else {\\nif( (document.location.hash.match(\\'debug=1\\')) &&\\n(typeof failureMessage !== \\'undefined\\') ){\\nconsole.error(failureMessage);\\n}\\n}\\n};\\n</script><script>\\ndoWithAds(function(){\\ngeneric.monitoring.record_metric(\"ads_js_request_to_done\", (new Date().getTime()) - window.ads_js_start);\\ngeneric.monitoring.set_forester_info(\"main\");\\ngeneric.monitoring.set_twilight_info(\\n\"main\",\\n\"Other\",\\n\"0ebdb7ae613048b8929319d279fbf2e692dbef74\",\\n\"2015-08-31T15%3A23%3A06GMT\",\\n\"http://s.media-imdb.com/twilight/?\",\\n\"consumer\");\\ngeneric.send_csm_head_metrics && generic.send_csm_head_metrics();\\ngeneric.monitoring.start_timing(\"page_load\");\\ngeneric.seconds_to_midnight = 56214;\\ngeneric.days_to_midnight = 0.6506249904632568;\\nad_utils.set_slots_on_page({ \\'injected_billboard\\':1, \\'injected_navstrip\\':1, \\'bottom_ad\\':1, \\'top_ad\\':1, \\'top_rhs\\':1, \\'rhs_cornerstone\\':1 });\\ncustom.full_page.data_url = \"http://ia.media-imdb.com/images/G/01/imdbads/js/graffiti_data-1582251138._CB317085808_.js\";\\nconsoleLog(\\'advertising initialized\\',\\'ads\\');\\n},\"ads js missing, skipping ads setup.\");\\nvar _gaq = _gaq || [];\\n_gaq.push([\\'_setCustomVar\\', 4, \\'ads_abtest_treatment\\', \\'f\\']);\\n</script>\\n<script>doWithAds(function() { ad_utils.ads_header.done(); });</script>\\n<!-- end ads header --><!-- end m/s/a/_g_a_s , head -->\\n\\n<script src=\"http://i.media-imdb.com/images/SFd27a377a4866ce46bc384cb601e44fcc/js/cc/yesScript.js\" ></script>        </head>\\n        <body id=\"styleguide-v2\" class=\"fixed\">\\n            <div id=\"hidden_pre_root_content\">\\n<!-- start m/s/a/_g_a_s , body -->\\n<!-- end m/s/a/_g_a_s , body -->\\n\\n            </div>\\n            <div id=\"wrapper\">\\n                <div id=\"root\">\\n\\n\\n\\n\\n\\n\\n\\n<div id=\"nb20\" class=\"navbarSprite\">\\n    <div id=\"supertab\">\\n\\n\\n<!-- begin TOP_AD -->\\n<div id=\"top_ad_wrapper\" class=\"dfp_slot\">\\n<script>\\nwindow.generic = window.generic || {};\\ngeneric.alphalfaComponents = {\\n\"alphalfa-container.html\" : \"http://ia.media-imdb.com/images/G/01/imdbads/alphalfa-container-253150330._CB315223742_.html\",\\n\"js/collections/alphalfa.js\" : \"http://ia.media-imdb.com/images/G/01/imdbads/js/collections/alphalfa-2513524760._CB315223700_.js\"\\n};\\n</script>\\n<script type=\"text/javascript\">\\ndoWithAds(function(){\\nad_utils.register_ad(\\'top_ad\\');\\n});\\n</script>\\n<iframe data-dart-params=\"#imdb2.consumer.main/find;!TILE!;sz=728x90,1008x150,1008x200,1008x30,970x250,9x1;p=top;p=t;fv=1;ab=f;bpx=1;c=0;oe=utf-8;[CLIENT_SIDE_KEYVALUES];u=771496913748;ord=771496913748?\" id=\"top_ad\" name=\"top_ad\" class=\"yesScript\" width=\"0\" height=\"85\" data-original-width=\"0\" data-original-height=\"85\" data-config-width=\"0\" data-config-height=\"85\" data-cookie-width=\"null\" data-cookie-height=\"null\" marginwidth=\"0\" marginheight=\"0\" frameborder=\"0\" scrolling=\"no\" allowtransparency=\"true\" onload=\"doWithAds.call(this, function(){ ad_utils.on_ad_load(this); });\"></iframe>\\n<noscript><a href=\"http://ad.doubleclick.net/N4215/jump/imdb2.consumer.main/find;tile=0;sz=728x90,1008x150,1008x200,1008x30,970x250,9x1;p=top;p=t;fv=1;ab=f;bpx=1;c=0;ord=771496913748?\" target=\"_blank\"><img src=\"http://ad.doubleclick.net/N4215/ad/imdb2.consumer.main/find;tile=0;sz=728x90,1008x150,1008x200,1008x30,970x250,9x1;p=top;p=t;fv=1;ab=f;bpx=1;c=0;ord=771496913748?\" border=\"0\" alt=\"advertisement\" /></a></noscript>\\n</div>\\n<div id=\"top_ad_reflow_helper\"></div>\\n<script>\\ndoWithAds(function(){\\nad_utils.gpt.render_ad(\\'top_ad\\');\\n}, \"ad_utils not defined, unable to render client-side GPT ad.\");\\n</script>\\n<!-- End TOP_AD --><!-- _get_ad_for_slot(TOP_AD) -->\\n</div>\\n\\t<div id=\"navbar\">\\n        <noscript><link rel=\"stylesheet\" type=\"text/css\" href=\"http://i.media-imdb.com/images/SF52e6b9f11712d3ec552179f6c869b63a/css2/site/consumer-navbar-no-js.css\"></noscript>\\n\\t\\t<span id=\"home_img_holder\">            <a    onclick=\"(new Image()).src=\\'/rg/home/navbar/images/b.gif?link=%2F%3Fref_%3Dnv_home\\';\"     href=\"/?ref_=nv_home\"    id=\\'home_img\\' class=\\'navbarSprite\\' title=\\'Home\\' ></a>\\n\\n            <span class=\"alt_logo\">\\n                <a    onclick=\"(new Image()).src=\\'/rg/home/navbar/images/b.gif?link=%2F%3Fref_%3Dnv_home\\';\"     href=\"/?ref_=nv_home\"    title=\\'Home\\' >IMDb</a>\\n            </span>\\n        </span>\\n\\n\\n<form    onsubmit=\"(new Image()).src=\\'/rg/SEARCH-BOX/HEADER/images/b.gif?link=/find\\';\"    action=\"/find\"    method=\"get\" id=\"navbar-form\" class=\"nav-searchbar-inner\" accept-charset=\"utf-8\" >\\n\\n<div id=\"nb_search\" >\\n\\n  <noscript><div id=\"more_if_no_javascript\"><a href=\"/search/\">More</a></div></noscript>\\n  <button id=\"navbar-submit-button\" class=\"primary btn\" type=\"submit\"><div class=\"magnifyingglass navbarSprite\"></div></button>\\n  <input type=\"hidden\" name=\"ref_\" value=\"nv_sr_fn\" />\\n  <input type=\"text\" autocomplete=\"off\" value=\"\" name=\"q\" id=\"navbar-query\" placeholder=\"Find Movies, TV shows, Celebrities and more...\" >\\n  <div class=\"quicksearch_dropdown_wrapper\">\\n\\n<select\\n    class=\"quicksearch_dropdown navbarSprite\"\\n    name=\"s\"\\n    id=\"quicksearch\"\\n    onchange=\"jumpMenu(this); suggestionsearch_dropdown_choice(this);\">\\n\\n    <option  \\n     value=\"all\">All</option>\\n    <option  \\n     value=\"tt\">Titles</option>\\n    <option  \\n     value=\"ep\">TV Episodes</option>\\n    <option  \\n     value=\"nm\">Names</option>\\n    <option  \\n     value=\"co\">Companies</option>\\n    <option  \\n     value=\"kw\">Keywords</option>\\n    <option  \\n     value=\"ch\">Characters</option>\\n    <option  \\n     value=\"qu\">Quotes</option>\\n    <option  \\n     value=\"bi\">Bios</option>\\n    <option  \\n     value=\"pl\">Plots</option>\\n</select>\\n\\n  </div>\\n\\n<div id=\"navbar-suggestionsearch\"></div>\\n</div>\\n\\n</form>\\n\\n\\n<div id=\"megaMenu\">\\n    <ul id=\"consumer_main_nav\" class=\"main_nav\">\\n        <li class=\"spacer\"></li>\\n        <li class=\"css_nav_item\" id=\"navTitleMenu\" aria-haspopup=\"true\">\\n            <p class=\"navCategory\">\\n                <a     href=\"/movies-in-theaters/?ref_=nv_tp_inth_1\"    >Movies</a>,\\n                <a     href=\"/imdbpicks/monthly-tv-picks/?ref_=nv_tp_tvpicks_2\"    >TV</a><br />\\n                & <a     href=\"/showtimes/?ref_=nv_tp_sh_3\"    >Showtimes</a></p>\\n            <span class=\"downArrow\"></span>\\n            <div id=\"navMenu1\" class=\"sub_nav\">\\n                <div id=\"titleAd\"></div>\\n                <div class=\"subNavListContainer\">\\n                    <h5>MOVIES</h5>\\n                    <ul>\\n                        \\n                        <li><a     href=\"/movies-in-theaters/?ref_=nv_mv_inth_1\"    >In Theaters</a></li>\\n                        <li><a     href=\"/showtimes/?ref_=nv_mv_sh_2\"    >Showtimes & Tickets</a></li>\\n                        <li><a     href=\"/trailers/?ref_=nv_mv_tr_3\"    >Latest Trailers</a></li>\\n                        <li><a     href=\"/movies-coming-soon/?ref_=nv_mv_cs_4\"    >Coming Soon</a></li>\\n                        <li><a     href=\"/calendar/?ref_=nv_mv_cal_5\"    >Release Calendar</a></li>\\n                    </ul>\\n                    <h5>CHARTS & TRENDS</h5>\\n                    <ul>\\n                        <li><a     href=\"/search/title?count=100&title_type=feature,tv_series,tv_movie&explore=title_type,genres,year,countries&ref_=nv_ch_mm_1\"    >Popular Movies & TV</a></li>\\n                        <li><a     href=\"/chart/?ref_=nv_ch_cht_2\"    >Box Office</a></li>\\n                        <li><a     href=\"/search/title?count=100&groups=oscar_best_picture_winners&sort=year,desc&ref_=nv_ch_osc_3\"    >Oscar Winners</a></li>\\n                        <li><a     href=\"/chart/top?ref_=nv_ch_250_4\"    >Top 250 Movies</a></li>\\n                        <li><a     href=\"/genre/?ref_=nv_ch_gr_5\"    >Most Popular by Genre</a></li>\\n                    </ul>\\n                </div>\\n                <div class=\"subNavListContainer\">\\n                    <h5>TV & VIDEO</h5>\\n                    <ul>\\n                        <li><a     href=\"/imdbpicks/monthly-tv-picks/?ref_=nv_tvv_picks_1\"    >TV Picks</a></li>\\n                        <li><a     href=\"/tvgrid/?ref_=nv_tvv_ls_2\"    >On Tonight</a></li>\\n                        <li><a     href=\"/chart/toptv?ref_=nv_tvv_250_3\"    >Top 250 TV</a></li>\\n                        <li><a     href=\"/list/ls074093523/?ref_=nv_tvv_wn_4\"    >Watch Now on Amazon</a></li>\\n                        <li><a     href=\"/sections/dvd/?ref_=nv_tvv_dvd_5\"    >DVD & Blu-Ray</a></li>\\n                    </ul>\\n                    <h5>SPECIAL FEATURES</h5>\\n                    <ul>\\n                        <li><a     href=\"/academymuseum/?ref_=nv_sf_am_1\"    >Academy Museum</a></li>\\n                        <li><a     href=\"/imdbpicks/?ref_=nv_sf_pks_2\"    >IMDb Picks</a></li>\\n                        <li><a     href=\"/best-of/?ref_=nv_sf_bo_3\"    >Best of 2014</a></li>\\n                        <li><a     href=\"/x-ray/?ref_=nv_sf_xray_4\"    >X-Ray for Movies & TV</a></li>\\n                        <li><a     href=\"/whattowatch/?ref_=nv_sf_wtw_5\"    >What to Watch</a></li>\\n                    </ul>\\n                </div>\\n            </div>\\n        </li>\\n        <li class=\"spacer\"></li>\\n        <li class=\"css_nav_item\" id=\"navNameMenu\" aria-haspopup=\"true\">\\n            <p class=\"navCategory\">\\n                <a     href=\"/search/name?gender=male,female&ref_=nv_tp_cel_1\"    >Celebs</a>,\\n                <a     href=\"/awards-central/?ref_=nv_tp_awrd_2\"    >Events</a><br />\\n                & <a     href=\"/gallery/rg784964352?ref_=nv_tp_ph_3\"    >Photos</a></p>\\n            <span class=\"downArrow\"></span>\\n            <div id=\"navMenu2\" class=\"sub_nav\">\\n                <div id=\"nameAd\"></div>\\n                <div class=\"subNavListContainer\">\\n                    <h5>CELEBS</h5>\\n                    <ul>\\n                        <li><a     href=\"/search/name?birth_monthday=8-31&refine=birth_monthday&ref_=nv_cel_brn_1\"    >Born Today</a></li>\\n                        <li><a     href=\"/news/celebrity?ref_=nv_cel_nw_2\"    >Celebrity News</a></li>\\n                        <li><a     href=\"/search/name?gender=male,female&ref_=nv_cel_m_3\"    >Most Popular Celebs</a></li>\\n                    </ul>\\n                    <h5>PHOTOS</h5>\\n                    <ul>\\n                        <li><a     href=\"/gallery/rg784964352?ref_=nv_ph_ls_1\"    >Latest Stills</a></li>\\n                        <li><a     href=\"/gallery/rg1528338944?ref_=nv_ph_lp_2\"    >Latest Posters</a></li>\\n                        <li><a     href=\"/gallery/rg2465176320?ref_=nv_ph_lv_3\"    >Photos We Love</a></li>\\n                    </ul>\\n                </div>\\n                <div class=\"subNavListContainer\">\\n                    <h5>EVENTS</h5>\\n                    <ul>\\n                        <li><a     href=\"/awards-central/?ref_=nv_ev_awrd_1\"    >Awards Central</a></li>\\n                        <li><a     href=\"/sundance/?ref_=nv_ev_sun_2\"    >Sundance</a></li>\\n                        <li><a     href=\"/sxsw/?ref_=nv_ev_sxsw_3\"    >SXSW Film Festival</a></li>\\n                        <li><a     href=\"/tribeca/?ref_=nv_ev_tri_4\"    >Tribeca</a></li>\\n                        <li><a     href=\"/cannes/?ref_=nv_ev_can_5\"    >Cannes</a></li>\\n                        <li><a     href=\"/comic-con/?ref_=nv_ev_comic_6\"    >Comic-Con</a></li>\\n                        <li><a     href=\"/emmys/?ref_=nv_ev_rte_7\"    >Road to the Emmys</a></li>\\n                        <li><a     href=\"/venice/?ref_=nv_ev_venice_8\"    >Venice Film Festival</a></li>\\n                        <li><a     href=\"/toronto/?ref_=nv_ev_tff_9\"    >Toronto Film Festival</a></li>\\n                        <li><a     href=\"/awards-central/?ref_=nv_ev_all_10\"    >More Popular Events</a></li>\\n                    </ul>\\n                </div>\\n            </div>\\n        </li>\\n        <li class=\"spacer\"></li>\\n        <li class=\"css_nav_item\" id=\"navNewsMenu\" aria-haspopup=\"true\">\\n            <p class=\"navCategory\">\\n                <a     href=\"/news/top?ref_=nv_tp_nw_1\"    >News</a> &<br />\\n                <a     href=\"/boards/?ref_=nv_tp_bd_2\"    >Community</p>\\n            <span class=\"downArrow\"></span>\\n            <div id=\"navMenu3\" class=\"sub_nav\">\\n                <div id=\"latestHeadlines\">\\n                    <div class=\"subNavListContainer\">\\n                        <h5>LATEST HEADLINES</h5>\\n                        \\n<ul>\\n    <li itemprop=\"headline\">\\n        <a     href=\"/news/ni58952531/?ref_=nb_nwt_1\"    >\\n            Wes Craven, &#x2018;Scream&#x2019; and &#x2018;Nightmare on Elm Street&#x2019; Director, Dies at 76</a><br />\\n            <span class=\"time\">13 hours ago\\n</span>\\n    </li>\\n    <li itemprop=\"headline\">\\n        <a     href=\"/news/ni58951700/?ref_=nb_nwt_2\"    >\\n            Weekend Report -&#x27;Compton&#x27; Wins &#x27;War Room&#x27; Rumble</a><br />\\n            <span class=\"time\">29 August 2015 8:28 PM, PDT\\n</span>\\n    </li>\\n    <li itemprop=\"headline\">\\n        <a     href=\"/news/ni58951294/?ref_=nb_nwt_3\"    >\\n            Oliver Sacks, Neurologist and &#x27;Awakenings&#x27; Author, Dies at 82</a><br />\\n            <span class=\"time\">30 August 2015 3:20 AM, PDT\\n</span>\\n    </li>\\n</ul>\\n\\n                    </div>\\n                </div>\\n                <div class=\"subNavListContainer\">\\n                    <h5>NEWS</h5>\\n                    <ul>\\n                        <li><a     href=\"/news/top?ref_=nv_nw_tp_1\"    >Top News</a></li>\\n                        <li><a     href=\"/news/movie?ref_=nv_nw_mv_2\"    >Movie News</a></li>\\n                        <li><a     href=\"/news/tv?ref_=nv_nw_tv_3\"    >TV News</a></li>\\n                        <li><a     href=\"/news/celebrity?ref_=nv_nw_cel_4\"    >Celebrity News</a></li>\\n                        <li><a     href=\"/news/indie?ref_=nv_nw_ind_5\"    >Indie News</a></li>\\n                    </ul>\\n                    <h5>COMMUNITY</h5>\\n                    <ul>\\n                        <li><a     href=\"/boards/?ref_=nv_cm_bd_1\"    >Message Boards</a></li>\\n                        <li><a     href=\"/czone/?ref_=nv_cm_cz_2\"    >Contributor Zone</a></li>\\n                        <li><a     href=\"/games/guess?ref_=nv_cm_qz_3\"    >Quiz Game</a></li>\\n                        <li><a     href=\"/poll/?ref_=nv_cm_pl_4\"    >Polls</a></li>\\n                    </ul>\\n                </div>\\n            </div>\\n        </li>\\n        <li class=\"spacer\"></li>\\n        <li class=\"css_nav_item\" id=\"navWatchlistMenu\" aria-haspopup=\"true\">\\n            \\n<p class=\"navCategory singleLine watchlist\"><a     href=\"/list/watchlist?ref_=nv_wl_all_0\"    >Watchlist</a>\\n</p>\\n<span class=\"downArrow\"></span>\\n<div id=\"navMenu4\" class=\"sub_nav\">\\n    <h5>\\n        RECENTLY ADDED\\n    </h5> \\n    <ul id=\"navWatchlist\">\\n    </ul>\\n    <script>\\n    if (!(\\'imdb\\' in window)) { window.imdb = {}; }\\n    window.imdb.watchlistTeaserData = [\\n        {\\n            href : \"/register/login\",\\n            id : \"wlLogin\",\\n        src  : \"http://i.media-imdb.com/images/SF77aec4b719e703a39cac8d5566a9a0e0/navbar/watchlist_slot1_logged_out.jpg\"\\n        }\\n,        {\\n        href : \"/search/title?count=100&title_type=feature,tv_series\",\\n        src  : \"http://i.media-imdb.com/images/SF58fa0cd127839460ec17b7302830564f/navbar/watchlist_slot2_popular.jpg\"\\n        }\\n,        {\\n        href : \"/chart/top\",\\n        src  : \"http://i.media-imdb.com/images/SFe1df4328a14bfcbe6b5cf6fad771c2e4/navbar/watchlist_slot3_top250.jpg\"\\n        }\\n    ];\\n    </script>\\n</div>\\n\\n        </li>\\n        <li class=\"spacer\"></li>\\n    </ul>\\n    <script>\\n    if (!(\\'imdb\\' in window)) { window.imdb = {}; }\\n    window.imdb.navbarAdSlots = {\"nameAd\":{\"clickThru\":\"http://www.imdb.com/name/nm1567113/\",\"imageUrl\":\"http://ia.media-imdb.com/images/M/MV5BMjE0MTE5ODE4Nl5BMl5BanBnXkFtZTcwNjYzNTI4Nw@@._V1._SX250_CR0,0,250,315_CT10_.jpg\",\"rank\":\"129\",\"headline\":\"Jessica Chastain\"},\"titleAd\":{\"clickThru\":\"http://www.imdb.com/title/tt0111161/\",\"imageUrl\":\"http://ia.media-imdb.com/images/M/MV5BMTkzMTY0MjE5MV5BMl5BanBnXkFtZTcwODMxNDY3Mw@@._V1._SY317_CR1,1,410,315_.jpg\",\"titleYears\":\"1994\",\"titleDisplayBase\":{\"displayTitleTypeOriginal\":\"movie\",\"primaryTitleText\":\"The Shawshank Redemption\",\"titleId\":\"tt0111161\",\"displayTitleType\":\"movie\",\"regionalTitleTexts\":[{\"region\":\"AR\",\"title\":\"Sue\\xc3\\xb1os de libertad\"},{\"region\":\"AT\",\"title\":\"Die Verurteilten\"},{\"region\":\"AZ\",\"title\":\"Shoushenkden Qacish\"},{\"language\":\"bg\",\"region\":\"BG\",\"title\":\"\\xd0\\x98\\xd0\\xb7\\xd0\\xba\\xd1\\x83\\xd0\\xbf\\xd0\\xbb\\xd0\\xb5\\xd0\\xbd\\xd0\\xb8\\xd0\\xb5\\xd1\\x82\\xd0\\xbe \\xd0\\xa8\\xd0\\xbe\\xd1\\x83\\xd1\\x88\\xd0\\xb5\\xd0\\xbd\\xd0\\xba\"},{\"region\":\"BR\",\"title\":\"Um Sonho de Liberdade\"},{\"language\":\"fr\",\"region\":\"CA\",\"title\":\"\\xc3\\x80 l\\'ombre de Shawshank\"},{\"region\":\"CL\",\"title\":\"Sue\\xc3\\xb1os de fuga\"},{\"language\":\"cmn\",\"region\":\"CN\",\"title\":\"Xiao shen ke de jiu shu\"},{\"region\":\"CZ\",\"title\":\"Vykoupen\\xc3\\xad z veznice Shawshank\"},{\"region\":\"DE\",\"title\":\"Die Verurteilten\"},{\"region\":\"DK\",\"title\":\"En verden udenfor\"},{\"region\":\"EE\",\"title\":\"Shawshanki lunastus\"},{\"region\":\"ES\",\"title\":\"Cadena perpetua\"},{\"region\":\"FI\",\"title\":\"Rita Hayworth - avain pakoon\"},{\"language\":\"sv\",\"region\":\"FI\",\"title\":\"Rita Hayworth - nyckel till flykten\"},{\"region\":\"FR\",\"title\":\"Les \\xc3\\xa9vad\\xc3\\xa9s\"},{\"region\":\"GE\",\"title\":\"Gaqceva shoushenkidan\"},{\"region\":\"GR\",\"title\":\"\\xce\\xa4\\xce\\xb5\\xce\\xbb\\xce\\xb5\\xcf\\x85\\xcf\\x84\\xce\\xb1\\xce\\xaf\\xce\\xb1 \\xce\\xad\\xce\\xbe\\xce\\xbf\\xce\\xb4\\xce\\xbf\\xcf\\x82: \\xce\\xa1\\xce\\xaf\\xcf\\x84\\xce\\xb1 \\xce\\xa7\\xce\\xad\\xce\\xb9\\xce\\xb3\\xce\\xbf\\xcf\\x85\\xce\\xbf\\xcf\\x81\\xce\\xb8\"},{\"region\":\"HR\",\"title\":\"Iskupljenje u Shawshanku\"},{\"region\":\"HU\",\"title\":\"A rem\\xc3\\xa9ny rabjai\"},{\"language\":\"he\",\"region\":\"IL\",\"title\":\"Homot Shel Tikva\"},{\"language\":\"fa\",\"region\":\"IR\",\"title\":\"Rastgari Dar Shawshank\"},{\"region\":\"IS\",\"title\":\"The Shawshank Redemption\"},{\"region\":\"IT\",\"title\":\"Le ali della libert\\xc3\\xa0\"},{\"region\":\"JP\",\"title\":\"Sh\\xc3\\xb4shanku no sora ni\"},{\"region\":\"LT\",\"title\":\"Pabegimas is Sousenko\"},{\"region\":\"MX\",\"title\":\"Sue\\xc3\\xb1os de libertad\"},{\"region\":\"NO\",\"title\":\"Frihetens regn\"},{\"region\":\"PE\",\"title\":\"Sue\\xc3\\xb1os de fuga\"},{\"region\":\"PL\",\"title\":\"Skazani na Shawshank\"},{\"region\":\"PT\",\"title\":\"Os Condenados de Shawshank\"},{\"region\":\"RO\",\"title\":\"\\xc3\\x8enchisoarea \\xc3\\xaengerilor\"},{\"region\":\"RS\",\"title\":\"Bekstvo iz \\xc5\\xa0o\\xc5\\xa1enka\"},{\"region\":\"RU\",\"title\":\"\\xd0\\x9f\\xd0\\xbe\\xd0\\xb1\\xd0\\xb5\\xd0\\xb3 \\xd0\\xb8\\xd0\\xb7 \\xd0\\xa8\\xd0\\xbe\\xd1\\x83\\xd1\\x88\\xd0\\xb5\\xd0\\xbd\\xd0\\xba\\xd0\\xb0\"},{\"region\":\"SE\",\"title\":\"Nyckeln till frihet\"},{\"region\":\"SI\",\"title\":\"Kaznilnica odresitve\"},{\"region\":\"SK\",\"title\":\"Vyk\\xc3\\xbapenie z v\\xc3\\xa4znice Shawshank\"},{\"language\":\"tr\",\"region\":\"TR\",\"title\":\"Esaretin Bedeli\"},{\"region\":\"UA\",\"title\":\"\\xd0\\x92\\xd1\\x82\\xd0\\xb5\\xd1\\x87\\xd0\\xb0 \\xd0\\xb7 \\xd0\\xa8\\xd0\\xbe\\xd1\\x83\\xd1\\x88\\xd0\\xb5\\xd0\\xbd\\xd0\\xba\\xd0\\xb0\"},{\"region\":\"US\",\"title\":\"The Shawshank Redemption\"},{\"region\":\"UY\",\"title\":\"Sue\\xc3\\xb1o de libertad\"},{\"region\":\"VN\",\"title\":\"Nh\\xc3\\xa0 t\\xc3\\xb9 Shawshank\"},{\"language\":\"es\",\"region\":\"XWW\",\"title\":\"Sue\\xc3\\xb1o de fuga\"}],\"year\":\"1994\"},\"rank\":1,\"headline\":\"The Shawshank Redemption\"}};\\n    </script>\\n</div>\\n\\n\\n\\n<div id=\"nb_extra\">\\n    <ul id=\"nb_extra_nav\" class=\"main_nav\">\\n        <li class=\"css_nav_item\" id=\"navProMenu\" aria-haspopup=\"true\">\\n            <p class=\"navCategory\">\\n                <a     href=\"http://pro.imdb.com/signup/index.html?rf=cons_nb_hm&ref_=cons_nb_hm\"    >\\n                    <img alt=\"IMDbPro Menu\" src=\"http://i.media-imdb.com/images/SF4a741137cf9a260e127fef64455ebfbc/navbar/imdbpro_logo_nb.png\" />\\n                </a>\\n            </p>\\n            <span class=\"downArrow\"></span>\\n            <div id=\"navMenuPro\" class=\"sub_nav\">\\n                <a    id=\"proLink\"     href=\"http://pro.imdb.com/signup/index.html?rf=cons_nb_hm&ref_=cons_nb_hm\"    >\\n                    <div id=\"proAd\">\\n                    </div>\\n                    <div class=\"subNavListContainer\">\\n                        <img alt=\"Go to IMDbPro\" title=\"Go to IMDbPro\" src=\"http://i.media-imdb.com/images/SF8104186305d957dd4ee4455f5434b40c/navbar/imdbpro_logo_menu.png\" />\\n                        <h5>GET INFORMED</h5>\\n                        <p>Industry information at your fingertips</p>\\n                        <h5>GET CONNECTED</h5>\\n                        <p>Over 200,000 Hollywood insiders</p>\\n                        <h5>GET DISCOVERED</h5>\\n                        <p>Enhance your IMDb Page</p>\\n                        <p><strong>Go to IMDbPro &raquo;</strong></p>\\n                    </div>\\n                </a>\\n            </div>\\n        </li>\\n        <li><span class=\"ghost\">|</span></li>\\n        <li>\\n            <a     href=\"/help/?ref_=nb_hlp\"    >\\n                Help</a>\\n        </li>\\n        <li class=\"social\">\\n            \\n\\n\\n<a href=\"https://www.facebook.com/imdb\"    title=\"Follow IMDb on Facebook\"\\n  target=\"_blank\" >\\n  <span class=\"desktop-sprite follow-facebook\"></span>\\n</a>\\n\\n\\n<a href=\"https://twitter.com/imdb\"    title=\"Follow IMDb on Twitter\"\\n  target=\"_blank\" >\\n  <span class=\"desktop-sprite follow-twitter\"></span>\\n</a>\\n\\n\\n<a href=\"https://instagram.com/imdblive/\"    title=\"Follow IMDb on Instagram\"\\n  target=\"_blank\" >\\n  <span class=\"desktop-sprite follow-instagram\"></span>\\n</a>\\n\\n        </li>\\n    </ul>\\n    <script>\\n        if (!(\\'imdb\\' in window)) { window.imdb = {}; }\\n        window.imdb.proMenuTeaser = {\\n            imageUrl : \"http://i.media-imdb.com/images/SF2345fb7eb51cd4cf2158ed364c263a05/navbar/imdbpro_menu_user.jpg\"\\n        };\\n    </script> \\n</div>\\n\\n\\n<div id=\"nb_personal\">\\n\\n<ul id=\"consumer_user_nav\" class=\"main_nav\">\\n    <li class=\"css_nav_item\" id=\"navUserMenu\" aria-haspopup=\"true\">\\n        <p class=\"navCategory singleLine\">        \\n            <a    id=\"nblogin\"    rel=login href=\"/register/login?ref_=nv_usr_lgin_1\"    >\\n                Login\\n            </a>\\n        </p>\\n        <span class=\"downArrow\"></span>\\n        <div class=\"sub_nav\">\\n            <div class=\"subNavListContainer\">\\n                <br />\\n                <ul>\\n                    <li>\\n                        <a     href=\"https://secure.imdb.com/register-imdb/form-v2?ref_=nv_usr_reg_2\"    >\\n                            Register\\n                        </a>\\n                    </li>\\n                    <li>\\n                        <a    id=\"nblogin\"    rel=login href=\"/register/login?ref_=nv_usr_lgin_3\"    >\\n                            Login\\n                        </a>\\n                    </li>\\n                </ul>\\n            </div>\\n        </div>\\n    </li>\\n</ul>\\n\\n\\n</div>\\n\\n    </div>\\n</div>\\n\\n\\n\\n\\n\\n\\n\\n<!-- begin injectable INJECTED_NAVSTRIP -->\\n<div id=\"injected_navstrip_wrapper\" class=\"injected_slot\">\\n<iframe id=\"injected_navstrip\" name=\"injected_navstrip\" class=\"yesScript\" width=\"0\" height=\"0\" data-dart-params=\"#imdb2.consumer.main/find;oe=utf-8;u=771496913748;ord=771496913748?\" data-original-width=\"0\" data-original-height=\"0\" data-config-width=\"0\" data-config-height=\"0\" data-cookie-width=\"null\" data-cookie-height=\"null\" marginwidth=\"0\" marginheight=\"0\" frameborder=\"0\" scrolling=\"no\" allowtransparency=\"true\" onload=\"doWithAds.call(this, function(){ ad_utils.on_ad_load(this); });\"></iframe> </div>\\n<script>\\ndoWithAds(function(){\\nad_utils.inject_ad.register(\\'injected_navstrip\\');\\n}, \"ad_utils not defined, unable to render injected ad.\");\\n</script>\\n<div id=\"injected_navstrip_reflow_helper\"></div>\\n<!-- end injectable INJECTED_NAVSTRIP --><!-- _get_ad_for_slot(INJECTED_NAVSTRIP) -->\\n\\n\\n\\n        \\n\\n\\n\\n\\n\\n\\n\\n\\n\\n<div id=\"pagecontent\">\\n\\n\\n\\n<!-- begin injectable INJECTED_BILLBOARD -->\\n<div id=\"injected_billboard_wrapper\" class=\"injected_slot\">\\n<iframe id=\"injected_billboard\" name=\"injected_billboard\" class=\"yesScript\" width=\"0\" height=\"0\" data-dart-params=\"#imdb2.consumer.main/find;oe=utf-8;u=771496913748;ord=771496913748?\" data-original-width=\"0\" data-original-height=\"0\" data-config-width=\"0\" data-config-height=\"0\" data-cookie-width=\"null\" data-cookie-height=\"null\" marginwidth=\"0\" marginheight=\"0\" frameborder=\"0\" scrolling=\"no\" allowtransparency=\"true\" onload=\"doWithAds.call(this, function(){ ad_utils.on_ad_load(this); });\"></iframe> </div>\\n<script>\\ndoWithAds(function(){\\nad_utils.inject_ad.register(\\'injected_billboard\\');\\n}, \"ad_utils not defined, unable to render injected ad.\");\\n</script>\\n<div id=\"injected_billboard_reflow_helper\"></div>\\n<!-- end injectable INJECTED_BILLBOARD --><!-- _get_ad_for_slot(INJECTED_BILLBOARD) -->\\n\\n<div id=\"content-2-wide\">\\n<div id=\"header\">\\n<h1>Most Popular   Hindi-Language Feature Films\\n</h1>\\n\\n</div>\\n<div id=\"main\">\\n\\n\\n<div class=\"leftright\">\\n<div id=\"left\">\\n1-50 of 11,698\\ntitles.\\n</div>\\n<div id=\"right\">\\n<span class=\"pagination\">\\n<a href=\"/search/title?languages=hi%7C1&sort=moviemeter,asc&start=51&title_type=feature\">Next&nbsp;&raquo;</a>\\n</span>\\n</div>\\n</div>\\n<br class=\"clear\" />\\n<table class=\"results\">\\n<tr>\\n  <th colspan=\"4\">Sort by: <b><a href=\"?at=0&languages=hi%7C1&sort=moviemeter,desc&title_type=feature\">MOVIEmeter&#x25B2;</a></b> | <a href=\"?at=0&languages=hi%7C1&sort=alpha&title_type=feature\">A-Z</a> | <a href=\"?at=0&languages=hi%7C1&sort=user_rating&title_type=feature\">User Rating</a> | <a href=\"?at=0&languages=hi%7C1&sort=num_votes&title_type=feature\">Num Votes</a> | <a href=\"?at=0&languages=hi%7C1&sort=boxoffice_gross_us&title_type=feature\">US Box Office</a> | <a href=\"?at=0&languages=hi%7C1&sort=runtime&title_type=feature\">Runtime</a> | <a href=\"?at=0&languages=hi%7C1&sort=year&title_type=feature\">Year</a> | <a href=\"?at=0&languages=hi%7C1&sort=release_date_us&title_type=feature\">US Release Date</a>\\n</th>\\n</tr>\\n<tr class=\"even detailed\">\\n  <td class=\"number\">1.</td>\\n  <td class=\"image\">\\n    <a href=\"/title/tt3802576/\" title=\"Brothers (2015)\"><img src=\"http://ia.media-imdb.com/images/M/MV5BNzQ4Njg3Mjg5Nl5BMl5BanBnXkFtZTgwODE5MDg1NjE@._V1._SX54_CR0,0,54,74_.jpg\" height=\"74\" width=\"54\" alt=\"Brothers (2015)\" title=\"Brothers (2015)\"></a>\\n  </td>\\n  <td class=\"title\">\\n    \\n\\n<span class=\"wlb_wrapper\" data-tconst=\"tt3802576\" data-size=\"small\" data-caller-name=\"search\"></span>\\n\\n    <a href=\"/title/tt3802576/\">Brothers</a>\\n    <span class=\"year_type\">(2015)</span><br>\\n<div class=\"user_rating\">\\n\\n\\n<div class=\"rating rating-list\" data-auth=\"BCYmOOW2cixv6AoHs_HWq6k7ypG2noiXWUO34AyiVt0WNSTeqKxsoyvWk9QuUC5Yb2PBjCzkcdgbbtdRN3mDxl02_TDMRa5iO3DFwpDCMQmBf5RHkFTzK7Izt5rxZq6lcVHW\" id=\"tt3802576|imdb|7.1|7.1|advsearch\" data-ga-identifier=\"advsearch\"\\n title=\"Users rated this 7.1/10 (2,879 votes) - click stars to rate\">\\n<span class=\"rating-bg\">&nbsp;</span>\\n<span class=\"rating-imdb\" style=\"width: 99px\">&nbsp;</span>\\n<span class=\"rating-stars\">\\n<a href=\"/register/login?why=vote\" title=\"Register or login to rate this title\" rel=\"nofollow\"><span>1</span></a>\\n<a href=\"/register/login?why=vote\" title=\"Register or login to rate this title\" rel=\"nofollow\"><span>2</span></a>\\n<a href=\"/register/login?why=vote\" title=\"Register or login to rate this title\" rel=\"nofollow\"><span>3</span></a>\\n<a href=\"/register/login?why=vote\" title=\"Register or login to rate this title\" rel=\"nofollow\"><span>4</span></a>\\n<a href=\"/register/login?why=vote\" title=\"Register or login to rate this title\" rel=\"nofollow\"><span>5</span></a>\\n<a href=\"/register/login?why=vote\" title=\"Register or login to rate this title\" rel=\"nofollow\"><span>6</span></a>\\n<a href=\"/register/login?why=vote\" title=\"Register or login to rate this title\" rel=\"nofollow\"><span>7</span></a>\\n<a href=\"/register/login?why=vote\" title=\"Register or login to rate this title\" rel=\"nofollow\"><span>8</span></a>\\n<a href=\"/register/login?why=vote\" title=\"Register or login to rate this title\" rel=\"nofollow\"><span>9</span></a>\\n<a href=\"/register/login?why=vote\" title=\"Register or login to rate this title\" rel=\"nofollow\"><span>10</span></a>\\n</span>\\n<span class=\"rating-rating\"><span class=\"value\">7.1</span><span class=\"grey\">/</span><span class=\"grey\">10</span></span>\\n<span class=\"rating-cancel\"><a href=\"/title/tt3802576/vote?v=X;k=BCYmOOW2cixv6AoHs_HWq6k7ypG2noiXWUO34AyiVt0WNSTeqKxsoyvWk9QuUC5Yb2PBjCzkcdgbbtdRN3mDxl02_TDMRa5iO3DFwpDCMQmBf5RHkFTzK7Izt5rxZq6lcVHW\" title=\"Delete\" rel=\"nofollow\"><span>X</span></a></span>\\n&nbsp;</div>\\n\\n</div>\\n<span class=\"outline\">Two estranged, street-fighting brothers square off against each other in a mixed martial arts tournament.</span>\\n<span class=\"credit\">\\n    Dir: <a href=\"/name/nm1633551/\">Karan Malhotra</a>\\n    With: <a href=\"/name/nm0474774/\">Akshay Kumar</a>, <a href=\"/name/nm0006763/\">Jackie Shroff</a>, <a href=\"/name/nm3289096/\">Sidharth Malhotra</a>\\n</span>\\n    <span class=\"genre\"><a href=\"/genre/action\">Action</a> | <a href=\"/genre/drama\">Drama</a> | <a href=\"/genre/sport\">Sport</a></span>\\n    <span class=\"certificate\"></span>\\n    <span class=\"runtime\">156 mins.</span>\\n</td>\\n</tr>\\n<tr class=\"odd detailed\">\\n  <td class=\"number\">2.</td>\\n  <td class=\"image\">\\n    <a href=\"/title/tt4430212/\" title=\"Drishyam (2015)\"><img src=\"http://ia.media-imdb.com/images/M/MV5BMTYyMjgyNDY3N15BMl5BanBnXkFtZTgwOTMzNTE5NTE@._V1._SX54_CR0,0,54,74_.jpg\" height=\"74\" width=\"54\" alt=\"Drishyam (2015)\" title=\"Drishyam (2015)\"></a>\\n  </td>\\n  <td class=\"title\">\\n    \\n\\n<span class=\"wlb_wrapper\" data-tconst=\"tt4430212\" data-size=\"small\" data-caller-name=\"search\"></span>\\n\\n    <a href=\"/title/tt4430212/\">Drishyam</a>\\n    <span class=\"year_type\">(2015)</span><br>\\n<div class=\"user_rating\">\\n\\n\\n<div class=\"rating rating-list\" data-auth=\"BCYsDN7V58gQiEJjRHzE98H9zZK2noiXWUO34AyiVt0WNSScdA619bNCqMmzRHccCDCgkd71QMpKSZECJZMD-ATpqyKm1onJdE1WnaPJEagqdsEXHgYVhs-87ixyHXjcfh6p\" id=\"tt4430212|imdb|9.0|9.0|advsearch\" data-ga-identifier=\"advsearch\"\\n title=\"Users rated this 9.0/10 (10,801 votes) - click stars to rate\">\\n<span class=\"rating-bg\">&nbsp;</span>\\n<span class=\"rating-imdb\" style=\"width: 126px\">&nbsp;</span>\\n<span class=\"rating-stars\">\\n<a href=\"/register/login?why=vote\" title=\"Register or login to rate this title\" rel=\"nofollow\"><span>1</span></a>\\n<a href=\"/register/login?why=vote\" title=\"Register or login to rate this title\" rel=\"nofollow\"><span>2</span></a>\\n<a href=\"/register/login?why=vote\" title=\"Register or login to rate this title\" rel=\"nofollow\"><span>3</span></a>\\n<a href=\"/register/login?why=vote\" title=\"Register or login to rate this title\" rel=\"nofollow\"><span>4</span></a>\\n<a href=\"/register/login?why=vote\" title=\"Register or login to rate this title\" rel=\"nofollow\"><span>5</span></a>\\n<a href=\"/register/login?why=vote\" title=\"Register or login to rate this title\" rel=\"nofollow\"><span>6</span></a>\\n<a href=\"/register/login?why=vote\" title=\"Register or login to rate this title\" rel=\"nofollow\"><span>7</span></a>\\n<a href=\"/register/login?why=vote\" title=\"Register or login to rate this title\" rel=\"nofollow\"><span>8</span></a>\\n<a href=\"/register/login?why=vote\" title=\"Register or login to rate this title\" rel=\"nofollow\"><span>9</span></a>\\n<a href=\"/register/login?why=vote\" title=\"Register or login to rate this title\" rel=\"nofollow\"><span>10</span></a>\\n</span>\\n<span class=\"rating-rating\"><span class=\"value\">9.0</span><span class=\"grey\">/</span><span class=\"grey\">10</span></span>\\n<span class=\"rating-cancel\"><a href=\"/title/tt4430212/vote?v=X;k=BCYsDN7V58gQiEJjRHzE98H9zZK2noiXWUO34AyiVt0WNSScdA619bNCqMmzRHccCDCgkd71QMpKSZECJZMD-ATpqyKm1onJdE1WnaPJEagqdsEXHgYVhs-87ixyHXjcfh6p\" title=\"Delete\" rel=\"nofollow\"><span>X</span></a></span>\\n&nbsp;</div>\\n\\n</div>\\n<span class=\"outline\">Desperate measures are taken by a man who tries to save his family from the dark side of the law, after they commit an unexpected crime.</span>\\n<span class=\"credit\">\\n    Dir: <a href=\"/name/nm1723225/\">Nishikant Kamat</a>\\n    With: <a href=\"/name/nm0222426/\">Ajay Devgn</a>, <a href=\"/name/nm1328152/\">Shriya Saran</a>, <a href=\"/name/nm0007102/\">Tabu</a>\\n</span>\\n    <span class=\"genre\"><a href=\"/genre/drama\">Drama</a> | <a href=\"/genre/mystery\">Mystery</a> | <a href=\"/genre/thriller\">Thriller</a></span>\\n    <span class=\"certificate\"></span>\\n    <span class=\"runtime\">163 mins.</span>\\n</td>\\n</tr>\\n<tr class=\"even detailed\">\\n  <td class=\"number\">3.</td>\\n  <td class=\"image\">\\n    <a href=\"/title/tt1187043/\" title=\"3 Idiots (2009)\"><img src=\"http://ia.media-imdb.com/images/M/MV5BMTMyOTg0ODQ1OF5BMl5BanBnXkFtZTcwNjc0NTMwNQ@@._V1._SX54_CR0,0,54,74_.jpg\" height=\"74\" width=\"54\" alt=\"3 Idiots (2009)\" title=\"3 Idiots (2009)\"></a>\\n  </td>\\n  <td class=\"title\">\\n    \\n\\n<span class=\"wlb_wrapper\" data-tconst=\"tt1187043\" data-size=\"small\" data-caller-name=\"search\"></span>\\n\\n    <a href=\"/title/tt1187043/\">3 Idiots</a>\\n    <span class=\"year_type\">(2009)</span><br>\\n<div class=\"user_rating\">\\n\\n\\n<div class=\"rating rating-list\" data-auth=\"BCYtVdlMidvRVUWrviETFdK6k5O2noiXWUO34AyiVt0WNSSFQwgLx0XxH40rxnqH9DfQtK7JYfT-O78fyz4dn-FZ57MPP4sZh1KIVU6TYX-Lcxm6IToV5HfJBzw4ZqFXlJ3T\" id=\"tt1187043|imdb|8.5|8.5|advsearch\" data-ga-identifier=\"advsearch\"\\n title=\"Users rated this 8.5/10 (170,107 votes) - click stars to rate\">\\n<span class=\"rating-bg\">&nbsp;</span>\\n<span class=\"rating-imdb\" style=\"width: 119px\">&nbsp;</span>\\n<span class=\"rating-stars\">\\n<a href=\"/register/login?why=vote\" title=\"Register or login to rate this title\" rel=\"nofollow\"><span>1</span></a>\\n<a href=\"/register/login?why=vote\" title=\"Register or login to rate this title\" rel=\"nofollow\"><span>2</span></a>\\n<a href=\"/register/login?why=vote\" title=\"Register or login to rate this title\" rel=\"nofollow\"><span>3</span></a>\\n<a href=\"/register/login?why=vote\" title=\"Register or login to rate this title\" rel=\"nofollow\"><span>4</span></a>\\n<a href=\"/register/login?why=vote\" title=\"Register or login to rate this title\" rel=\"nofollow\"><span>5</span></a>\\n<a href=\"/register/login?why=vote\" title=\"Register or login to rate this title\" rel=\"nofollow\"><span>6</span></a>\\n<a href=\"/register/login?why=vote\" title=\"Register or login to rate this title\" rel=\"nofollow\"><span>7</span></a>\\n<a href=\"/register/login?why=vote\" title=\"Register or login to rate this title\" rel=\"nofollow\"><span>8</span></a>\\n<a href=\"/register/login?why=vote\" title=\"Register or login to rate this title\" rel=\"nofollow\"><span>9</span></a>\\n<a href=\"/register/login?why=vote\" title=\"Register or login to rate this title\" rel=\"nofollow\"><span>10</span></a>\\n</span>\\n<span class=\"rating-rating\"><span class=\"value\">8.5</span><span class=\"grey\">/</span><span class=\"grey\">10</span></span>\\n<span class=\"rating-cancel\"><a href=\"/title/tt1187043/vote?v=X;k=BCYtVdlMidvRVUWrviETFdK6k5O2noiXWUO34AyiVt0WNSSFQwgLx0XxH40rxnqH9DfQtK7JYfT-O78fyz4dn-FZ57MPP4sZh1KIVU6TYX-Lcxm6IToV5HfJBzw4ZqFXlJ3T\" title=\"Delete\" rel=\"nofollow\"><span>X</span></a></span>\\n&nbsp;</div>\\n\\n</div>\\n<span class=\"outline\">Two friends are searching for their long lost companion. They revisit their college days and recall the memories of their friend who inspired them to think differently, even as the rest of the world called them \"idiots\".</span>\\n<span class=\"credit\">\\n    Dir: <a href=\"/name/nm0386246/\">Rajkumar Hirani</a>\\n    With: <a href=\"/name/nm0451148/\">Aamir Khan</a>, <a href=\"/name/nm0534856/\">Madhavan</a>, <a href=\"/name/nm1587175/\">Mona Singh</a>\\n</span>\\n    <span class=\"genre\"><a href=\"/genre/comedy\">Comedy</a> | <a href=\"/genre/drama\">Drama</a></span>\\n    <span class=\"certificate\"><span title=\"PG_13\" class=\"us_pg_13 titlePageSprite\"></span></span>\\n    <span class=\"runtime\">170 mins.</span>\\n</td>\\n</tr>\\n<tr class=\"odd detailed\">\\n  <td class=\"number\">4.</td>\\n  <td class=\"image\">\\n    <a href=\"/title/tt3547616/\" title=\"All Is Well (2015)\"><img src=\"http://i.media-imdb.com/images/SF1f0a42ee1aa08d477a576fbbf7562eed/realm/feature.gif\" height=\"74\" width=\"54\" alt=\"All Is Well (2015)\" title=\"All Is Well (2015)\"></a>\\n  </td>\\n  <td class=\"title\">\\n    \\n\\n<span class=\"wlb_wrapper\" data-tconst=\"tt3547616\" data-size=\"small\" data-caller-name=\"search\"></span>\\n\\n    <a href=\"/title/tt3547616/\">All Is Well</a>\\n    <span class=\"year_type\">(2015)</span><br>\\n<div class=\"user_rating\">\\n\\n\\n<div class=\"rating rating-list\" data-auth=\"BCYn3aIlNmh4aeKqbEbbeLm3lpS2noiXWUO34AyiVt0WNSTKExIQ9f0sx21Jg937fdWXiL35gvYZsdnt8SYZutOISFeWZuK_uolJznRKHVKG27clE_0ZQHpSAKFuV5D-eBmH\" id=\"tt3547616|imdb|3.6|3.6|advsearch\" data-ga-identifier=\"advsearch\"\\n title=\"Users rated this 3.6/10 (352 votes) - click stars to rate\">\\n<span class=\"rating-bg\">&nbsp;</span>\\n<span class=\"rating-imdb\" style=\"width: 50px\">&nbsp;</span>\\n<span class=\"rating-stars\">\\n<a href=\"/register/login?why=vote\" title=\"Register or login to rate this title\" rel=\"nofollow\"><span>1</span></a>\\n<a href=\"/register/login?why=vote\" title=\"Register or login to rate this title\" rel=\"nofollow\"><span>2</span></a>\\n<a href=\"/register/login?why=vote\" title=\"Register or login to rate this title\" rel=\"nofollow\"><span>3</span></a>\\n<a href=\"/register/login?why=vote\" title=\"Register or login to rate this title\" rel=\"nofollow\"><span>4</span></a>\\n<a href=\"/register/login?why=vote\" title=\"Register or login to rate this title\" rel=\"nofollow\"><span>5</span></a>\\n<a href=\"/register/login?why=vote\" title=\"Register or login to rate this title\" rel=\"nofollow\"><span>6</span></a>\\n<a href=\"/register/login?why=vote\" title=\"Register or login to rate this title\" rel=\"nofollow\"><span>7</span></a>\\n<a href=\"/register/login?why=vote\" title=\"Register or login to rate this title\" rel=\"nofollow\"><span>8</span></a>\\n<a href=\"/register/login?why=vote\" title=\"Register or login to rate this title\" rel=\"nofollow\"><span>9</span></a>\\n<a href=\"/register/login?why=vote\" title=\"Register or login to rate this title\" rel=\"nofollow\"><span>10</span></a>\\n</span>\\n<span class=\"rating-rating\"><span class=\"value\">3.6</span><span class=\"grey\">/</span><span class=\"grey\">10</span></span>\\n<span class=\"rating-cancel\"><a href=\"/title/tt3547616/vote?v=X;k=BCYn3aIlNmh4aeKqbEbbeLm3lpS2noiXWUO34AyiVt0WNSTKExIQ9f0sx21Jg937fdWXiL35gvYZsdnt8SYZutOISFeWZuK_uolJznRKHVKG27clE_0ZQHpSAKFuV5D-eBmH\" title=\"Delete\" rel=\"nofollow\"><span>X</span></a></span>\\n&nbsp;</div>\\n\\n</div>\\n<span class=\"outline\">A road trip, undertaken by Rishi Kapoor and Abhishek Bachchan, is later joined by their mother.</span>\\n<span class=\"credit\">\\n    Dir: <a href=\"/name/nm1084488/\">Umesh Shukla</a>\\n    With: <a href=\"/name/nm0438501/\">Rishi Kapoor</a>, <a href=\"/name/nm0045393/\">Abhishek Bachchan</a>, <a href=\"/name/nm1821791/\">Asin</a>\\n</span>\\n    <span class=\"genre\"><a href=\"/genre/comedy\">Comedy</a> | <a href=\"/genre/drama\">Drama</a> | <a href=\"/genre/romance\">Romance</a></span>\\n    <span class=\"certificate\"></span>\\n    <span class=\"runtime\">126 mins.</span>\\n</td>\\n</tr>\\n<tr class=\"even detailed\">\\n  <td class=\"number\">5.</td>\\n  <td class=\"image\">\\n    <a href=\"/title/tt3449292/\" title=\"Manjhi: The Mountain Man (2015)\"><img src=\"http://ia.media-imdb.com/images/M/MV5BMjE1NzM3NjkwNl5BMl5BanBnXkFtZTgwMjc1NDUzNjE@._V1._SX54_CR0,0,54,74_.jpg\" height=\"74\" width=\"54\" alt=\"Manjhi: The Mountain Man (2015)\" title=\"Manjhi: The Mountain Man (2015)\"></a>\\n  </td>\\n  <td class=\"title\">\\n    \\n\\n<span class=\"wlb_wrapper\" data-tconst=\"tt3449292\" data-size=\"small\" data-caller-name=\"search\"></span>\\n\\n    <a href=\"/title/tt3449292/\">Manjhi: The Mountain Man</a>\\n    <span class=\"year_type\">(2015)</span><br>\\n<div class=\"user_rating\">\\n\\n\\n<div class=\"rating rating-list\" data-auth=\"BCYlZLKGHehgrINHcWiudENbl5W2noiXWUO34AyiVt0WNSSk42zSc0Cr7epGGCV6Nydye0SIDuWwg-icR1wTvwtHBV_bwniXOUw1baWNefOC45SHTCjK6pSsxlWNnIPrvIPc\" id=\"tt3449292|imdb|8.7|8.7|advsearch\" data-ga-identifier=\"advsearch\"\\n title=\"Users rated this 8.7/10 (2,674 votes) - click stars to rate\">\\n<span class=\"rating-bg\">&nbsp;</span>\\n<span class=\"rating-imdb\" style=\"width: 121px\">&nbsp;</span>\\n<span class=\"rating-stars\">\\n<a href=\"/register/login?why=vote\" title=\"Register or login to rate this title\" rel=\"nofollow\"><span>1</span></a>\\n<a href=\"/register/login?why=vote\" title=\"Register or login to rate this title\" rel=\"nofollow\"><span>2</span></a>\\n<a href=\"/register/login?why=vote\" title=\"Register or login to rate this title\" rel=\"nofollow\"><span>3</span></a>\\n<a href=\"/register/login?why=vote\" title=\"Register or login to rate this title\" rel=\"nofollow\"><span>4</span></a>\\n<a href=\"/register/login?why=vote\" title=\"Register or login to rate this title\" rel=\"nofollow\"><span>5</span></a>\\n<a href=\"/register/login?why=vote\" title=\"Register or login to rate this title\" rel=\"nofollow\"><span>6</span></a>\\n<a href=\"/register/login?why=vote\" title=\"Register or login to rate this title\" rel=\"nofollow\"><span>7</span></a>\\n<a href=\"/register/login?why=vote\" title=\"Register or login to rate this title\" rel=\"nofollow\"><span>8</span></a>\\n<a href=\"/register/login?why=vote\" title=\"Register or login to rate this title\" rel=\"nofollow\"><span>9</span></a>\\n<a href=\"/register/login?why=vote\" title=\"Register or login to rate this title\" rel=\"nofollow\"><span>10</span></a>\\n</span>\\n<span class=\"rating-rating\"><span class=\"value\">8.7</span><span class=\"grey\">/</span><span class=\"grey\">10</span></span>\\n<span class=\"rating-cancel\"><a href=\"/title/tt3449292/vote?v=X;k=BCYlZLKGHehgrINHcWiudENbl5W2noiXWUO34AyiVt0WNSSk42zSc0Cr7epGGCV6Nydye0SIDuWwg-icR1wTvwtHBV_bwniXOUw1baWNefOC45SHTCjK6pSsxlWNnIPrvIPc\" title=\"Delete\" rel=\"nofollow\"><span>X</span></a></span>\\n&nbsp;</div>\\n\\n</div>\\n<span class=\"outline\">Using only a hammer and a chisel, a man spends twenty-two years carving a road through a treacherous mountain.</span>\\n<span class=\"credit\">\\n    Dir: <a href=\"/name/nm0576559/\">Ketan Mehta</a>\\n    With: <a href=\"/name/nm1596350/\">Nawazuddin Siddiqui</a>, <a href=\"/name/nm2331000/\">Radhika Apte</a>, <a href=\"/name/nm6199189/\">Ashutosh Acharya</a>\\n</span>\\n    <span class=\"genre\"><a href=\"/genre/biography\">Biography</a> | <a href=\"/genre/drama\">Drama</a> | <a href=\"/genre/history\">History</a> | <a href=\"/genre/romance\">Romance</a></span>\\n    <span class=\"certificate\"></span>\\n    <span class=\"runtime\">120 mins.</span>\\n</td>\\n</tr>\\n<tr class=\"odd detailed\">\\n  <td class=\"number\">6.</td>\\n  <td class=\"image\">\\n    <a href=\"/title/tt3767372/\" title=\"Piku (2015)\"><img src=\"http://ia.media-imdb.com/images/M/MV5BMTUwOTMxNjc2OV5BMl5BanBnXkFtZTgwODQ4OTMxNTE@._V1._SY74_CR1,0,54,74_.jpg\" height=\"74\" width=\"54\" alt=\"Piku (2015)\" title=\"Piku (2015)\"></a>\\n  </td>\\n  <td class=\"title\">\\n    \\n\\n<span class=\"wlb_wrapper\" data-tconst=\"tt3767372\" data-size=\"small\" data-caller-name=\"search\"></span>\\n\\n    <a href=\"/title/tt3767372/\">Piku</a>\\n    <span class=\"year_type\">(2015)</span><br>\\n<div class=\"user_rating\">\\n\\n\\n<div class=\"rating rating-list\" data-auth=\"BCYoTtWNmpmQN0XmFuJHV9pQt5a2noiXWUO34AyiVt0WNSSurgk2YD2g228W69Uq3kPc1ZTzxCCpwGCmwcz47Hx5a867kg2cCwaB2ajedLlqtGuXJyKircTICn0Ut_YmErmq\" id=\"tt3767372|imdb|7.7|7.7|advsearch\" data-ga-identifier=\"advsearch\"\\n title=\"Users rated this 7.7/10 (8,034 votes) - click stars to rate\">\\n<span class=\"rating-bg\">&nbsp;</span>\\n<span class=\"rating-imdb\" style=\"width: 107px\">&nbsp;</span>\\n<span class=\"rating-stars\">\\n<a href=\"/register/login?why=vote\" title=\"Register or login to rate this title\" rel=\"nofollow\"><span>1</span></a>\\n<a href=\"/register/login?why=vote\" title=\"Register or login to rate this title\" rel=\"nofollow\"><span>2</span></a>\\n<a href=\"/register/login?why=vote\" title=\"Register or login to rate this title\" rel=\"nofollow\"><span>3</span></a>\\n<a href=\"/register/login?why=vote\" title=\"Register or login to rate this title\" rel=\"nofollow\"><span>4</span></a>\\n<a href=\"/register/login?why=vote\" title=\"Register or login to rate this title\" rel=\"nofollow\"><span>5</span></a>\\n<a href=\"/register/login?why=vote\" title=\"Register or login to rate this title\" rel=\"nofollow\"><span>6</span></a>\\n<a href=\"/register/login?why=vote\" title=\"Register or login to rate this title\" rel=\"nofollow\"><span>7</span></a>\\n<a href=\"/register/login?why=vote\" title=\"Register or login to rate this title\" rel=\"nofollow\"><span>8</span></a>\\n<a href=\"/register/login?why=vote\" title=\"Register or login to rate this title\" rel=\"nofollow\"><span>9</span></a>\\n<a href=\"/register/login?why=vote\" title=\"Register or login to rate this title\" rel=\"nofollow\"><span>10</span></a>\\n</span>\\n<span class=\"rating-rating\"><span class=\"value\">7.7</span><span class=\"grey\">/</span><span class=\"grey\">10</span></span>\\n<span class=\"rating-cancel\"><a href=\"/title/tt3767372/vote?v=X;k=BCYoTtWNmpmQN0XmFuJHV9pQt5a2noiXWUO34AyiVt0WNSSurgk2YD2g228W69Uq3kPc1ZTzxCCpwGCmwcz47Hx5a867kg2cCwaB2ajedLlqtGuXJyKircTICn0Ut_YmErmq\" title=\"Delete\" rel=\"nofollow\"><span>X</span></a></span>\\n&nbsp;</div>\\n\\n</div>\\n<span class=\"outline\">A quirky comedy about the relationship between an ageing father and his young daughter, living in a cosmopolitan city, dealing with each other\\'s conflicting ideologies while being fully aware that they are each other\\'s only emotional support.</span>\\n<span class=\"credit\">\\n    Dir: <a href=\"/name/nm1999473/\">Shoojit Sircar</a>\\n    With: <a href=\"/name/nm0000821/\">Amitabh Bachchan</a>, <a href=\"/name/nm2138653/\">Deepika Padukone</a>, <a href=\"/name/nm0451234/\">Irrfan Khan</a>\\n</span>\\n    <span class=\"genre\"><a href=\"/genre/comedy\">Comedy</a> | <a href=\"/genre/drama\">Drama</a></span>\\n    <span class=\"certificate\"></span>\\n    <span class=\"runtime\">123 mins.</span>\\n</td>\\n</tr>\\n<tr class=\"even detailed\">\\n  <td class=\"number\">7.</td>\\n  <td class=\"image\">\\n    <a href=\"/title/tt2338151/\" title=\"PK (2014)\"><img src=\"http://ia.media-imdb.com/images/M/MV5BMTYzOTE2NjkxN15BMl5BanBnXkFtZTgwMDgzMTg0MzE@._V1._SX54_CR0,0,54,74_.jpg\" height=\"74\" width=\"54\" alt=\"PK (2014)\" title=\"PK (2014)\"></a>\\n  </td>\\n  <td class=\"title\">\\n    \\n\\n<span class=\"wlb_wrapper\" data-tconst=\"tt2338151\" data-size=\"small\" data-caller-name=\"search\"></span>\\n\\n    <a href=\"/title/tt2338151/\">PK</a>\\n    <span class=\"year_type\">(2014)</span><br>\\n<div class=\"user_rating\">\\n\\n\\n<div class=\"rating rating-list\" data-auth=\"BCYlbFLbecj4FnHCT4qaxxSTipe2noiXWUO34AyiVt0WNSQ8Xf0KyNn720bqe_fYl9RFAYO7jFFt2bRQ6v8KbWpEnk4T113y0--TVVbNEvzle_JmwpTtmpMr4nUWDMOYsz8Z\" id=\"tt2338151|imdb|8.3|8.3|advsearch\" data-ga-identifier=\"advsearch\"\\n title=\"Users rated this 8.3/10 (65,259 votes) - click stars to rate\">\\n<span class=\"rating-bg\">&nbsp;</span>\\n<span class=\"rating-imdb\" style=\"width: 116px\">&nbsp;</span>\\n<span class=\"rating-stars\">\\n<a href=\"/register/login?why=vote\" title=\"Register or login to rate this title\" rel=\"nofollow\"><span>1</span></a>\\n<a href=\"/register/login?why=vote\" title=\"Register or login to rate this title\" rel=\"nofollow\"><span>2</span></a>\\n<a href=\"/register/login?why=vote\" title=\"Register or login to rate this title\" rel=\"nofollow\"><span>3</span></a>\\n<a href=\"/register/login?why=vote\" title=\"Register or login to rate this title\" rel=\"nofollow\"><span>4</span></a>\\n<a href=\"/register/login?why=vote\" title=\"Register or login to rate this title\" rel=\"nofollow\"><span>5</span></a>\\n<a href=\"/register/login?why=vote\" title=\"Register or login to rate this title\" rel=\"nofollow\"><span>6</span></a>\\n<a href=\"/register/login?why=vote\" title=\"Register or login to rate this title\" rel=\"nofollow\"><span>7</span></a>\\n<a href=\"/register/login?why=vote\" title=\"Register or login to rate this title\" rel=\"nofollow\"><span>8</span></a>\\n<a href=\"/register/login?why=vote\" title=\"Register or login to rate this title\" rel=\"nofollow\"><span>9</span></a>\\n<a href=\"/register/login?why=vote\" title=\"Register or login to rate this title\" rel=\"nofollow\"><span>10</span></a>\\n</span>\\n<span class=\"rating-rating\"><span class=\"value\">8.3</span><span class=\"grey\">/</span><span class=\"grey\">10</span></span>\\n<span class=\"rating-cancel\"><a href=\"/title/tt2338151/vote?v=X;k=BCYlbFLbecj4FnHCT4qaxxSTipe2noiXWUO34AyiVt0WNSQ8Xf0KyNn720bqe_fYl9RFAYO7jFFt2bRQ6v8KbWpEnk4T113y0--TVVbNEvzle_JmwpTtmpMr4nUWDMOYsz8Z\" title=\"Delete\" rel=\"nofollow\"><span>X</span></a></span>\\n&nbsp;</div>\\n\\n</div>\\n<span class=\"outline\">A stranger in the city asks questions no one has asked before. Known only by his initials, P.K.\\'s innocent questions and childlike curiosity will take him on a journey of love, laughter and letting-go.</span>\\n<span class=\"credit\">\\n    Dir: <a href=\"/name/nm0386246/\">Rajkumar Hirani</a>\\n    With: <a href=\"/name/nm0451148/\">Aamir Khan</a>, <a href=\"/name/nm3087728/\">Anushka Sharma</a>, <a href=\"/name/nm0004569/\">Sanjay Dutt</a>\\n</span>\\n    <span class=\"genre\"><a href=\"/genre/comedy\">Comedy</a> | <a href=\"/genre/drama\">Drama</a> | <a href=\"/genre/romance\">Romance</a> | <a href=\"/genre/sci_fi\">Sci-Fi</a></span>\\n    <span class=\"certificate\"></span>\\n    <span class=\"runtime\">153 mins.</span>\\n</td>\\n</tr>\\n<tr class=\"odd detailed\">\\n  <td class=\"number\">8.</td>\\n  <td class=\"image\">\\n    <a href=\"/title/tt2140465/\" title=\"Tanu Weds Manu Returns (2015)\"><img src=\"http://ia.media-imdb.com/images/M/MV5BMjMwMTExMjA1OV5BMl5BanBnXkFtZTgwNDI5MTcyNjE@._V1._SX54_CR0,0,54,74_.jpg\" height=\"74\" width=\"54\" alt=\"Tanu Weds Manu Returns (2015)\" title=\"Tanu Weds Manu Returns (2015)\"></a>\\n  </td>\\n  <td class=\"title\">\\n    \\n\\n<span class=\"wlb_wrapper\" data-tconst=\"tt2140465\" data-size=\"small\" data-caller-name=\"search\"></span>\\n\\n    <a href=\"/title/tt2140465/\">Tanu Weds Manu Returns</a>\\n    <span class=\"year_type\">(2015)</span><br>\\n<div class=\"user_rating\">\\n\\n\\n<div class=\"rating rating-list\" data-auth=\"BCYtafdGhO9SQZTRjKr_1Y90rJi2noiXWUO34AyiVt0WNSQ7kAz_pIB7Zqi2pRChusrvOvF_boHLGvFAgFAAlL2TDMn3SwpC_asFSpgaHgWELfMrFBMDZ_tbe36OHCTuAP0S\" id=\"tt2140465|imdb|8.1|8.1|advsearch\" data-ga-identifier=\"advsearch\"\\n title=\"Users rated this 8.1/10 (10,373 votes) - click stars to rate\">\\n<span class=\"rating-bg\">&nbsp;</span>\\n<span class=\"rating-imdb\" style=\"width: 113px\">&nbsp;</span>\\n<span class=\"rating-stars\">\\n<a href=\"/register/login?why=vote\" title=\"Register or login to rate this title\" rel=\"nofollow\"><span>1</span></a>\\n<a href=\"/register/login?why=vote\" title=\"Register or login to rate this title\" rel=\"nofollow\"><span>2</span></a>\\n<a href=\"/register/login?why=vote\" title=\"Register or login to rate this title\" rel=\"nofollow\"><span>3</span></a>\\n<a href=\"/register/login?why=vote\" title=\"Register or login to rate this title\" rel=\"nofollow\"><span>4</span></a>\\n<a href=\"/register/login?why=vote\" title=\"Register or login to rate this title\" rel=\"nofollow\"><span>5</span></a>\\n<a href=\"/register/login?why=vote\" title=\"Register or login to rate this title\" rel=\"nofollow\"><span>6</span></a>\\n<a href=\"/register/login?why=vote\" title=\"Register or login to rate this title\" rel=\"nofollow\"><span>7</span></a>\\n<a href=\"/register/login?why=vote\" title=\"Register or login to rate this title\" rel=\"nofollow\"><span>8</span></a>\\n<a href=\"/register/login?why=vote\" title=\"Register or login to rate this title\" rel=\"nofollow\"><span>9</span></a>\\n<a href=\"/register/login?why=vote\" title=\"Register or login to rate this title\" rel=\"nofollow\"><span>10</span></a>\\n</span>\\n<span class=\"rating-rating\"><span class=\"value\">8.1</span><span class=\"grey\">/</span><span class=\"grey\">10</span></span>\\n<span class=\"rating-cancel\"><a href=\"/title/tt2140465/vote?v=X;k=BCYtafdGhO9SQZTRjKr_1Y90rJi2noiXWUO34AyiVt0WNSQ7kAz_pIB7Zqi2pRChusrvOvF_boHLGvFAgFAAlL2TDMn3SwpC_asFSpgaHgWELfMrFBMDZ_tbe36OHCTuAP0S\" title=\"Delete\" rel=\"nofollow\"><span>X</span></a></span>\\n&nbsp;</div>\\n\\n</div>\\n<span class=\"outline\">Tanu and Manu\\'s marriage collapses. What happens when Manu meets Tanu\\'s lookalike Kusum - and when Tanu returns?</span>\\n<span class=\"credit\">\\n    Dir: <a href=\"/name/nm2399862/\">Aanand Rai</a>\\n    With: <a href=\"/name/nm2144007/\">Kangana Ranaut</a>, <a href=\"/name/nm0534856/\">Madhavan</a>, <a href=\"/name/nm0792116/\">Jimmy Shergill</a>\\n</span>\\n    <span class=\"genre\"><a href=\"/genre/comedy\">Comedy</a> | <a href=\"/genre/drama\">Drama</a> | <a href=\"/genre/romance\">Romance</a></span>\\n    <span class=\"certificate\"></span>\\n    <span class=\"runtime\">128 mins.</span>\\n</td>\\n</tr>\\n<tr class=\"even detailed\">\\n  <td class=\"number\">9.</td>\\n  <td class=\"image\">\\n    <a href=\"/title/tt3469244/\" title=\"Phantom (2015)\"><img src=\"http://ia.media-imdb.com/images/M/MV5BMTk5NDE2NDUxM15BMl5BanBnXkFtZTgwOTA3NzI1NjE@._V1._SX54_CR0,0,54,74_.jpg\" height=\"74\" width=\"54\" alt=\"Phantom (2015)\" title=\"Phantom (2015)\"></a>\\n  </td>\\n  <td class=\"title\">\\n    \\n\\n<span class=\"wlb_wrapper\" data-tconst=\"tt3469244\" data-size=\"small\" data-caller-name=\"search\"></span>\\n\\n    <a href=\"/title/tt3469244/\">Phantom</a>\\n    <span class=\"year_type\">(2015)</span><br>\\n<div class=\"user_rating\">\\n\\n\\n<div class=\"rating rating-list\" data-auth=\"BCYg4s9z4lUncwsfhbnYbQtwQ5m2noiXWUO34AyiVt0WNSToziP2NVAokGngdAZx6dAuXAfoGi5dZxAQkm3HtyuQeLT49_vSznj_qgzUDR63eIthM2T2pXDE1X1GKkvaR0D5\" id=\"tt3469244|imdb|4.5|4.5|advsearch\" data-ga-identifier=\"advsearch\"\\n title=\"Users rated this 4.5/10 (1,203 votes) - click stars to rate\">\\n<span class=\"rating-bg\">&nbsp;</span>\\n<span class=\"rating-imdb\" style=\"width: 63px\">&nbsp;</span>\\n<span class=\"rating-stars\">\\n<a href=\"/register/login?why=vote\" title=\"Register or login to rate this title\" rel=\"nofollow\"><span>1</span></a>\\n<a href=\"/register/login?why=vote\" title=\"Register or login to rate this title\" rel=\"nofollow\"><span>2</span></a>\\n<a href=\"/register/login?why=vote\" title=\"Register or login to rate this title\" rel=\"nofollow\"><span>3</span></a>\\n<a href=\"/register/login?why=vote\" title=\"Register or login to rate this title\" rel=\"nofollow\"><span>4</span></a>\\n<a href=\"/register/login?why=vote\" title=\"Register or login to rate this title\" rel=\"nofollow\"><span>5</span></a>\\n<a href=\"/register/login?why=vote\" title=\"Register or login to rate this title\" rel=\"nofollow\"><span>6</span></a>\\n<a href=\"/register/login?why=vote\" title=\"Register or login to rate this title\" rel=\"nofollow\"><span>7</span></a>\\n<a href=\"/register/login?why=vote\" title=\"Register or login to rate this title\" rel=\"nofollow\"><span>8</span></a>\\n<a href=\"/register/login?why=vote\" title=\"Register or login to rate this title\" rel=\"nofollow\"><span>9</span></a>\\n<a href=\"/register/login?why=vote\" title=\"Register or login to rate this title\" rel=\"nofollow\"><span>10</span></a>\\n</span>\\n<span class=\"rating-rating\"><span class=\"value\">4.5</span><span class=\"grey\">/</span><span class=\"grey\">10</span></span>\\n<span class=\"rating-cancel\"><a href=\"/title/tt3469244/vote?v=X;k=BCYg4s9z4lUncwsfhbnYbQtwQ5m2noiXWUO34AyiVt0WNSToziP2NVAokGngdAZx6dAuXAfoGi5dZxAQkm3HtyuQeLT49_vSznj_qgzUDR63eIthM2T2pXDE1X1GKkvaR0D5\" title=\"Delete\" rel=\"nofollow\"><span>X</span></a></span>\\n&nbsp;</div>\\n\\n</div>\\n<span class=\"outline\">A disgraced Indian soldier carries out a series of assassinations in the hope of restoring his honour.</span>\\n<span class=\"credit\">\\n    Dir: <a href=\"/name/nm1203138/\">Kabir Khan</a>\\n    With: <a href=\"/name/nm0451307/\">Saif Ali Khan</a>, <a href=\"/name/nm1229940/\">Katrina Kaif</a>, <a href=\"/name/nm5685980/\">Rajesh Tailang</a>\\n</span>\\n    <span class=\"genre\"><a href=\"/genre/action\">Action</a> | <a href=\"/genre/drama\">Drama</a> | <a href=\"/genre/thriller\">Thriller</a></span>\\n    <span class=\"certificate\"></span>\\n    <span class=\"runtime\">136 mins.</span>\\n</td>\\n</tr>\\n<tr class=\"odd detailed\">\\n  <td class=\"number\">10.</td>\\n  <td class=\"image\">\\n    <a href=\"/title/tt1954470/\" title=\"Gangs of Wasseypur (2012)\"><img src=\"http://ia.media-imdb.com/images/M/MV5BMTc5NjY4MjUwNF5BMl5BanBnXkFtZTgwODM3NzM5MzE@._V1._SX54_CR0,0,54,74_.jpg\" height=\"74\" width=\"54\" alt=\"Gangs of Wasseypur (2012)\" title=\"Gangs of Wasseypur (2012)\"></a>\\n  </td>\\n  <td class=\"title\">\\n    \\n\\n<span class=\"wlb_wrapper\" data-tconst=\"tt1954470\" data-size=\"small\" data-caller-name=\"search\"></span>\\n\\n    <a href=\"/title/tt1954470/\">Gangs of Wasseypur</a>\\n    <span class=\"year_type\">(2012)</span><br>\\n<div class=\"user_rating\">\\n\\n\\n<div class=\"rating rating-list\" data-auth=\"BCYhATjTxc-vmeTxTnA2FPx_4Jq2noiXWUO34AyiVt0WNSSrgBsDfFnGFwXqPOVvvtGwr6cUsjqMifpx5ODcFD_NGQMn5v7997ymF7D-HnaanOAFH8E1f2xyZnby_m9kjVH1\" id=\"tt1954470|imdb|8.4|8.4|advsearch\" data-ga-identifier=\"advsearch\"\\n title=\"Users rated this 8.4/10 (35,491 votes) - click stars to rate\">\\n<span class=\"rating-bg\">&nbsp;</span>\\n<span class=\"rating-imdb\" style=\"width: 117px\">&nbsp;</span>\\n<span class=\"rating-stars\">\\n<a href=\"/register/login?why=vote\" title=\"Register or login to rate this title\" rel=\"nofollow\"><span>1</span></a>\\n<a href=\"/register/login?why=vote\" title=\"Register or login to rate this title\" rel=\"nofollow\"><span>2</span></a>\\n<a href=\"/register/login?why=vote\" title=\"Register or login to rate this title\" rel=\"nofollow\"><span>3</span></a>\\n<a href=\"/register/login?why=vote\" title=\"Register or login to rate this title\" rel=\"nofollow\"><span>4</span></a>\\n<a href=\"/register/login?why=vote\" title=\"Register or login to rate this title\" rel=\"nofollow\"><span>5</span></a>\\n<a href=\"/register/login?why=vote\" title=\"Register or login to rate this title\" rel=\"nofollow\"><span>6</span></a>\\n<a href=\"/register/login?why=vote\" title=\"Register or login to rate this title\" rel=\"nofollow\"><span>7</span></a>\\n<a href=\"/register/login?why=vote\" title=\"Register or login to rate this title\" rel=\"nofollow\"><span>8</span></a>\\n<a href=\"/register/login?why=vote\" title=\"Register or login to rate this title\" rel=\"nofollow\"><span>9</span></a>\\n<a href=\"/register/login?why=vote\" title=\"Register or login to rate this title\" rel=\"nofollow\"><span>10</span></a>\\n</span>\\n<span class=\"rating-rating\"><span class=\"value\">8.4</span><span class=\"grey\">/</span><span class=\"grey\">10</span></span>\\n<span class=\"rating-cancel\"><a href=\"/title/tt1954470/vote?v=X;k=BCYhATjTxc-vmeTxTnA2FPx_4Jq2noiXWUO34AyiVt0WNSSrgBsDfFnGFwXqPOVvvtGwr6cUsjqMifpx5ODcFD_NGQMn5v7997ymF7D-HnaanOAFH8E1f2xyZnby_m9kjVH1\" title=\"Delete\" rel=\"nofollow\"><span>X</span></a></span>\\n&nbsp;</div>\\n\\n</div>\\n<span class=\"outline\">A clash between Sultan (a Qureishi dacoit chief) and Shahid Khan (a Pathan who impersonates him) leads to the expulsion of Khan from Wasseypur, and ignites a deadly blood feud spanning three generations.</span>\\n<span class=\"credit\">\\n    Dir: <a href=\"/name/nm0440604/\">Anurag Kashyap</a>\\n    With: <a href=\"/name/nm0048075/\">Manoj Bajpayee</a>, <a href=\"/name/nm3190246/\">Richa Chadda</a>, <a href=\"/name/nm1596350/\">Nawazuddin Siddiqui</a>\\n</span>\\n    <span class=\"genre\"><a href=\"/genre/action\">Action</a> | <a href=\"/genre/crime\">Crime</a> | <a href=\"/genre/drama\">Drama</a> | <a href=\"/genre/thriller\">Thriller</a></span>\\n    <span class=\"certificate\"><span title=\"R\" class=\"us_r titlePageSprite\"></span></span>\\n    <span class=\"runtime\">320 mins.</span>\\n</td>\\n</tr>\\n<tr class=\"even detailed\">\\n  <td class=\"number\">11.</td>\\n  <td class=\"image\">\\n    <a href=\"/title/tt1833673/\" title=\"Dhoom:3 (2013)\"><img src=\"http://ia.media-imdb.com/images/M/MV5BMjI3NjY4OTU3Ml5BMl5BanBnXkFtZTgwODI5MzM1MDE@._V1._SX54_CR0,0,54,74_.jpg\" height=\"74\" width=\"54\" alt=\"Dhoom:3 (2013)\" title=\"Dhoom:3 (2013)\"></a>\\n  </td>\\n  <td class=\"title\">\\n    \\n\\n<span class=\"wlb_wrapper\" data-tconst=\"tt1833673\" data-size=\"small\" data-caller-name=\"search\"></span>\\n\\n    <a href=\"/title/tt1833673/\">Dhoom:3</a>\\n    <span class=\"year_type\">(2013)</span><br>\\n<div class=\"user_rating\">\\n\\n\\n<div class=\"rating rating-list\" data-auth=\"BCYplkB4d9m5J9loEl977jQVUJu2noiXWUO34AyiVt0WNSQIgoWUzqKeCmZ4-ZFfF3GmsBtQUgnL-jfSDwBIStUO0ogvc3DOdLnnyrW-N_Bss-2qOfPd9fgeb4hVZYvwwX55\" id=\"tt1833673|imdb|5.5|5.5|advsearch\" data-ga-identifier=\"advsearch\"\\n title=\"Users rated this 5.5/10 (31,055 votes) - click stars to rate\">\\n<span class=\"rating-bg\">&nbsp;</span>\\n<span class=\"rating-imdb\" style=\"width: 77px\">&nbsp;</span>\\n<span class=\"rating-stars\">\\n<a href=\"/register/login?why=vote\" title=\"Register or login to rate this title\" rel=\"nofollow\"><span>1</span></a>\\n<a href=\"/register/login?why=vote\" title=\"Register or login to rate this title\" rel=\"nofollow\"><span>2</span></a>\\n<a href=\"/register/login?why=vote\" title=\"Register or login to rate this title\" rel=\"nofollow\"><span>3</span></a>\\n<a href=\"/register/login?why=vote\" title=\"Register or login to rate this title\" rel=\"nofollow\"><span>4</span></a>\\n<a href=\"/register/login?why=vote\" title=\"Register or login to rate this title\" rel=\"nofollow\"><span>5</span></a>\\n<a href=\"/register/login?why=vote\" title=\"Register or login to rate this title\" rel=\"nofollow\"><span>6</span></a>\\n<a href=\"/register/login?why=vote\" title=\"Register or login to rate this title\" rel=\"nofollow\"><span>7</span></a>\\n<a href=\"/register/login?why=vote\" title=\"Register or login to rate this title\" rel=\"nofollow\"><span>8</span></a>\\n<a href=\"/register/login?why=vote\" title=\"Register or login to rate this title\" rel=\"nofollow\"><span>9</span></a>\\n<a href=\"/register/login?why=vote\" title=\"Register or login to rate this title\" rel=\"nofollow\"><span>10</span></a>\\n</span>\\n<span class=\"rating-rating\"><span class=\"value\">5.5</span><span class=\"grey\">/</span><span class=\"grey\">10</span></span>\\n<span class=\"rating-cancel\"><a href=\"/title/tt1833673/vote?v=X;k=BCYplkB4d9m5J9loEl977jQVUJu2noiXWUO34AyiVt0WNSQIgoWUzqKeCmZ4-ZFfF3GmsBtQUgnL-jfSDwBIStUO0ogvc3DOdLnnyrW-N_Bss-2qOfPd9fgeb4hVZYvwwX55\" title=\"Delete\" rel=\"nofollow\"><span>X</span></a></span>\\n&nbsp;</div>\\n\\n</div>\\n<span class=\"outline\">To avenge his father\\'s death, a circus entertainer trained in magic and acrobatics turns thief to take down a corrupt bank in Chicago. Two cops from Mumbai are assigned to the case.</span>\\n<span class=\"credit\">\\n    Dir: <a href=\"/name/nm1715502/\">Vijay Krishna Acharya</a>\\n    With: <a href=\"/name/nm0451148/\">Aamir Khan</a>, <a href=\"/name/nm1229940/\">Katrina Kaif</a>, <a href=\"/name/nm0045393/\">Abhishek Bachchan</a>\\n</span>\\n    <span class=\"genre\"><a href=\"/genre/action\">Action</a> | <a href=\"/genre/crime\">Crime</a> | <a href=\"/genre/thriller\">Thriller</a></span>\\n    <span class=\"certificate\"></span>\\n    <span class=\"runtime\">172 mins.</span>\\n</td>\\n</tr>\\n<tr class=\"odd detailed\">\\n  <td class=\"number\">12.</td>\\n  <td class=\"image\">\\n    <a href=\"/title/tt2350496/\" title=\"The Lunchbox (2013)\"><img src=\"http://ia.media-imdb.com/images/M/MV5BMTUwMzc1NjIzMV5BMl5BanBnXkFtZTgwODUyMTIxMTE@._V1._SX54_CR0,0,54,74_.jpg\" height=\"74\" width=\"54\" alt=\"The Lunchbox (2013)\" title=\"The Lunchbox (2013)\"></a>\\n  </td>\\n  <td class=\"title\">\\n    \\n\\n<span class=\"wlb_wrapper\" data-tconst=\"tt2350496\" data-size=\"small\" data-caller-name=\"search\"></span>\\n\\n    <a href=\"/title/tt2350496/\">The Lunchbox</a>\\n    <span class=\"year_type\">(2013)</span><br>\\n<div class=\"user_rating\">\\n\\n\\n<div class=\"rating rating-list\" data-auth=\"BCYrAAuDEWjC6ggx4uJ2W7Ihu5y2noiXWUO34AyiVt0WNSSrVqcQx_OJW0i3fR5vQ0XqxZgfusxEINCZbGFgUSEvtTebBgJeBKr330ZUc3PCZPCuH-aDat2HUUDXdOCF8DQs\" id=\"tt2350496|imdb|7.8|7.8|advsearch\" data-ga-identifier=\"advsearch\"\\n title=\"Users rated this 7.8/10 (24,784 votes) - click stars to rate\">\\n<span class=\"rating-bg\">&nbsp;</span>\\n<span class=\"rating-imdb\" style=\"width: 109px\">&nbsp;</span>\\n<span class=\"rating-stars\">\\n<a href=\"/register/login?why=vote\" title=\"Register or login to rate this title\" rel=\"nofollow\"><span>1</span></a>\\n<a href=\"/register/login?why=vote\" title=\"Register or login to rate this title\" rel=\"nofollow\"><span>2</span></a>\\n<a href=\"/register/login?why=vote\" title=\"Register or login to rate this title\" rel=\"nofollow\"><span>3</span></a>\\n<a href=\"/register/login?why=vote\" title=\"Register or login to rate this title\" rel=\"nofollow\"><span>4</span></a>\\n<a href=\"/register/login?why=vote\" title=\"Register or login to rate this title\" rel=\"nofollow\"><span>5</span></a>\\n<a href=\"/register/login?why=vote\" title=\"Register or login to rate this title\" rel=\"nofollow\"><span>6</span></a>\\n<a href=\"/register/login?why=vote\" title=\"Register or login to rate this title\" rel=\"nofollow\"><span>7</span></a>\\n<a href=\"/register/login?why=vote\" title=\"Register or login to rate this title\" rel=\"nofollow\"><span>8</span></a>\\n<a href=\"/register/login?why=vote\" title=\"Register or login to rate this title\" rel=\"nofollow\"><span>9</span></a>\\n<a href=\"/register/login?why=vote\" title=\"Register or login to rate this title\" rel=\"nofollow\"><span>10</span></a>\\n</span>\\n<span class=\"rating-rating\"><span class=\"value\">7.8</span><span class=\"grey\">/</span><span class=\"grey\">10</span></span>\\n<span class=\"rating-cancel\"><a href=\"/title/tt2350496/vote?v=X;k=BCYrAAuDEWjC6ggx4uJ2W7Ihu5y2noiXWUO34AyiVt0WNSSrVqcQx_OJW0i3fR5vQ0XqxZgfusxEINCZbGFgUSEvtTebBgJeBKr330ZUc3PCZPCuH-aDat2HUUDXdOCF8DQs\" title=\"Delete\" rel=\"nofollow\"><span>X</span></a></span>\\n&nbsp;</div>\\n\\n</div>\\n<span class=\"outline\">A mistaken delivery in Mumbai\\'s famously efficient lunchbox delivery system connects a young housewife to an older man in the dusk of his life as they build a fantasy world together through notes in the lunchbox.</span>\\n<span class=\"credit\">\\n    Dir: <a href=\"/name/nm3592235/\">Ritesh Batra</a>\\n    With: <a href=\"/name/nm0451234/\">Irrfan Khan</a>, <a href=\"/name/nm1909661/\">Nimrat Kaur</a>, <a href=\"/name/nm1596350/\">Nawazuddin Siddiqui</a>\\n</span>\\n    <span class=\"genre\"><a href=\"/genre/drama\">Drama</a> | <a href=\"/genre/romance\">Romance</a></span>\\n    <span class=\"certificate\"><span title=\"PG\" class=\"us_pg titlePageSprite\"></span></span>\\n    <span class=\"runtime\">104 mins.</span>\\n</td>\\n</tr>\\n<tr class=\"even detailed\">\\n  <td class=\"number\">13.</td>\\n  <td class=\"image\">\\n    <a href=\"/title/tt4110568/\" title=\"Dil Dhadakne Do (2015)\"><img src=\"http://ia.media-imdb.com/images/M/MV5BMjM3MDYxMjM2Nl5BMl5BanBnXkFtZTgwMDU0MzI5NTE@._V1._SX54_CR0,0,54,74_.jpg\" height=\"74\" width=\"54\" alt=\"Dil Dhadakne Do (2015)\" title=\"Dil Dhadakne Do (2015)\"></a>\\n  </td>\\n  <td class=\"title\">\\n    \\n\\n<span class=\"wlb_wrapper\" data-tconst=\"tt4110568\" data-size=\"small\" data-caller-name=\"search\"></span>\\n\\n    <a href=\"/title/tt4110568/\">Dil Dhadakne Do</a>\\n    <span class=\"year_type\">(2015)</span><br>\\n<div class=\"user_rating\">\\n\\n\\n<div class=\"rating rating-list\" data-auth=\"BCYt2t-GtMs1o5168m1VupbCdJ22noiXWUO34AyiVt0WNST-A-B6K6XLA_W1YEVV-9nEEbEf65f_XozDxb5tvlKrh-1xtMM3QhiVJ1AF47ztnHXFr-KMO1pAsA2BJQ3caJf5\" id=\"tt4110568|imdb|6.9|6.9|advsearch\" data-ga-identifier=\"advsearch\"\\n title=\"Users rated this 6.9/10 (4,283 votes) - click stars to rate\">\\n<span class=\"rating-bg\">&nbsp;</span>\\n<span class=\"rating-imdb\" style=\"width: 96px\">&nbsp;</span>\\n<span class=\"rating-stars\">\\n<a href=\"/register/login?why=vote\" title=\"Register or login to rate this title\" rel=\"nofollow\"><span>1</span></a>\\n<a href=\"/register/login?why=vote\" title=\"Register or login to rate this title\" rel=\"nofollow\"><span>2</span></a>\\n<a href=\"/register/login?why=vote\" title=\"Register or login to rate this title\" rel=\"nofollow\"><span>3</span></a>\\n<a href=\"/register/login?why=vote\" title=\"Register or login to rate this title\" rel=\"nofollow\"><span>4</span></a>\\n<a href=\"/register/login?why=vote\" title=\"Register or login to rate this title\" rel=\"nofollow\"><span>5</span></a>\\n<a href=\"/register/login?why=vote\" title=\"Register or login to rate this title\" rel=\"nofollow\"><span>6</span></a>\\n<a href=\"/register/login?why=vote\" title=\"Register or login to rate this title\" rel=\"nofollow\"><span>7</span></a>\\n<a href=\"/register/login?why=vote\" title=\"Register or login to rate this title\" rel=\"nofollow\"><span>8</span></a>\\n<a href=\"/register/login?why=vote\" title=\"Register or login to rate this title\" rel=\"nofollow\"><span>9</span></a>\\n<a href=\"/register/login?why=vote\" title=\"Register or login to rate this title\" rel=\"nofollow\"><span>10</span></a>\\n</span>\\n<span class=\"rating-rating\"><span class=\"value\">6.9</span><span class=\"grey\">/</span><span class=\"grey\">10</span></span>\\n<span class=\"rating-cancel\"><a href=\"/title/tt4110568/vote?v=X;k=BCYt2t-GtMs1o5168m1VupbCdJ22noiXWUO34AyiVt0WNST-A-B6K6XLA_W1YEVV-9nEEbEf65f_XozDxb5tvlKrh-1xtMM3QhiVJ1AF47ztnHXFr-KMO1pAsA2BJQ3caJf5\" title=\"Delete\" rel=\"nofollow\"><span>X</span></a></span>\\n&nbsp;</div>\\n\\n</div>\\n<span class=\"outline\">On a cruise to celebrate their parents\\' 30th wedding anniversary, a brother and sister deal with the impact of family considerations on their romantic lives.</span>\\n<span class=\"credit\">\\n    Dir: <a href=\"/name/nm0015295/\">Zoya Akhtar</a>\\n    With: <a href=\"/name/nm0438463/\">Anil Kapoor</a>, <a href=\"/name/nm0156858/\">Shefali Shetty</a>, <a href=\"/name/nm1231899/\">Priyanka Chopra</a>\\n</span>\\n    <span class=\"genre\"><a href=\"/genre/drama\">Drama</a> | <a href=\"/genre/romance\">Romance</a></span>\\n    <span class=\"certificate\"></span>\\n    <span class=\"runtime\">170 mins.</span>\\n</td>\\n</tr>\\n<tr class=\"odd detailed\">\\n  <td class=\"number\">14.</td>\\n  <td class=\"image\">\\n    <a href=\"/title/tt2461132/\" title=\"Happy New Year (2014)\"><img src=\"http://ia.media-imdb.com/images/M/MV5BMjA5Njg4NjA1MV5BMl5BanBnXkFtZTgwOTMzOTk0MjE@._V1._SX54_CR0,0,54,74_.jpg\" height=\"74\" width=\"54\" alt=\"Happy New Year (2014)\" title=\"Happy New Year (2014)\"></a>\\n  </td>\\n  <td class=\"title\">\\n    \\n\\n<span class=\"wlb_wrapper\" data-tconst=\"tt2461132\" data-size=\"small\" data-caller-name=\"search\"></span>\\n\\n    <a href=\"/title/tt2461132/\">Happy New Year</a>\\n    <span class=\"year_type\">(2014)</span><br>\\n<div class=\"user_rating\">\\n\\n\\n<div class=\"rating rating-list\" data-auth=\"BCYmgSC0HhvfJsFMM4lqDvafFp62noiXWUO34AyiVt0WNSSP2FvfMiVSNEejtC5cY77S3FgFNPJ4DtiM6P63UUZBhdL-4OgNpc3zcaWgmqrsb8M0st1oJhlOiP5OfS0H13dU\" id=\"tt2461132|imdb|5.6|5.6|advsearch\" data-ga-identifier=\"advsearch\"\\n title=\"Users rated this 5.6/10 (21,076 votes) - click stars to rate\">\\n<span class=\"rating-bg\">&nbsp;</span>\\n<span class=\"rating-imdb\" style=\"width: 78px\">&nbsp;</span>\\n<span class=\"rating-stars\">\\n<a href=\"/register/login?why=vote\" title=\"Register or login to rate this title\" rel=\"nofollow\"><span>1</span></a>\\n<a href=\"/register/login?why=vote\" title=\"Register or login to rate this title\" rel=\"nofollow\"><span>2</span></a>\\n<a href=\"/register/login?why=vote\" title=\"Register or login to rate this title\" rel=\"nofollow\"><span>3</span></a>\\n<a href=\"/register/login?why=vote\" title=\"Register or login to rate this title\" rel=\"nofollow\"><span>4</span></a>\\n<a href=\"/register/login?why=vote\" title=\"Register or login to rate this title\" rel=\"nofollow\"><span>5</span></a>\\n<a href=\"/register/login?why=vote\" title=\"Register or login to rate this title\" rel=\"nofollow\"><span>6</span></a>\\n<a href=\"/register/login?why=vote\" title=\"Register or login to rate this title\" rel=\"nofollow\"><span>7</span></a>\\n<a href=\"/register/login?why=vote\" title=\"Register or login to rate this title\" rel=\"nofollow\"><span>8</span></a>\\n<a href=\"/register/login?why=vote\" title=\"Register or login to rate this title\" rel=\"nofollow\"><span>9</span></a>\\n<a href=\"/register/login?why=vote\" title=\"Register or login to rate this title\" rel=\"nofollow\"><span>10</span></a>\\n</span>\\n<span class=\"rating-rating\"><span class=\"value\">5.6</span><span class=\"grey\">/</span><span class=\"grey\">10</span></span>\\n<span class=\"rating-cancel\"><a href=\"/title/tt2461132/vote?v=X;k=BCYmgSC0HhvfJsFMM4lqDvafFp62noiXWUO34AyiVt0WNSSP2FvfMiVSNEejtC5cY77S3FgFNPJ4DtiM6P63UUZBhdL-4OgNpc3zcaWgmqrsb8M0st1oJhlOiP5OfS0H13dU\" title=\"Delete\" rel=\"nofollow\"><span>X</span></a></span>\\n&nbsp;</div>\\n\\n</div>\\n<span class=\"outline\">A team of losers win the love of millions in their quest to pull off the biggest diamond heist ever by team India.</span>\\n<span class=\"credit\">\\n    Dir: <a href=\"/name/nm0007134/\">Farah Khan</a>\\n    With: <a href=\"/name/nm0451321/\">Shah Rukh Khan</a>, <a href=\"/name/nm2138653/\">Deepika Padukone</a>, <a href=\"/name/nm0045393/\">Abhishek Bachchan</a>\\n</span>\\n    <span class=\"genre\"><a href=\"/genre/action\">Action</a> | <a href=\"/genre/comedy\">Comedy</a> | <a href=\"/genre/crime\">Crime</a> | <a href=\"/genre/drama\">Drama</a> | <a href=\"/genre/musical\">Musical</a> | <a href=\"/genre/romance\">Romance</a></span>\\n    <span class=\"certificate\"></span>\\n    <span class=\"runtime\">180 mins.</span>\\n</td>\\n</tr>\\n<tr class=\"even detailed\">\\n  <td class=\"number\">15.</td>\\n  <td class=\"image\">\\n    <a href=\"/title/tt3322420/\" title=\"Queen (2014)\"><img src=\"http://ia.media-imdb.com/images/M/MV5BMTQ1ODUxMzA1Nl5BMl5BanBnXkFtZTgwNDk0NjMyMTE@._V1._SX54_CR0,0,54,74_.jpg\" height=\"74\" width=\"54\" alt=\"Queen (2014)\" title=\"Queen (2014)\"></a>\\n  </td>\\n  <td class=\"title\">\\n    \\n\\n<span class=\"wlb_wrapper\" data-tconst=\"tt3322420\" data-size=\"small\" data-caller-name=\"search\"></span>\\n\\n    <a href=\"/title/tt3322420/\">Queen</a>\\n    <span class=\"year_type\">(2014)</span><br>\\n<div class=\"user_rating\">\\n\\n\\n<div class=\"rating rating-list\" data-auth=\"BCYghL88kuGty3b-yVO9W5KSa5-2noiXWUO34AyiVt0WNST-mYhMNYA0vpdL3kxdOr08NLZ0JoTON8wRGCqlV9Kysne5rCuzXIrdpwhAdVSEjCh-dm70SM468AcFivophCN6\" id=\"tt3322420|imdb|8.5|8.5|advsearch\" data-ga-identifier=\"advsearch\"\\n title=\"Users rated this 8.5/10 (32,059 votes) - click stars to rate\">\\n<span class=\"rating-bg\">&nbsp;</span>\\n<span class=\"rating-imdb\" style=\"width: 119px\">&nbsp;</span>\\n<span class=\"rating-stars\">\\n<a href=\"/register/login?why=vote\" title=\"Register or login to rate this title\" rel=\"nofollow\"><span>1</span></a>\\n<a href=\"/register/login?why=vote\" title=\"Register or login to rate this title\" rel=\"nofollow\"><span>2</span></a>\\n<a href=\"/register/login?why=vote\" title=\"Register or login to rate this title\" rel=\"nofollow\"><span>3</span></a>\\n<a href=\"/register/login?why=vote\" title=\"Register or login to rate this title\" rel=\"nofollow\"><span>4</span></a>\\n<a href=\"/register/login?why=vote\" title=\"Register or login to rate this title\" rel=\"nofollow\"><span>5</span></a>\\n<a href=\"/register/login?why=vote\" title=\"Register or login to rate this title\" rel=\"nofollow\"><span>6</span></a>\\n<a href=\"/register/login?why=vote\" title=\"Register or login to rate this title\" rel=\"nofollow\"><span>7</span></a>\\n<a href=\"/register/login?why=vote\" title=\"Register or login to rate this title\" rel=\"nofollow\"><span>8</span></a>\\n<a href=\"/register/login?why=vote\" title=\"Register or login to rate this title\" rel=\"nofollow\"><span>9</span></a>\\n<a href=\"/register/login?why=vote\" title=\"Register or login to rate this title\" rel=\"nofollow\"><span>10</span></a>\\n</span>\\n<span class=\"rating-rating\"><span class=\"value\">8.5</span><span class=\"grey\">/</span><span class=\"grey\">10</span></span>\\n<span class=\"rating-cancel\"><a href=\"/title/tt3322420/vote?v=X;k=BCYghL88kuGty3b-yVO9W5KSa5-2noiXWUO34AyiVt0WNST-mYhMNYA0vpdL3kxdOr08NLZ0JoTON8wRGCqlV9Kysne5rCuzXIrdpwhAdVSEjCh-dm70SM468AcFivophCN6\" title=\"Delete\" rel=\"nofollow\"><span>X</span></a></span>\\n&nbsp;</div>\\n\\n</div>\\n<span class=\"outline\">A Delhi girl from a traditional family sets out on a solo honeymoon after her marriage gets cancelled.</span>\\n<span class=\"credit\">\\n    Dir: <a href=\"/name/nm4318482/\">Vikas Bahl</a>\\n    With: <a href=\"/name/nm2144007/\">Kangana Ranaut</a>, <a href=\"/name/nm3822770/\">Rajkummar Rao</a>, <a href=\"/name/nm3629863/\">Lisa Haydon</a>\\n</span>\\n    <span class=\"genre\"><a href=\"/genre/adventure\">Adventure</a> | <a href=\"/genre/comedy\">Comedy</a> | <a href=\"/genre/drama\">Drama</a></span>\\n    <span class=\"certificate\"></span>\\n    <span class=\"runtime\">146 mins.</span>\\n</td>\\n</tr>\\n<tr class=\"odd detailed\">\\n  <td class=\"number\">16.</td>\\n  <td class=\"image\">\\n    <a href=\"/title/tt0169102/\" title=\"Lagaan: Once Upon a Time in India (2001)\"><img src=\"http://ia.media-imdb.com/images/M/MV5BMTIwODMwMzA5Ml5BMl5BanBnXkFtZTcwMTQxNTEyMQ@@._V1._SX54_CR0,0,54,74_.jpg\" height=\"74\" width=\"54\" alt=\"Lagaan: Once Upon a Time in India (2001)\" title=\"Lagaan: Once Upon a Time in India (2001)\"></a>\\n  </td>\\n  <td class=\"title\">\\n    \\n\\n<span class=\"wlb_wrapper\" data-tconst=\"tt0169102\" data-size=\"small\" data-caller-name=\"search\"></span>\\n\\n    <a href=\"/title/tt0169102/\">Lagaan: Once Upon a Time in India</a>\\n    <span class=\"year_type\">(2001)</span><br>\\n<div class=\"user_rating\">\\n\\n\\n<div class=\"rating rating-list\" data-auth=\"BCYrQf_8iGH0WQ9JAByi6RSlVaC2noiXWUO34AyiVt0WNSQmavCGos77_wmxF_4r1H23tOf68NC-JbawSLjT8E-76FgUJVT0cJWUO4bxxruDqJEVu6esVLKxvIC5-HHjFH_s\" id=\"tt0169102|imdb|8.2|8.2|advsearch\" data-ga-identifier=\"advsearch\"\\n title=\"Users rated this 8.2/10 (60,470 votes) - click stars to rate\">\\n<span class=\"rating-bg\">&nbsp;</span>\\n<span class=\"rating-imdb\" style=\"width: 114px\">&nbsp;</span>\\n<span class=\"rating-stars\">\\n<a href=\"/register/login?why=vote\" title=\"Register or login to rate this title\" rel=\"nofollow\"><span>1</span></a>\\n<a href=\"/register/login?why=vote\" title=\"Register or login to rate this title\" rel=\"nofollow\"><span>2</span></a>\\n<a href=\"/register/login?why=vote\" title=\"Register or login to rate this title\" rel=\"nofollow\"><span>3</span></a>\\n<a href=\"/register/login?why=vote\" title=\"Register or login to rate this title\" rel=\"nofollow\"><span>4</span></a>\\n<a href=\"/register/login?why=vote\" title=\"Register or login to rate this title\" rel=\"nofollow\"><span>5</span></a>\\n<a href=\"/register/login?why=vote\" title=\"Register or login to rate this title\" rel=\"nofollow\"><span>6</span></a>\\n<a href=\"/register/login?why=vote\" title=\"Register or login to rate this title\" rel=\"nofollow\"><span>7</span></a>\\n<a href=\"/register/login?why=vote\" title=\"Register or login to rate this title\" rel=\"nofollow\"><span>8</span></a>\\n<a href=\"/register/login?why=vote\" title=\"Register or login to rate this title\" rel=\"nofollow\"><span>9</span></a>\\n<a href=\"/register/login?why=vote\" title=\"Register or login to rate this title\" rel=\"nofollow\"><span>10</span></a>\\n</span>\\n<span class=\"rating-rating\"><span class=\"value\">8.2</span><span class=\"grey\">/</span><span class=\"grey\">10</span></span>\\n<span class=\"rating-cancel\"><a href=\"/title/tt0169102/vote?v=X;k=BCYrQf_8iGH0WQ9JAByi6RSlVaC2noiXWUO34AyiVt0WNSQmavCGos77_wmxF_4r1H23tOf68NC-JbawSLjT8E-76FgUJVT0cJWUO4bxxruDqJEVu6esVLKxvIC5-HHjFH_s\" title=\"Delete\" rel=\"nofollow\"><span>X</span></a></span>\\n&nbsp;</div>\\n\\n</div>\\n<span class=\"outline\">The people of a small village in Victorian India stake their future on a game of cricket against their ruthless British rulers...</span>\\n<span class=\"credit\">\\n    Dir: <a href=\"/name/nm0332950/\">Ashutosh Gowariker</a>\\n    With: <a href=\"/name/nm0451148/\">Aamir Khan</a>, <a href=\"/name/nm0961737/\">Gracy Singh</a>, <a href=\"/name/nm0791226/\">Rachel Shelley</a>\\n</span>\\n    <span class=\"genre\"><a href=\"/genre/adventure\">Adventure</a> | <a href=\"/genre/drama\">Drama</a> | <a href=\"/genre/musical\">Musical</a> | <a href=\"/genre/romance\">Romance</a> | <a href=\"/genre/sport\">Sport</a></span>\\n    <span class=\"certificate\"><span title=\"PG\" class=\"us_pg titlePageSprite\"></span></span>\\n    <span class=\"runtime\">224 mins.</span>\\n</td>\\n</tr>\\n<tr class=\"even detailed\">\\n  <td class=\"number\">17.</td>\\n  <td class=\"image\">\\n    <a href=\"/title/tt1188996/\" title=\"My Name Is Khan (2010)\"><img src=\"http://ia.media-imdb.com/images/M/MV5BMTUyMTA4NDYzMV5BMl5BanBnXkFtZTcwMjk5MzcxMw@@._V1._SX54_CR0,0,54,74_.jpg\" height=\"74\" width=\"54\" alt=\"My Name Is Khan (2010)\" title=\"My Name Is Khan (2010)\"></a>\\n  </td>\\n  <td class=\"title\">\\n    \\n\\n<span class=\"wlb_wrapper\" data-tconst=\"tt1188996\" data-size=\"small\" data-caller-name=\"search\"></span>\\n\\n    <a href=\"/title/tt1188996/\">My Name Is Khan</a>\\n    <span class=\"year_type\">(2010)</span><br>\\n<div class=\"user_rating\">\\n\\n\\n<div class=\"rating rating-list\" data-auth=\"BCYmV5SpXwJHLvUtHOOvKSXzsaG2noiXWUO34AyiVt0WNSQVbpnEWtv0c0NDYfFoTRBUxnvKSAWQzf-MaZUQOou0mGdkrr7cipHTw32nF8tkAu0SNO7Wh5FIgBStqgEPHACQ\" id=\"tt1188996|imdb|8.0|8.0|advsearch\" data-ga-identifier=\"advsearch\"\\n title=\"Users rated this 8.0/10 (59,190 votes) - click stars to rate\">\\n<span class=\"rating-bg\">&nbsp;</span>\\n<span class=\"rating-imdb\" style=\"width: 112px\">&nbsp;</span>\\n<span class=\"rating-stars\">\\n<a href=\"/register/login?why=vote\" title=\"Register or login to rate this title\" rel=\"nofollow\"><span>1</span></a>\\n<a href=\"/register/login?why=vote\" title=\"Register or login to rate this title\" rel=\"nofollow\"><span>2</span></a>\\n<a href=\"/register/login?why=vote\" title=\"Register or login to rate this title\" rel=\"nofollow\"><span>3</span></a>\\n<a href=\"/register/login?why=vote\" title=\"Register or login to rate this title\" rel=\"nofollow\"><span>4</span></a>\\n<a href=\"/register/login?why=vote\" title=\"Register or login to rate this title\" rel=\"nofollow\"><span>5</span></a>\\n<a href=\"/register/login?why=vote\" title=\"Register or login to rate this title\" rel=\"nofollow\"><span>6</span></a>\\n<a href=\"/register/login?why=vote\" title=\"Register or login to rate this title\" rel=\"nofollow\"><span>7</span></a>\\n<a href=\"/register/login?why=vote\" title=\"Register or login to rate this title\" rel=\"nofollow\"><span>8</span></a>\\n<a href=\"/register/login?why=vote\" title=\"Register or login to rate this title\" rel=\"nofollow\"><span>9</span></a>\\n<a href=\"/register/login?why=vote\" title=\"Register or login to rate this title\" rel=\"nofollow\"><span>10</span></a>\\n</span>\\n<span class=\"rating-rating\"><span class=\"value\">8.0</span><span class=\"grey\">/</span><span class=\"grey\">10</span></span>\\n<span class=\"rating-cancel\"><a href=\"/title/tt1188996/vote?v=X;k=BCYmV5SpXwJHLvUtHOOvKSXzsaG2noiXWUO34AyiVt0WNSQVbpnEWtv0c0NDYfFoTRBUxnvKSAWQzf-MaZUQOou0mGdkrr7cipHTw32nF8tkAu0SNO7Wh5FIgBStqgEPHACQ\" title=\"Delete\" rel=\"nofollow\"><span>X</span></a></span>\\n&nbsp;</div>\\n\\n</div>\\n<span class=\"outline\">An Indian Muslim man with Asperger\\'s syndrome takes a challenge to speak to the President seriously, and embarks on a cross-country journey.</span>\\n<span class=\"credit\">\\n    Dir: <a href=\"/name/nm0424103/\">Karan Johar</a>\\n    With: <a href=\"/name/nm0451321/\">Shah Rukh Khan</a>, <a href=\"/name/nm0004418/\">Kajol</a>, <a href=\"/name/nm2974366/\">Sheetal Menon</a>\\n</span>\\n    <span class=\"genre\"><a href=\"/genre/drama\">Drama</a> | <a href=\"/genre/romance\">Romance</a> | <a href=\"/genre/thriller\">Thriller</a></span>\\n    <span class=\"certificate\"><span title=\"PG_13\" class=\"us_pg_13 titlePageSprite\"></span></span>\\n    <span class=\"runtime\">165 mins.</span>\\n</td>\\n</tr>\\n<tr class=\"odd detailed\">\\n  <td class=\"number\">18.</td>\\n  <td class=\"image\">\\n    <a href=\"/title/tt2905838/\" title=\"Bang Bang (2014)\"><img src=\"http://ia.media-imdb.com/images/M/MV5BNTA1MTQ4OTcyNl5BMl5BanBnXkFtZTgwMzAwMzc2MjE@._V1._SX54_CR0,0,54,74_.jpg\" height=\"74\" width=\"54\" alt=\"Bang Bang (2014)\" title=\"Bang Bang (2014)\"></a>\\n  </td>\\n  <td class=\"title\">\\n    \\n\\n<span class=\"wlb_wrapper\" data-tconst=\"tt2905838\" data-size=\"small\" data-caller-name=\"search\"></span>\\n\\n    <a href=\"/title/tt2905838/\">Bang Bang</a>\\n    <span class=\"year_type\">(2014)</span><br>\\n<div class=\"user_rating\">\\n\\n\\n<div class=\"rating rating-list\" data-auth=\"BCYkwDyua3bCIGwHc1DXh6LiHaK2noiXWUO34AyiVt0WNSQlMgNIvwwDhr0j6jlldyLcb0ZvTBafMijDOnTpbxY9pOaaKwpsWdG-GtDJ2J0QF0tw-9eYvvCuUTRSRnt9YH45\" id=\"tt2905838|imdb|5.5|5.5|advsearch\" data-ga-identifier=\"advsearch\"\\n title=\"Users rated this 5.5/10 (14,542 votes) - click stars to rate\">\\n<span class=\"rating-bg\">&nbsp;</span>\\n<span class=\"rating-imdb\" style=\"width: 77px\">&nbsp;</span>\\n<span class=\"rating-stars\">\\n<a href=\"/register/login?why=vote\" title=\"Register or login to rate this title\" rel=\"nofollow\"><span>1</span></a>\\n<a href=\"/register/login?why=vote\" title=\"Register or login to rate this title\" rel=\"nofollow\"><span>2</span></a>\\n<a href=\"/register/login?why=vote\" title=\"Register or login to rate this title\" rel=\"nofollow\"><span>3</span></a>\\n<a href=\"/register/login?why=vote\" title=\"Register or login to rate this title\" rel=\"nofollow\"><span>4</span></a>\\n<a href=\"/register/login?why=vote\" title=\"Register or login to rate this title\" rel=\"nofollow\"><span>5</span></a>\\n<a href=\"/register/login?why=vote\" title=\"Register or login to rate this title\" rel=\"nofollow\"><span>6</span></a>\\n<a href=\"/register/login?why=vote\" title=\"Register or login to rate this title\" rel=\"nofollow\"><span>7</span></a>\\n<a href=\"/register/login?why=vote\" title=\"Register or login to rate this title\" rel=\"nofollow\"><span>8</span></a>\\n<a href=\"/register/login?why=vote\" title=\"Register or login to rate this title\" rel=\"nofollow\"><span>9</span></a>\\n<a href=\"/register/login?why=vote\" title=\"Register or login to rate this title\" rel=\"nofollow\"><span>10</span></a>\\n</span>\\n<span class=\"rating-rating\"><span class=\"value\">5.5</span><span class=\"grey\">/</span><span class=\"grey\">10</span></span>\\n<span class=\"rating-cancel\"><a href=\"/title/tt2905838/vote?v=X;k=BCYkwDyua3bCIGwHc1DXh6LiHaK2noiXWUO34AyiVt0WNSQlMgNIvwwDhr0j6jlldyLcb0ZvTBafMijDOnTpbxY9pOaaKwpsWdG-GtDJ2J0QF0tw-9eYvvCuUTRSRnt9YH45\" title=\"Delete\" rel=\"nofollow\"><span>X</span></a></span>\\n&nbsp;</div>\\n\\n</div>\\n<span class=\"outline\">A young bank receptionist gets mixed up with Rajveer Nanda, a man who has a mysterious background.</span>\\n<span class=\"credit\">\\n    Dir: <a href=\"/name/nm1893457/\">Siddharth Anand</a>\\n    With: <a href=\"/name/nm0004335/\">Hrithik Roshan</a>, <a href=\"/name/nm1229940/\">Katrina Kaif</a>, <a href=\"/name/nm0539497/\">Pavan Malhotra</a>\\n</span>\\n    <span class=\"genre\"><a href=\"/genre/action\">Action</a> | <a href=\"/genre/adventure\">Adventure</a> | <a href=\"/genre/comedy\">Comedy</a> | <a href=\"/genre/romance\">Romance</a> | <a href=\"/genre/thriller\">Thriller</a></span>\\n    <span class=\"certificate\"><span title=\"PG_13\" class=\"us_pg_13 titlePageSprite\"></span></span>\\n    <span class=\"runtime\">153 mins.</span>\\n</td>\\n</tr>\\n<tr class=\"even detailed\">\\n  <td class=\"number\">19.</td>\\n  <td class=\"image\">\\n    <a href=\"/title/tt3696192/\" title=\"Singh Is Bling (2015)\"><img src=\"http://i.media-imdb.com/images/SF1f0a42ee1aa08d477a576fbbf7562eed/realm/feature.gif\" height=\"74\" width=\"54\" alt=\"Singh Is Bling (2015)\" title=\"Singh Is Bling (2015)\"></a>\\n  </td>\\n  <td class=\"title\">\\n    \\n\\n<span class=\"wlb_wrapper\" data-tconst=\"tt3696192\" data-size=\"small\" data-caller-name=\"search\"></span>\\n\\n    <a href=\"/title/tt3696192/\">Singh Is Bling</a>\\n    <span class=\"year_type\">(2015)</span><br>\\n<div class=\"user_rating\">\\n\\n</div>\\n<span class=\"outline\">Plot is unknown.</span>\\n<span class=\"credit\">\\n    Dir: <a href=\"/name/nm0222150/\">Prabhudheva</a>\\n    With: <a href=\"/name/nm0474774/\">Akshay Kumar</a>, <a href=\"/name/nm1056425/\">Raajpal Yadav</a>, <a href=\"/name/nm5954267/\">Sumit Shukla</a>\\n</span>\\n    <span class=\"genre\"><a href=\"/genre/action\">Action</a> | <a href=\"/genre/comedy\">Comedy</a> | <a href=\"/genre/drama\">Drama</a></span>\\n    <span class=\"certificate\"></span>\\n</td>\\n</tr>\\n<tr class=\"odd detailed\">\\n  <td class=\"number\">20.</td>\\n  <td class=\"image\">\\n    <a href=\"/title/tt2424988/\" title=\"Gabbar is Back (2015)\"><img src=\"http://ia.media-imdb.com/images/M/MV5BMjQyMTY1NTc1NV5BMl5BanBnXkFtZTgwODUzMDIyNTE@._V1._SX54_CR0,0,54,74_.jpg\" height=\"74\" width=\"54\" alt=\"Gabbar is Back (2015)\" title=\"Gabbar is Back (2015)\"></a>\\n  </td>\\n  <td class=\"title\">\\n    \\n\\n<span class=\"wlb_wrapper\" data-tconst=\"tt2424988\" data-size=\"small\" data-caller-name=\"search\"></span>\\n\\n    <a href=\"/title/tt2424988/\">Gabbar is Back</a>\\n    <span class=\"year_type\">(2015)</span><br>\\n<div class=\"user_rating\">\\n\\n\\n<div class=\"rating rating-list\" data-auth=\"BCYhttR8VOB6GdxSa99beTEjKqO2noiXWUO34AyiVt0WNSTyrkznLRP2q3r0QuvVMFlatq4OqU1DcvX22tqSm3CU_JyLXUtWO8r6Jdvn0XG5Y6YLuQc1yel46vU7cPWHHM7Q\" id=\"tt2424988|imdb|7.3|7.3|advsearch\" data-ga-identifier=\"advsearch\"\\n title=\"Users rated this 7.3/10 (8,066 votes) - click stars to rate\">\\n<span class=\"rating-bg\">&nbsp;</span>\\n<span class=\"rating-imdb\" style=\"width: 102px\">&nbsp;</span>\\n<span class=\"rating-stars\">\\n<a href=\"/register/login?why=vote\" title=\"Register or login to rate this title\" rel=\"nofollow\"><span>1</span></a>\\n<a href=\"/register/login?why=vote\" title=\"Register or login to rate this title\" rel=\"nofollow\"><span>2</span></a>\\n<a href=\"/register/login?why=vote\" title=\"Register or login to rate this title\" rel=\"nofollow\"><span>3</span></a>\\n<a href=\"/register/login?why=vote\" title=\"Register or login to rate this title\" rel=\"nofollow\"><span>4</span></a>\\n<a href=\"/register/login?why=vote\" title=\"Register or login to rate this title\" rel=\"nofollow\"><span>5</span></a>\\n<a href=\"/register/login?why=vote\" title=\"Register or login to rate this title\" rel=\"nofollow\"><span>6</span></a>\\n<a href=\"/register/login?why=vote\" title=\"Register or login to rate this title\" rel=\"nofollow\"><span>7</span></a>\\n<a href=\"/register/login?why=vote\" title=\"Register or login to rate this title\" rel=\"nofollow\"><span>8</span></a>\\n<a href=\"/register/login?why=vote\" title=\"Register or login to rate this title\" rel=\"nofollow\"><span>9</span></a>\\n<a href=\"/register/login?why=vote\" title=\"Register or login to rate this title\" rel=\"nofollow\"><span>10</span></a>\\n</span>\\n<span class=\"rating-rating\"><span class=\"value\">7.3</span><span class=\"grey\">/</span><span class=\"grey\">10</span></span>\\n<span class=\"rating-cancel\"><a href=\"/title/tt2424988/vote?v=X;k=BCYhttR8VOB6GdxSa99beTEjKqO2noiXWUO34AyiVt0WNSTyrkznLRP2q3r0QuvVMFlatq4OqU1DcvX22tqSm3CU_JyLXUtWO8r6Jdvn0XG5Y6YLuQc1yel46vU7cPWHHM7Q\" title=\"Delete\" rel=\"nofollow\"><span>X</span></a></span>\\n&nbsp;</div>\\n\\n</div>\\n<span class=\"outline\">A grief-stricken man takes the law into his own hands when he begins to kidnap and murder corrupt public servants.</span>\\n<span class=\"credit\">\\n    Dir: <a href=\"/name/nm3758453/\">Radha Krishna Jagarlamudi</a>\\n    With: <a href=\"/name/nm0474774/\">Akshay Kumar</a>, <a href=\"/name/nm1599046/\">Shruti K. Haasan</a>, <a href=\"/name/nm1571487/\">Sunil Grover</a>\\n</span>\\n    <span class=\"genre\"><a href=\"/genre/action\">Action</a> | <a href=\"/genre/crime\">Crime</a> | <a href=\"/genre/drama\">Drama</a></span>\\n    <span class=\"certificate\"></span>\\n    <span class=\"runtime\">128 mins.</span>\\n</td>\\n</tr>\\n<tr class=\"even detailed\">\\n  <td class=\"number\">21.</td>\\n  <td class=\"image\">\\n    <a href=\"/title/tt3390572/\" title=\"Haider (2014)\"><img src=\"http://ia.media-imdb.com/images/M/MV5BMjA1NTEwMDMxMF5BMl5BanBnXkFtZTgwODkzMzI0MjE@._V1._SX54_CR0,0,54,74_.jpg\" height=\"74\" width=\"54\" alt=\"Haider (2014)\" title=\"Haider (2014)\"></a>\\n  </td>\\n  <td class=\"title\">\\n    \\n\\n<span class=\"wlb_wrapper\" data-tconst=\"tt3390572\" data-size=\"small\" data-caller-name=\"search\"></span>\\n\\n    <a href=\"/title/tt3390572/\">Haider</a>\\n    <span class=\"year_type\">(2014)</span><br>\\n<div class=\"user_rating\">\\n\\n\\n<div class=\"rating rating-list\" data-auth=\"BCYsHRfuMym_V8VrzjUTFkk3WqS2noiXWUO34AyiVt0WNSS0q_Z9wp7hOaDyZEIoINZdLTAIg61b_G3wb0Fbmk7ddJz5cMy9TUOZXutRtYMAjrXx0fTmjPOnBNNJAaEOOZ0t\" id=\"tt3390572|imdb|8.4|8.4|advsearch\" data-ga-identifier=\"advsearch\"\\n title=\"Users rated this 8.4/10 (31,299 votes) - click stars to rate\">\\n<span class=\"rating-bg\">&nbsp;</span>\\n<span class=\"rating-imdb\" style=\"width: 117px\">&nbsp;</span>\\n<span class=\"rating-stars\">\\n<a href=\"/register/login?why=vote\" title=\"Register or login to rate this title\" rel=\"nofollow\"><span>1</span></a>\\n<a href=\"/register/login?why=vote\" title=\"Register or login to rate this title\" rel=\"nofollow\"><span>2</span></a>\\n<a href=\"/register/login?why=vote\" title=\"Register or login to rate this title\" rel=\"nofollow\"><span>3</span></a>\\n<a href=\"/register/login?why=vote\" title=\"Register or login to rate this title\" rel=\"nofollow\"><span>4</span></a>\\n<a href=\"/register/login?why=vote\" title=\"Register or login to rate this title\" rel=\"nofollow\"><span>5</span></a>\\n<a href=\"/register/login?why=vote\" title=\"Register or login to rate this title\" rel=\"nofollow\"><span>6</span></a>\\n<a href=\"/register/login?why=vote\" title=\"Register or login to rate this title\" rel=\"nofollow\"><span>7</span></a>\\n<a href=\"/register/login?why=vote\" title=\"Register or login to rate this title\" rel=\"nofollow\"><span>8</span></a>\\n<a href=\"/register/login?why=vote\" title=\"Register or login to rate this title\" rel=\"nofollow\"><span>9</span></a>\\n<a href=\"/register/login?why=vote\" title=\"Register or login to rate this title\" rel=\"nofollow\"><span>10</span></a>\\n</span>\\n<span class=\"rating-rating\"><span class=\"value\">8.4</span><span class=\"grey\">/</span><span class=\"grey\">10</span></span>\\n<span class=\"rating-cancel\"><a href=\"/title/tt3390572/vote?v=X;k=BCYsHRfuMym_V8VrzjUTFkk3WqS2noiXWUO34AyiVt0WNSS0q_Z9wp7hOaDyZEIoINZdLTAIg61b_G3wb0Fbmk7ddJz5cMy9TUOZXutRtYMAjrXx0fTmjPOnBNNJAaEOOZ0t\" title=\"Delete\" rel=\"nofollow\"><span>X</span></a></span>\\n&nbsp;</div>\\n\\n</div>\\n<span class=\"outline\">A young man returns to Kashmir after his father\\'s disappearance to confront uncle - the man who had a role in his father\\'s fate.</span>\\n<span class=\"credit\">\\n    Dir: <a href=\"/name/nm0080235/\">Vishal Bhardwaj</a>\\n    With: <a href=\"/name/nm1372788/\">Shahid Kapoor</a>, <a href=\"/name/nm0007102/\">Tabu</a>, <a href=\"/name/nm3601766/\">Shraddha Kapoor</a>\\n</span>\\n    <span class=\"genre\"><a href=\"/genre/crime\">Crime</a> | <a href=\"/genre/drama\">Drama</a> | <a href=\"/genre/romance\">Romance</a> | <a href=\"/genre/thriller\">Thriller</a></span>\\n    <span class=\"certificate\"></span>\\n    <span class=\"runtime\">160 mins.</span>\\n</td>\\n</tr>\\n<tr class=\"odd detailed\">\\n  <td class=\"number\">22.</td>\\n  <td class=\"image\">\\n    <a href=\"/title/tt1166100/\" title=\"Ghajini (2008)\"><img src=\"http://ia.media-imdb.com/images/M/MV5BMjAyMzU3OTg2Nl5BMl5BanBnXkFtZTcwNzIyMjMyMg@@._V1._SX54_CR0,0,54,74_.jpg\" height=\"74\" width=\"54\" alt=\"Ghajini (2008)\" title=\"Ghajini (2008)\"></a>\\n  </td>\\n  <td class=\"title\">\\n    \\n\\n<span class=\"wlb_wrapper\" data-tconst=\"tt1166100\" data-size=\"small\" data-caller-name=\"search\"></span>\\n\\n    <a href=\"/title/tt1166100/\">Ghajini</a>\\n    <span class=\"year_type\">(2008)</span><br>\\n<div class=\"user_rating\">\\n\\n\\n<div class=\"rating rating-list\" data-auth=\"BCYpGLKnC6TPKm9CER23C6nSEKW2noiXWUO34AyiVt0WNSTSel9-F9Gu9Xo0CX_RanyytkAOoPf5qQaD4I4UIBTtvCYqO3ek6KnUgYIfHeCuVHIxfuRgPiNf4DebjXgpXGC5\" id=\"tt1166100|imdb|7.3|7.3|advsearch\" data-ga-identifier=\"advsearch\"\\n title=\"Users rated this 7.3/10 (30,742 votes) - click stars to rate\">\\n<span class=\"rating-bg\">&nbsp;</span>\\n<span class=\"rating-imdb\" style=\"width: 102px\">&nbsp;</span>\\n<span class=\"rating-stars\">\\n<a href=\"/register/login?why=vote\" title=\"Register or login to rate this title\" rel=\"nofollow\"><span>1</span></a>\\n<a href=\"/register/login?why=vote\" title=\"Register or login to rate this title\" rel=\"nofollow\"><span>2</span></a>\\n<a href=\"/register/login?why=vote\" title=\"Register or login to rate this title\" rel=\"nofollow\"><span>3</span></a>\\n<a href=\"/register/login?why=vote\" title=\"Register or login to rate this title\" rel=\"nofollow\"><span>4</span></a>\\n<a href=\"/register/login?why=vote\" title=\"Register or login to rate this title\" rel=\"nofollow\"><span>5</span></a>\\n<a href=\"/register/login?why=vote\" title=\"Register or login to rate this title\" rel=\"nofollow\"><span>6</span></a>\\n<a href=\"/register/login?why=vote\" title=\"Register or login to rate this title\" rel=\"nofollow\"><span>7</span></a>\\n<a href=\"/register/login?why=vote\" title=\"Register or login to rate this title\" rel=\"nofollow\"><span>8</span></a>\\n<a href=\"/register/login?why=vote\" title=\"Register or login to rate this title\" rel=\"nofollow\"><span>9</span></a>\\n<a href=\"/register/login?why=vote\" title=\"Register or login to rate this title\" rel=\"nofollow\"><span>10</span></a>\\n</span>\\n<span class=\"rating-rating\"><span class=\"value\">7.3</span><span class=\"grey\">/</span><span class=\"grey\">10</span></span>\\n<span class=\"rating-cancel\"><a href=\"/title/tt1166100/vote?v=X;k=BCYpGLKnC6TPKm9CER23C6nSEKW2noiXWUO34AyiVt0WNSTSel9-F9Gu9Xo0CX_RanyytkAOoPf5qQaD4I4UIBTtvCYqO3ek6KnUgYIfHeCuVHIxfuRgPiNf4DebjXgpXGC5\" title=\"Delete\" rel=\"nofollow\"><span>X</span></a></span>\\n&nbsp;</div>\\n\\n</div>\\n<span class=\"outline\">A short-term memory loss patient sets out on his journey to avenge the death of his beloved girl.</span>\\n<span class=\"credit\">\\n    Dir: <a href=\"/name/nm1436693/\">A.R. Murugadoss</a>\\n    With: <a href=\"/name/nm0451148/\">Aamir Khan</a>, <a href=\"/name/nm1821791/\">Asin</a>, <a href=\"/name/nm2318317/\">Jiah Khan</a>\\n</span>\\n    <span class=\"genre\"><a href=\"/genre/action\">Action</a> | <a href=\"/genre/drama\">Drama</a> | <a href=\"/genre/mystery\">Mystery</a> | <a href=\"/genre/romance\">Romance</a> | <a href=\"/genre/thriller\">Thriller</a></span>\\n    <span class=\"certificate\"></span>\\n    <span class=\"runtime\">183 mins.</span>\\n</td>\\n</tr>\\n<tr class=\"even detailed\">\\n  <td class=\"number\">23.</td>\\n  <td class=\"image\">\\n    <a href=\"/title/tt0405508/\" title=\"Rang De Basanti (2006)\"><img src=\"http://ia.media-imdb.com/images/M/MV5BMjEwNzA5MjAwN15BMl5BanBnXkFtZTcwMzY5MzIzMQ@@._V1._SX54_CR0,0,54,74_.jpg\" height=\"74\" width=\"54\" alt=\"Rang De Basanti (2006)\" title=\"Rang De Basanti (2006)\"></a>\\n  </td>\\n  <td class=\"title\">\\n    \\n\\n<span class=\"wlb_wrapper\" data-tconst=\"tt0405508\" data-size=\"small\" data-caller-name=\"search\"></span>\\n\\n    <a href=\"/title/tt0405508/\">Rang De Basanti</a>\\n    <span class=\"year_type\">(2006)</span><br>\\n<div class=\"user_rating\">\\n\\n\\n<div class=\"rating rating-list\" data-auth=\"BCYmjt7jVad8fQ3KUKoK5YLiGaa2noiXWUO34AyiVt0WNSSooh4zWTOxnt8s9vbltxs0kWUD0O4-ii5bZvvhYMe3J_gpIWeUATGKbrcJ-ScPcVHne1wEWjti0PYKW_SyfuZK\" id=\"tt0405508|imdb|8.4|8.4|advsearch\" data-ga-identifier=\"advsearch\"\\n title=\"Users rated this 8.4/10 (60,970 votes) - click stars to rate\">\\n<span class=\"rating-bg\">&nbsp;</span>\\n<span class=\"rating-imdb\" style=\"width: 117px\">&nbsp;</span>\\n<span class=\"rating-stars\">\\n<a href=\"/register/login?why=vote\" title=\"Register or login to rate this title\" rel=\"nofollow\"><span>1</span></a>\\n<a href=\"/register/login?why=vote\" title=\"Register or login to rate this title\" rel=\"nofollow\"><span>2</span></a>\\n<a href=\"/register/login?why=vote\" title=\"Register or login to rate this title\" rel=\"nofollow\"><span>3</span></a>\\n<a href=\"/register/login?why=vote\" title=\"Register or login to rate this title\" rel=\"nofollow\"><span>4</span></a>\\n<a href=\"/register/login?why=vote\" title=\"Register or login to rate this title\" rel=\"nofollow\"><span>5</span></a>\\n<a href=\"/register/login?why=vote\" title=\"Register or login to rate this title\" rel=\"nofollow\"><span>6</span></a>\\n<a href=\"/register/login?why=vote\" title=\"Register or login to rate this title\" rel=\"nofollow\"><span>7</span></a>\\n<a href=\"/register/login?why=vote\" title=\"Register or login to rate this title\" rel=\"nofollow\"><span>8</span></a>\\n<a href=\"/register/login?why=vote\" title=\"Register or login to rate this title\" rel=\"nofollow\"><span>9</span></a>\\n<a href=\"/register/login?why=vote\" title=\"Register or login to rate this title\" rel=\"nofollow\"><span>10</span></a>\\n</span>\\n<span class=\"rating-rating\"><span class=\"value\">8.4</span><span class=\"grey\">/</span><span class=\"grey\">10</span></span>\\n<span class=\"rating-cancel\"><a href=\"/title/tt0405508/vote?v=X;k=BCYmjt7jVad8fQ3KUKoK5YLiGaa2noiXWUO34AyiVt0WNSSooh4zWTOxnt8s9vbltxs0kWUD0O4-ii5bZvvhYMe3J_gpIWeUATGKbrcJ-ScPcVHne1wEWjti0PYKW_SyfuZK\" title=\"Delete\" rel=\"nofollow\"><span>X</span></a></span>\\n&nbsp;</div>\\n\\n</div>\\n<span class=\"outline\">The story of six young Indians who assist an English Woman to film a documentary on the extremist freedom fighters from their past, and the events that lead them to relive the long forgotten saga of freedom.</span>\\n<span class=\"credit\">\\n    Dir: <a href=\"/name/nm1018493/\">Rakeysh Omprakash Mehra</a>\\n    With: <a href=\"/name/nm0451148/\">Aamir Khan</a>, <a href=\"/name/nm1675786/\">Soha Ali Khan</a>, <a href=\"/name/nm1413459/\">Siddharth</a>\\n</span>\\n    <span class=\"genre\"><a href=\"/genre/comedy\">Comedy</a> | <a href=\"/genre/drama\">Drama</a> | <a href=\"/genre/history\">History</a> | <a href=\"/genre/music\">Music</a> | <a href=\"/genre/romance\">Romance</a></span>\\n    <span class=\"certificate\"><span title=\"NOT_RATED\" class=\"us_not_rated titlePageSprite\"></span></span>\\n    <span class=\"runtime\">157 mins.</span>\\n</td>\\n</tr>\\n<tr class=\"odd detailed\">\\n  <td class=\"number\">24.</td>\\n  <td class=\"image\">\\n    <a href=\"/title/tt3848892/\" title=\"Baby (2015)\"><img src=\"http://ia.media-imdb.com/images/M/MV5BMjAzMDUzMzk0NV5BMl5BanBnXkFtZTgwODczODg4MzE@._V1._SX54_CR0,0,54,74_.jpg\" height=\"74\" width=\"54\" alt=\"Baby (2015)\" title=\"Baby (2015)\"></a>\\n  </td>\\n  <td class=\"title\">\\n    \\n\\n<span class=\"wlb_wrapper\" data-tconst=\"tt3848892\" data-size=\"small\" data-caller-name=\"search\"></span>\\n\\n    <a href=\"/title/tt3848892/\">Baby</a>\\n    <span class=\"year_type\">(2015)</span><br>\\n<div class=\"user_rating\">\\n\\n\\n<div class=\"rating rating-list\" data-auth=\"BCYgOPHQrZXSPqMcBFGjLqXV4Ke2noiXWUO34AyiVt0WNSSp_foYY7NMtnu5-60sE4cTzKEti3dVwK96VJbfAddsMI1voLVGwRwiEZVXvntPGa7-ehgp10YCcw7dbYvDdb31\" id=\"tt3848892|imdb|8.2|8.2|advsearch\" data-ga-identifier=\"advsearch\"\\n title=\"Users rated this 8.2/10 (25,117 votes) - click stars to rate\">\\n<span class=\"rating-bg\">&nbsp;</span>\\n<span class=\"rating-imdb\" style=\"width: 114px\">&nbsp;</span>\\n<span class=\"rating-stars\">\\n<a href=\"/register/login?why=vote\" title=\"Register or login to rate this title\" rel=\"nofollow\"><span>1</span></a>\\n<a href=\"/register/login?why=vote\" title=\"Register or login to rate this title\" rel=\"nofollow\"><span>2</span></a>\\n<a href=\"/register/login?why=vote\" title=\"Register or login to rate this title\" rel=\"nofollow\"><span>3</span></a>\\n<a href=\"/register/login?why=vote\" title=\"Register or login to rate this title\" rel=\"nofollow\"><span>4</span></a>\\n<a href=\"/register/login?why=vote\" title=\"Register or login to rate this title\" rel=\"nofollow\"><span>5</span></a>\\n<a href=\"/register/login?why=vote\" title=\"Register or login to rate this title\" rel=\"nofollow\"><span>6</span></a>\\n<a href=\"/register/login?why=vote\" title=\"Register or login to rate this title\" rel=\"nofollow\"><span>7</span></a>\\n<a href=\"/register/login?why=vote\" title=\"Register or login to rate this title\" rel=\"nofollow\"><span>8</span></a>\\n<a href=\"/register/login?why=vote\" title=\"Register or login to rate this title\" rel=\"nofollow\"><span>9</span></a>\\n<a href=\"/register/login?why=vote\" title=\"Register or login to rate this title\" rel=\"nofollow\"><span>10</span></a>\\n</span>\\n<span class=\"rating-rating\"><span class=\"value\">8.2</span><span class=\"grey\">/</span><span class=\"grey\">10</span></span>\\n<span class=\"rating-cancel\"><a href=\"/title/tt3848892/vote?v=X;k=BCYgOPHQrZXSPqMcBFGjLqXV4Ke2noiXWUO34AyiVt0WNSSp_foYY7NMtnu5-60sE4cTzKEti3dVwK96VJbfAddsMI1voLVGwRwiEZVXvntPGa7-ehgp10YCcw7dbYvDdb31\" title=\"Delete\" rel=\"nofollow\"><span>X</span></a></span>\\n&nbsp;</div>\\n\\n</div>\\n<span class=\"outline\">An elite counter-intelligence unit learns of a plot, masterminded by a maniacal madman. With the clock ticking, it\\'s up to them to track the terrorists\\' international tentacles and prevent them from striking at the heart of India.</span>\\n<span class=\"credit\">\\n    Dir: <a href=\"/name/nm3109770/\">Neeraj Pandey</a>\\n    With: <a href=\"/name/nm0474774/\">Akshay Kumar</a>, <a href=\"/name/nm0219939/\">Danny Denzongpa</a>, <a href=\"/name/nm2281292/\">Rana Daggubati</a>\\n</span>\\n    <span class=\"genre\"><a href=\"/genre/action\">Action</a> | <a href=\"/genre/crime\">Crime</a> | <a href=\"/genre/thriller\">Thriller</a></span>\\n    <span class=\"certificate\"></span>\\n    <span class=\"runtime\">159 mins.</span>\\n</td>\\n</tr>\\n<tr class=\"even detailed\">\\n  <td class=\"number\">25.</td>\\n  <td class=\"image\">\\n    <a href=\"/title/tt3483612/\" title=\"Hamari Adhuri Kahaani (2015)\"><img src=\"http://i.media-imdb.com/images/SF1f0a42ee1aa08d477a576fbbf7562eed/realm/feature.gif\" height=\"74\" width=\"54\" alt=\"Hamari Adhuri Kahaani (2015)\" title=\"Hamari Adhuri Kahaani (2015)\"></a>\\n  </td>\\n  <td class=\"title\">\\n    \\n\\n<span class=\"wlb_wrapper\" data-tconst=\"tt3483612\" data-size=\"small\" data-caller-name=\"search\"></span>\\n\\n    <a href=\"/title/tt3483612/\">Hamari Adhuri Kahaani</a>\\n    <span class=\"year_type\">(2015)</span><br>\\n<div class=\"user_rating\">\\n\\n\\n<div class=\"rating rating-list\" data-auth=\"BCYlxMyMyQb64Z99ETNtmx2j6ai2noiXWUO34AyiVt0WNSRVVQPatF_Nu8nDHrGRbP1jSvNyWbbyuTi7u93mWMvAz531QDR-LMEnTjk3o0Sqi1bPf5oGMrU2C_VGfFvg0jvT\" id=\"tt3483612|imdb|6.7|6.7|advsearch\" data-ga-identifier=\"advsearch\"\\n title=\"Users rated this 6.7/10 (1,882 votes) - click stars to rate\">\\n<span class=\"rating-bg\">&nbsp;</span>\\n<span class=\"rating-imdb\" style=\"width: 93px\">&nbsp;</span>\\n<span class=\"rating-stars\">\\n<a href=\"/register/login?why=vote\" title=\"Register or login to rate this title\" rel=\"nofollow\"><span>1</span></a>\\n<a href=\"/register/login?why=vote\" title=\"Register or login to rate this title\" rel=\"nofollow\"><span>2</span></a>\\n<a href=\"/register/login?why=vote\" title=\"Register or login to rate this title\" rel=\"nofollow\"><span>3</span></a>\\n<a href=\"/register/login?why=vote\" title=\"Register or login to rate this title\" rel=\"nofollow\"><span>4</span></a>\\n<a href=\"/register/login?why=vote\" title=\"Register or login to rate this title\" rel=\"nofollow\"><span>5</span></a>\\n<a href=\"/register/login?why=vote\" title=\"Register or login to rate this title\" rel=\"nofollow\"><span>6</span></a>\\n<a href=\"/register/login?why=vote\" title=\"Register or login to rate this title\" rel=\"nofollow\"><span>7</span></a>\\n<a href=\"/register/login?why=vote\" title=\"Register or login to rate this title\" rel=\"nofollow\"><span>8</span></a>\\n<a href=\"/register/login?why=vote\" title=\"Register or login to rate this title\" rel=\"nofollow\"><span>9</span></a>\\n<a href=\"/register/login?why=vote\" title=\"Register or login to rate this title\" rel=\"nofollow\"><span>10</span></a>\\n</span>\\n<span class=\"rating-rating\"><span class=\"value\">6.7</span><span class=\"grey\">/</span><span class=\"grey\">10</span></span>\\n<span class=\"rating-cancel\"><a href=\"/title/tt3483612/vote?v=X;k=BCYlxMyMyQb64Z99ETNtmx2j6ai2noiXWUO34AyiVt0WNSRVVQPatF_Nu8nDHrGRbP1jSvNyWbbyuTi7u93mWMvAz531QDR-LMEnTjk3o0Sqi1bPf5oGMrU2C_VGfFvg0jvT\" title=\"Delete\" rel=\"nofollow\"><span>X</span></a></span>\\n&nbsp;</div>\\n\\n</div>\\n<span class=\"outline\">Five years after the mysterious disappearance of her husband, a woman becomes romantically involved with a wealthy hotelier and together they confront her past.</span>\\n<span class=\"credit\">\\n    Dir: <a href=\"/name/nm1887138/\">Mohit Suri</a>\\n    With: <a href=\"/name/nm1431656/\">Emraan Hashmi</a>, <a href=\"/name/nm1799038/\">Vidya Balan</a>, <a href=\"/name/nm3822770/\">Rajkummar Rao</a>\\n</span>\\n    <span class=\"genre\"><a href=\"/genre/drama\">Drama</a></span>\\n    <span class=\"certificate\"></span>\\n    <span class=\"runtime\">129 mins.</span>\\n</td>\\n</tr>\\n<tr class=\"odd detailed\">\\n  <td class=\"number\">26.</td>\\n  <td class=\"image\">\\n    <a href=\"/title/tt3742284/\" title=\"Nh10 (2015)\"><img src=\"http://ia.media-imdb.com/images/M/MV5BOTUyMzk3MzQ5OV5BMl5BanBnXkFtZTgwNDM3MjM5NDE@._V1._SX54_CR0,0,54,74_.jpg\" height=\"74\" width=\"54\" alt=\"Nh10 (2015)\" title=\"Nh10 (2015)\"></a>\\n  </td>\\n  <td class=\"title\">\\n    \\n\\n<span class=\"wlb_wrapper\" data-tconst=\"tt3742284\" data-size=\"small\" data-caller-name=\"search\"></span>\\n\\n    <a href=\"/title/tt3742284/\">Nh10</a>\\n    <span class=\"year_type\">(2015)</span><br>\\n<div class=\"user_rating\">\\n\\n\\n<div class=\"rating rating-list\" data-auth=\"BCYkApZE8-m_G5AR95JALQer5Km2noiXWUO34AyiVt0WNSRW_qWZhqCzLbMQzrT9cNy0COAwLFncUruywQu0lLx9-pjHMKRrVlPDpal3dWcyD-ojrxZtZcBYvwECMUN5HlBm\" id=\"tt3742284|imdb|7.2|7.2|advsearch\" data-ga-identifier=\"advsearch\"\\n title=\"Users rated this 7.2/10 (5,197 votes) - click stars to rate\">\\n<span class=\"rating-bg\">&nbsp;</span>\\n<span class=\"rating-imdb\" style=\"width: 100px\">&nbsp;</span>\\n<span class=\"rating-stars\">\\n<a href=\"/register/login?why=vote\" title=\"Register or login to rate this title\" rel=\"nofollow\"><span>1</span></a>\\n<a href=\"/register/login?why=vote\" title=\"Register or login to rate this title\" rel=\"nofollow\"><span>2</span></a>\\n<a href=\"/register/login?why=vote\" title=\"Register or login to rate this title\" rel=\"nofollow\"><span>3</span></a>\\n<a href=\"/register/login?why=vote\" title=\"Register or login to rate this title\" rel=\"nofollow\"><span>4</span></a>\\n<a href=\"/register/login?why=vote\" title=\"Register or login to rate this title\" rel=\"nofollow\"><span>5</span></a>\\n<a href=\"/register/login?why=vote\" title=\"Register or login to rate this title\" rel=\"nofollow\"><span>6</span></a>\\n<a href=\"/register/login?why=vote\" title=\"Register or login to rate this title\" rel=\"nofollow\"><span>7</span></a>\\n<a href=\"/register/login?why=vote\" title=\"Register or login to rate this title\" rel=\"nofollow\"><span>8</span></a>\\n<a href=\"/register/login?why=vote\" title=\"Register or login to rate this title\" rel=\"nofollow\"><span>9</span></a>\\n<a href=\"/register/login?why=vote\" title=\"Register or login to rate this title\" rel=\"nofollow\"><span>10</span></a>\\n</span>\\n<span class=\"rating-rating\"><span class=\"value\">7.2</span><span class=\"grey\">/</span><span class=\"grey\">10</span></span>\\n<span class=\"rating-cancel\"><a href=\"/title/tt3742284/vote?v=X;k=BCYkApZE8-m_G5AR95JALQer5Km2noiXWUO34AyiVt0WNSRW_qWZhqCzLbMQzrT9cNy0COAwLFncUruywQu0lLx9-pjHMKRrVlPDpal3dWcyD-ojrxZtZcBYvwECMUN5HlBm\" title=\"Delete\" rel=\"nofollow\"><span>X</span></a></span>\\n&nbsp;</div>\\n\\n</div>\\n<span class=\"outline\">After her desert date goes wrong, a woman manages to not just stick it out but indeed give it back.</span>\\n<span class=\"credit\">\\n    Dir: <a href=\"/name/nm2480204/\">Navdeep Singh</a>\\n    With: <a href=\"/name/nm3087728/\">Anushka Sharma</a>, <a href=\"/name/nm7197038/\">Ravi Beniwal</a>, <a href=\"/name/nm3883599/\">Siddharth Bharadwaj</a>\\n</span>\\n    <span class=\"genre\"><a href=\"/genre/crime\">Crime</a> | <a href=\"/genre/drama\">Drama</a> | <a href=\"/genre/mystery\">Mystery</a> | <a href=\"/genre/thriller\">Thriller</a></span>\\n    <span class=\"certificate\"></span>\\n    <span class=\"runtime\">115 mins.</span>\\n</td>\\n</tr>\\n<tr class=\"even detailed\">\\n  <td class=\"number\">27.</td>\\n  <td class=\"image\">\\n    <a href=\"/title/tt0347304/\" title=\"Kal Ho Naa Ho (2003)\"><img src=\"http://ia.media-imdb.com/images/M/MV5BMTkxNzU2MDczOV5BMl5BanBnXkFtZTcwNTU5NTk5Mw@@._V1._SY74_CR10,0,54,74_.jpg\" height=\"74\" width=\"54\" alt=\"Kal Ho Naa Ho (2003)\" title=\"Kal Ho Naa Ho (2003)\"></a>\\n  </td>\\n  <td class=\"title\">\\n    \\n\\n<span class=\"wlb_wrapper\" data-tconst=\"tt0347304\" data-size=\"small\" data-caller-name=\"search\"></span>\\n\\n    <a href=\"/title/tt0347304/\">Kal Ho Naa Ho</a>\\n    <span class=\"year_type\">(2003)</span><br>\\n<div class=\"user_rating\">\\n\\n\\n<div class=\"rating rating-list\" data-auth=\"BCYvKVEB7XwhHKUArm1kKyrtr6q2noiXWUO34AyiVt0WNSSiUvNX3WEbj42x8ztLGuWv8ChLj0hU1Ce2VxzQp_pn3XGTJ0BaMHov-KFGoa-sWFs\" id=\"tt0347304|imdb|8.1|8.1|advsearch\" data-ga-identifier=\"advsearch\"\\n title=\"Users rated this 8.1/10 (36,180 votes) - click stars to rate\">\\n<span class=\"rating-bg\">&nbsp;</span>\\n<span class=\"rating-imdb\" style=\"width: 113px\">&nbsp;</span>\\n<span class=\"rating-stars\">\\n<a href=\"/register/login?why=vote\" title=\"Register or login to rate this title\" rel=\"nofollow\"><span>1</span></a>\\n<a href=\"/register/login?why=vote\" title=\"Register or login to rate this title\" rel=\"nofollow\"><span>2</span></a>\\n<a href=\"/register/login?why=vote\" title=\"Register or login to rate this title\" rel=\"nofollow\"><span>3</span></a>\\n<a href=\"/register/login?why=vote\" title=\"Register or login to rate this title\" rel=\"nofollow\"><span>4</span></a>\\n<a href=\"/register/login?why=vote\" title=\"Register or login to rate this title\" rel=\"nofollow\"><span>5</span></a>\\n<a href=\"/register/login?why=vote\" title=\"Register or login to rate this title\" rel=\"nofollow\"><span>6</span></a>\\n<a href=\"/register/login?why=vote\" title=\"Register or login to rate this title\" rel=\"nofollow\"><span>7</span></a>\\n<a href=\"/register/login?why=vote\" title=\"Register or login to rate this title\" rel=\"nofollow\"><span>8</span></a>\\n<a href=\"/register/login?why=vote\" title=\"Register or login to rate this title\" rel=\"nofollow\"><span>9</span></a>\\n<a href=\"/register/login?why=vote\" title=\"Register or login to rate this title\" rel=\"nofollow\"><span>10</span></a>\\n</span>\\n<span class=\"rating-rating\"><span class=\"value\">8.1</span><span class=\"grey\">/</span><span class=\"grey\">10</span></span>\\n<span class=\"rating-cancel\"><a href=\"/title/tt0347304/vote?v=X;k=BCYvKVEB7XwhHKUArm1kKyrtr6q2noiXWUO34AyiVt0WNSSiUvNX3WEbj42x8ztLGuWv8ChLj0hU1Ce2VxzQp_pn3XGTJ0BaMHov-KFGoa-sWFs\" title=\"Delete\" rel=\"nofollow\"><span>X</span></a></span>\\n&nbsp;</div>\\n\\n</div>\\n<span class=\"outline\">Naina, an introverted, perpetually depressed girl\\'s life changes when she meets Aman. But Aman has a secret of his own which changes their lives forever. Embroiled in all this is Rohit, Naina\\'s best friend who conceals his love for her.</span>\\n<span class=\"credit\">\\n    Dir: <a href=\"/name/nm0012541/\">Nikhil Advani</a>, <a href=\"/name/nm2657931/\">Ron Reid Jr.</a>\\n    With: <a href=\"/name/nm0006689/\">Preity Zinta</a>, <a href=\"/name/nm0451321/\">Shah Rukh Khan</a>, <a href=\"/name/nm0451307/\">Saif Ali Khan</a>\\n</span>\\n    <span class=\"genre\"><a href=\"/genre/comedy\">Comedy</a> | <a href=\"/genre/drama\">Drama</a> | <a href=\"/genre/romance\">Romance</a></span>\\n    <span class=\"certificate\"></span>\\n    <span class=\"runtime\">186 mins.</span>\\n</td>\\n</tr>\\n<tr class=\"odd detailed\">\\n  <td class=\"number\">28.</td>\\n  <td class=\"image\">\\n    <a href=\"/title/tt3678782/\" title=\"Badlapur (2015)\"><img src=\"http://i.media-imdb.com/images/SF1f0a42ee1aa08d477a576fbbf7562eed/realm/feature.gif\" height=\"74\" width=\"54\" alt=\"Badlapur (2015)\" title=\"Badlapur (2015)\"></a>\\n  </td>\\n  <td class=\"title\">\\n    \\n\\n<span class=\"wlb_wrapper\" data-tconst=\"tt3678782\" data-size=\"small\" data-caller-name=\"search\"></span>\\n\\n    <a href=\"/title/tt3678782/\">Badlapur</a>\\n    <span class=\"year_type\">(2015)</span><br>\\n<div class=\"user_rating\">\\n\\n\\n<div class=\"rating rating-list\" data-auth=\"BCYheLqYEPqoUtLMvbRy-izmUKu2noiXWUO34AyiVt0WNSSCs9V8YxQ7KUTIFm6vELG_PJRKYpVIbfoDHkp8qJX0p_SCPrnxb1kZ-THogCb_CsA0SAsLDsEXN7n4tF1LJS8k\" id=\"tt3678782|imdb|7.6|7.6|advsearch\" data-ga-identifier=\"advsearch\"\\n title=\"Users rated this 7.6/10 (8,573 votes) - click stars to rate\">\\n<span class=\"rating-bg\">&nbsp;</span>\\n<span class=\"rating-imdb\" style=\"width: 106px\">&nbsp;</span>\\n<span class=\"rating-stars\">\\n<a href=\"/register/login?why=vote\" title=\"Register or login to rate this title\" rel=\"nofollow\"><span>1</span></a>\\n<a href=\"/register/login?why=vote\" title=\"Register or login to rate this title\" rel=\"nofollow\"><span>2</span></a>\\n<a href=\"/register/login?why=vote\" title=\"Register or login to rate this title\" rel=\"nofollow\"><span>3</span></a>\\n<a href=\"/register/login?why=vote\" title=\"Register or login to rate this title\" rel=\"nofollow\"><span>4</span></a>\\n<a href=\"/register/login?why=vote\" title=\"Register or login to rate this title\" rel=\"nofollow\"><span>5</span></a>\\n<a href=\"/register/login?why=vote\" title=\"Register or login to rate this title\" rel=\"nofollow\"><span>6</span></a>\\n<a href=\"/register/login?why=vote\" title=\"Register or login to rate this title\" rel=\"nofollow\"><span>7</span></a>\\n<a href=\"/register/login?why=vote\" title=\"Register or login to rate this title\" rel=\"nofollow\"><span>8</span></a>\\n<a href=\"/register/login?why=vote\" title=\"Register or login to rate this title\" rel=\"nofollow\"><span>9</span></a>\\n<a href=\"/register/login?why=vote\" title=\"Register or login to rate this title\" rel=\"nofollow\"><span>10</span></a>\\n</span>\\n<span class=\"rating-rating\"><span class=\"value\">7.6</span><span class=\"grey\">/</span><span class=\"grey\">10</span></span>\\n<span class=\"rating-cancel\"><a href=\"/title/tt3678782/vote?v=X;k=BCYheLqYEPqoUtLMvbRy-izmUKu2noiXWUO34AyiVt0WNSSCs9V8YxQ7KUTIFm6vELG_PJRKYpVIbfoDHkp8qJX0p_SCPrnxb1kZ-THogCb_CsA0SAsLDsEXN7n4tF1LJS8k\" title=\"Delete\" rel=\"nofollow\"><span>X</span></a></span>\\n&nbsp;</div>\\n\\n</div>\\n<span class=\"outline\">After his family is killed during a bank robbery, a man tries to avenge their death.</span>\\n<span class=\"credit\">\\n    Dir: <a href=\"/name/nm1437189/\">Sriram Raghavan</a>\\n    With: <a href=\"/name/nm1596350/\">Nawazuddin Siddiqui</a>, <a href=\"/name/nm2331000/\">Radhika Apte</a>, <a href=\"/name/nm3315894/\">Varun Dhawan</a>\\n</span>\\n    <span class=\"genre\"><a href=\"/genre/action\">Action</a> | <a href=\"/genre/crime\">Crime</a> | <a href=\"/genre/drama\">Drama</a> | <a href=\"/genre/thriller\">Thriller</a></span>\\n    <span class=\"certificate\"></span>\\n    <span class=\"runtime\">128 mins.</span>\\n</td>\\n</tr>\\n<tr class=\"even detailed\">\\n  <td class=\"number\">29.</td>\\n  <td class=\"image\">\\n    <a href=\"/title/tt1562872/\" title=\"Zindagi Na Milegi Dobara (2011)\"><img src=\"http://ia.media-imdb.com/images/M/MV5BMzQzMTA4ODY4OF5BMl5BanBnXkFtZTcwNjgyMDQxNw@@._V1._SX54_CR0,0,54,74_.jpg\" height=\"74\" width=\"54\" alt=\"Zindagi Na Milegi Dobara (2011)\" title=\"Zindagi Na Milegi Dobara (2011)\"></a>\\n  </td>\\n  <td class=\"title\">\\n    \\n\\n<span class=\"wlb_wrapper\" data-tconst=\"tt1562872\" data-size=\"small\" data-caller-name=\"search\"></span>\\n\\n    <a href=\"/title/tt1562872/\">Zindagi Na Milegi Dobara</a>\\n    <span class=\"year_type\">(2011)</span><br>\\n<div class=\"user_rating\">\\n\\n\\n<div class=\"rating rating-list\" data-auth=\"BCYl0iSl7G0ugjljBGQy1xym7Ky2noiXWUO34AyiVt0WNSTCOH09wk8XuMDhNnmrnmfrDyD2Y2IWpA87WTLvFKu_NLKs3hqLtHnQ6tgsy9NIOz5zFKYoHYLv4z2VpumA0Hn8\" id=\"tt1562872|imdb|8.1|8.1|advsearch\" data-ga-identifier=\"advsearch\"\\n title=\"Users rated this 8.1/10 (36,617 votes) - click stars to rate\">\\n<span class=\"rating-bg\">&nbsp;</span>\\n<span class=\"rating-imdb\" style=\"width: 113px\">&nbsp;</span>\\n<span class=\"rating-stars\">\\n<a href=\"/register/login?why=vote\" title=\"Register or login to rate this title\" rel=\"nofollow\"><span>1</span></a>\\n<a href=\"/register/login?why=vote\" title=\"Register or login to rate this title\" rel=\"nofollow\"><span>2</span></a>\\n<a href=\"/register/login?why=vote\" title=\"Register or login to rate this title\" rel=\"nofollow\"><span>3</span></a>\\n<a href=\"/register/login?why=vote\" title=\"Register or login to rate this title\" rel=\"nofollow\"><span>4</span></a>\\n<a href=\"/register/login?why=vote\" title=\"Register or login to rate this title\" rel=\"nofollow\"><span>5</span></a>\\n<a href=\"/register/login?why=vote\" title=\"Register or login to rate this title\" rel=\"nofollow\"><span>6</span></a>\\n<a href=\"/register/login?why=vote\" title=\"Register or login to rate this title\" rel=\"nofollow\"><span>7</span></a>\\n<a href=\"/register/login?why=vote\" title=\"Register or login to rate this title\" rel=\"nofollow\"><span>8</span></a>\\n<a href=\"/register/login?why=vote\" title=\"Register or login to rate this title\" rel=\"nofollow\"><span>9</span></a>\\n<a href=\"/register/login?why=vote\" title=\"Register or login to rate this title\" rel=\"nofollow\"><span>10</span></a>\\n</span>\\n<span class=\"rating-rating\"><span class=\"value\">8.1</span><span class=\"grey\">/</span><span class=\"grey\">10</span></span>\\n<span class=\"rating-cancel\"><a href=\"/title/tt1562872/vote?v=X;k=BCYl0iSl7G0ugjljBGQy1xym7Ky2noiXWUO34AyiVt0WNSTCOH09wk8XuMDhNnmrnmfrDyD2Y2IWpA87WTLvFKu_NLKs3hqLtHnQ6tgsy9NIOz5zFKYoHYLv4z2VpumA0Hn8\" title=\"Delete\" rel=\"nofollow\"><span>X</span></a></span>\\n&nbsp;</div>\\n\\n</div>\\n<span class=\"outline\">Three friends decide to turn their fantasy vacation into reality after one of their number becomes engaged.</span>\\n<span class=\"credit\">\\n    Dir: <a href=\"/name/nm0015295/\">Zoya Akhtar</a>\\n    With: <a href=\"/name/nm1229940/\">Katrina Kaif</a>, <a href=\"/name/nm0004335/\">Hrithik Roshan</a>, <a href=\"/name/nm0787462/\">Naseeruddin Shah</a>\\n</span>\\n    <span class=\"genre\"><a href=\"/genre/adventure\">Adventure</a> | <a href=\"/genre/comedy\">Comedy</a> | <a href=\"/genre/drama\">Drama</a> | <a href=\"/genre/family\">Family</a> | <a href=\"/genre/romance\">Romance</a></span>\\n    <span class=\"certificate\"></span>\\n    <span class=\"runtime\">155 mins.</span>\\n</td>\\n</tr>\\n<tr class=\"odd detailed\">\\n  <td class=\"number\">30.</td>\\n  <td class=\"image\">\\n    <a href=\"/title/tt2344678/\" title=\"Courageous (2013)\"><img src=\"http://ia.media-imdb.com/images/M/MV5BMTM4MTYwNDA0NF5BMl5BanBnXkFtZTcwNjE0MjQyOQ@@._V1._SX54_CR0,0,54,74_.jpg\" height=\"74\" width=\"54\" alt=\"Courageous (2013)\" title=\"Courageous (2013)\"></a>\\n  </td>\\n  <td class=\"title\">\\n    \\n\\n<span class=\"wlb_wrapper\" data-tconst=\"tt2344678\" data-size=\"small\" data-caller-name=\"search\"></span>\\n\\n    <a href=\"/title/tt2344678/\">Courageous</a>\\n    <span class=\"year_type\">(2013)</span><br>\\n<div class=\"user_rating\">\\n\\n\\n<div class=\"rating rating-list\" data-auth=\"BCYrFyTyPMqtqpzKfQ6vHS25Pa22noiXWUO34AyiVt0WNSRZl3gQLTXiV5-yQjZvA63Olyh6eO6NC_bzzIB-C_I_3nRiMRlGppi870QlWKdIMN9o3AhmwaKtSAiCPRHHkd_1\" id=\"tt2344678|imdb|1.8|1.8|advsearch\" data-ga-identifier=\"advsearch\"\\n title=\"Users rated this 1.8/10 (5,427 votes) - click stars to rate\">\\n<span class=\"rating-bg\">&nbsp;</span>\\n<span class=\"rating-imdb\" style=\"width: 25px\">&nbsp;</span>\\n<span class=\"rating-stars\">\\n<a href=\"/register/login?why=vote\" title=\"Register or login to rate this title\" rel=\"nofollow\"><span>1</span></a>\\n<a href=\"/register/login?why=vote\" title=\"Register or login to rate this title\" rel=\"nofollow\"><span>2</span></a>\\n<a href=\"/register/login?why=vote\" title=\"Register or login to rate this title\" rel=\"nofollow\"><span>3</span></a>\\n<a href=\"/register/login?why=vote\" title=\"Register or login to rate this title\" rel=\"nofollow\"><span>4</span></a>\\n<a href=\"/register/login?why=vote\" title=\"Register or login to rate this title\" rel=\"nofollow\"><span>5</span></a>\\n<a href=\"/register/login?why=vote\" title=\"Register or login to rate this title\" rel=\"nofollow\"><span>6</span></a>\\n<a href=\"/register/login?why=vote\" title=\"Register or login to rate this title\" rel=\"nofollow\"><span>7</span></a>\\n<a href=\"/register/login?why=vote\" title=\"Register or login to rate this title\" rel=\"nofollow\"><span>8</span></a>\\n<a href=\"/register/login?why=vote\" title=\"Register or login to rate this title\" rel=\"nofollow\"><span>9</span></a>\\n<a href=\"/register/login?why=vote\" title=\"Register or login to rate this title\" rel=\"nofollow\"><span>10</span></a>\\n</span>\\n<span class=\"rating-rating\"><span class=\"value\">1.8</span><span class=\"grey\">/</span><span class=\"grey\">10</span></span>\\n<span class=\"rating-cancel\"><a href=\"/title/tt2344678/vote?v=X;k=BCYrFyTyPMqtqpzKfQ6vHS25Pa22noiXWUO34AyiVt0WNSRZl3gQLTXiV5-yQjZvA63Olyh6eO6NC_bzzIB-C_I_3nRiMRlGppi870QlWKdIMN9o3AhmwaKtSAiCPRHHkd_1\" title=\"Delete\" rel=\"nofollow\"><span>X</span></a></span>\\n&nbsp;</div>\\n\\n</div>\\n<span class=\"outline\">When a temple priest commits suicide after being dishonored by an evil landlord, his son returns to his native village on a mission of vengeance.</span>\\n<span class=\"credit\">\\n    Dir: <a href=\"/name/nm1349318/\">Sajid Khan</a>\\n    With: <a href=\"/name/nm0222426/\">Ajay Devgn</a>, <a href=\"/name/nm1961459/\">Tamannaah Bhatia</a>, <a href=\"/name/nm0542498/\">Mahesh Manjrekar</a>\\n</span>\\n    <span class=\"genre\"><a href=\"/genre/action\">Action</a> | <a href=\"/genre/comedy\">Comedy</a></span>\\n    <span class=\"certificate\"><span title=\"NOT_RATED\" class=\"us_not_rated titlePageSprite\"></span></span>\\n    <span class=\"runtime\">150 mins.</span>\\n</td>\\n</tr>\\n<tr class=\"even detailed\">\\n  <td class=\"number\">31.</td>\\n  <td class=\"image\">\\n    <a href=\"/title/tt2176013/\" title=\"Jab Tak Hai Jaan (2012)\"><img src=\"http://ia.media-imdb.com/images/M/MV5BMTUyMzM5OTM5NF5BMl5BanBnXkFtZTcwNTIwMjA3OA@@._V1._SX54_CR0,0,54,74_.jpg\" height=\"74\" width=\"54\" alt=\"Jab Tak Hai Jaan (2012)\" title=\"Jab Tak Hai Jaan (2012)\"></a>\\n  </td>\\n  <td class=\"title\">\\n    \\n\\n<span class=\"wlb_wrapper\" data-tconst=\"tt2176013\" data-size=\"small\" data-caller-name=\"search\"></span>\\n\\n    <a href=\"/title/tt2176013/\">Jab Tak Hai Jaan</a>\\n    <span class=\"year_type\">(2012)</span><br>\\n<div class=\"user_rating\">\\n\\n\\n<div class=\"rating rating-list\" data-auth=\"BCYkzhiOFvjBbYtDpXjpKUktLK62noiXWUO34AyiVt0WNSTnKuFDY9FLoubgMZ9fRG8NsdP0J0WW4UIfWUTmczJg7FfmSTaUp0w44WQk7M4fAPg8_L7-pIKPJEmxBFOIxJ-w\" id=\"tt2176013|imdb|6.9|6.9|advsearch\" data-ga-identifier=\"advsearch\"\\n title=\"Users rated this 6.9/10 (37,709 votes) - click stars to rate\">\\n<span class=\"rating-bg\">&nbsp;</span>\\n<span class=\"rating-imdb\" style=\"width: 96px\">&nbsp;</span>\\n<span class=\"rating-stars\">\\n<a href=\"/register/login?why=vote\" title=\"Register or login to rate this title\" rel=\"nofollow\"><span>1</span></a>\\n<a href=\"/register/login?why=vote\" title=\"Register or login to rate this title\" rel=\"nofollow\"><span>2</span></a>\\n<a href=\"/register/login?why=vote\" title=\"Register or login to rate this title\" rel=\"nofollow\"><span>3</span></a>\\n<a href=\"/register/login?why=vote\" title=\"Register or login to rate this title\" rel=\"nofollow\"><span>4</span></a>\\n<a href=\"/register/login?why=vote\" title=\"Register or login to rate this title\" rel=\"nofollow\"><span>5</span></a>\\n<a href=\"/register/login?why=vote\" title=\"Register or login to rate this title\" rel=\"nofollow\"><span>6</span></a>\\n<a href=\"/register/login?why=vote\" title=\"Register or login to rate this title\" rel=\"nofollow\"><span>7</span></a>\\n<a href=\"/register/login?why=vote\" title=\"Register or login to rate this title\" rel=\"nofollow\"><span>8</span></a>\\n<a href=\"/register/login?why=vote\" title=\"Register or login to rate this title\" rel=\"nofollow\"><span>9</span></a>\\n<a href=\"/register/login?why=vote\" title=\"Register or login to rate this title\" rel=\"nofollow\"><span>10</span></a>\\n</span>\\n<span class=\"rating-rating\"><span class=\"value\">6.9</span><span class=\"grey\">/</span><span class=\"grey\">10</span></span>\\n<span class=\"rating-cancel\"><a href=\"/title/tt2176013/vote?v=X;k=BCYkzhiOFvjBbYtDpXjpKUktLK62noiXWUO34AyiVt0WNSTnKuFDY9FLoubgMZ9fRG8NsdP0J0WW4UIfWUTmczJg7FfmSTaUp0w44WQk7M4fAPg8_L7-pIKPJEmxBFOIxJ-w\" title=\"Delete\" rel=\"nofollow\"><span>X</span></a></span>\\n&nbsp;</div>\\n\\n</div>\\n<span class=\"outline\">After finding and losing his true love in London, Samar Anand defies death by becoming a bomb disposal expert for the Indian Army. Returning to London after 10 years, he suffers amnesia after an accident. Will he be reunited with his love?</span>\\n<span class=\"credit\">\\n    Dir: <a href=\"/name/nm0007181/\">Yash Chopra</a>\\n    With: <a href=\"/name/nm0451321/\">Shah Rukh Khan</a>, <a href=\"/name/nm1229940/\">Katrina Kaif</a>, <a href=\"/name/nm3087728/\">Anushka Sharma</a>\\n</span>\\n    <span class=\"genre\"><a href=\"/genre/drama\">Drama</a> | <a href=\"/genre/romance\">Romance</a></span>\\n    <span class=\"certificate\"><span title=\"NOT_RATED\" class=\"us_not_rated titlePageSprite\"></span></span>\\n    <span class=\"runtime\">176 mins.</span>\\n</td>\\n</tr>\\n<tr class=\"odd detailed\">\\n  <td class=\"number\">32.</td>\\n  <td class=\"image\">\\n    <a href=\"/title/tt0240200/\" title=\"Water (2005)\"><img src=\"http://ia.media-imdb.com/images/M/MV5BMzIwOTk4Mzk4Nl5BMl5BanBnXkFtZTcwMjc1NTIzMQ@@._V1._SX54_CR0,0,54,74_.jpg\" height=\"74\" width=\"54\" alt=\"Water (2005)\" title=\"Water (2005)\"></a>\\n  </td>\\n  <td class=\"title\">\\n    \\n\\n<span class=\"wlb_wrapper\" data-tconst=\"tt0240200\" data-size=\"small\" data-caller-name=\"search\"></span>\\n\\n    <a href=\"/title/tt0240200/\">Water</a>\\n    <span class=\"year_type\">(2005)</span><br>\\n<div class=\"user_rating\">\\n\\n\\n<div class=\"rating rating-list\" data-auth=\"BCYsND-aBaUXxj5gFaFURyoXFa-2noiXWUO34AyiVt0WNSSqz_WiM_m5yPOXdzxhcsErz-cfIfT-Md3qZ_-22sRyatJrhZAz1K3GPJurb0tzd4LNh4i9U2iY93js3flwu7z5\" id=\"tt0240200|imdb|7.8|7.8|advsearch\" data-ga-identifier=\"advsearch\"\\n title=\"Users rated this 7.8/10 (11,838 votes) - click stars to rate\">\\n<span class=\"rating-bg\">&nbsp;</span>\\n<span class=\"rating-imdb\" style=\"width: 109px\">&nbsp;</span>\\n<span class=\"rating-stars\">\\n<a href=\"/register/login?why=vote\" title=\"Register or login to rate this title\" rel=\"nofollow\"><span>1</span></a>\\n<a href=\"/register/login?why=vote\" title=\"Register or login to rate this title\" rel=\"nofollow\"><span>2</span></a>\\n<a href=\"/register/login?why=vote\" title=\"Register or login to rate this title\" rel=\"nofollow\"><span>3</span></a>\\n<a href=\"/register/login?why=vote\" title=\"Register or login to rate this title\" rel=\"nofollow\"><span>4</span></a>\\n<a href=\"/register/login?why=vote\" title=\"Register or login to rate this title\" rel=\"nofollow\"><span>5</span></a>\\n<a href=\"/register/login?why=vote\" title=\"Register or login to rate this title\" rel=\"nofollow\"><span>6</span></a>\\n<a href=\"/register/login?why=vote\" title=\"Register or login to rate this title\" rel=\"nofollow\"><span>7</span></a>\\n<a href=\"/register/login?why=vote\" title=\"Register or login to rate this title\" rel=\"nofollow\"><span>8</span></a>\\n<a href=\"/register/login?why=vote\" title=\"Register or login to rate this title\" rel=\"nofollow\"><span>9</span></a>\\n<a href=\"/register/login?why=vote\" title=\"Register or login to rate this title\" rel=\"nofollow\"><span>10</span></a>\\n</span>\\n<span class=\"rating-rating\"><span class=\"value\">7.8</span><span class=\"grey\">/</span><span class=\"grey\">10</span></span>\\n<span class=\"rating-cancel\"><a href=\"/title/tt0240200/vote?v=X;k=BCYsND-aBaUXxj5gFaFURyoXFa-2noiXWUO34AyiVt0WNSSqz_WiM_m5yPOXdzxhcsErz-cfIfT-Md3qZ_-22sRyatJrhZAz1K3GPJurb0tzd4LNh4i9U2iY93js3flwu7z5\" title=\"Delete\" rel=\"nofollow\"><span>X</span></a></span>\\n&nbsp;</div>\\n\\n</div>\\n<span class=\"outline\">The film examines the plight of a group of widows forced into poverty at a temple in the holy city of Varanasi. It focuses on a relationship between one of the widows, who wants to escape the social restrictions imposed on widows, and a man who is from the highest caste and a follower of Mahatma Gandhi.</span>\\n<span class=\"credit\">\\n    Dir: <a href=\"/name/nm0576548/\">Deepa Mehta</a>\\n    With: <a href=\"/name/nm0712908/\">Lisa Ray</a>, <a href=\"/name/nm1303433/\">John Abraham</a>, <a href=\"/name/nm0084443/\">Seema Biswas</a>\\n</span>\\n    <span class=\"genre\"><a href=\"/genre/drama\">Drama</a> | <a href=\"/genre/romance\">Romance</a></span>\\n    <span class=\"certificate\"><span title=\"PG_13\" class=\"us_pg_13 titlePageSprite\"></span></span>\\n    <span class=\"runtime\">117 mins.</span>\\n</td>\\n</tr>\\n<tr class=\"even detailed\">\\n  <td class=\"number\">33.</td>\\n  <td class=\"image\">\\n    <a href=\"/title/tt2574698/\" title=\"Gunday (2014)\"><img src=\"http://ia.media-imdb.com/images/M/MV5BMjI2NjEzNjc4NV5BMl5BanBnXkFtZTgwODQxOTc5MDE@._V1._SY74_CR1,0,54,74_.jpg\" height=\"74\" width=\"54\" alt=\"Gunday (2014)\" title=\"Gunday (2014)\"></a>\\n  </td>\\n  <td class=\"title\">\\n    \\n\\n<span class=\"wlb_wrapper\" data-tconst=\"tt2574698\" data-size=\"small\" data-caller-name=\"search\"></span>\\n\\n    <a href=\"/title/tt2574698/\">Gunday</a>\\n    <span class=\"year_type\">(2014)</span><br>\\n<div class=\"user_rating\">\\n\\n\\n<div class=\"rating rating-list\" data-auth=\"BCYqd3-T9R_pB2-3opNgcbnYDLC2noiXWUO34AyiVt0WNSQheevUTArmyNFXdGF2WnUIK8Hdv3VG5HJo78HI12GxChiuiSp1a0iAWJMa-sqxTVUaghrFikeXDrigVT1M4cX4\" id=\"tt2574698|imdb|1.9|1.9|advsearch\" data-ga-identifier=\"advsearch\"\\n title=\"Users rated this 1.9/10 (52,953 votes) - click stars to rate\">\\n<span class=\"rating-bg\">&nbsp;</span>\\n<span class=\"rating-imdb\" style=\"width: 26px\">&nbsp;</span>\\n<span class=\"rating-stars\">\\n<a href=\"/register/login?why=vote\" title=\"Register or login to rate this title\" rel=\"nofollow\"><span>1</span></a>\\n<a href=\"/register/login?why=vote\" title=\"Register or login to rate this title\" rel=\"nofollow\"><span>2</span></a>\\n<a href=\"/register/login?why=vote\" title=\"Register or login to rate this title\" rel=\"nofollow\"><span>3</span></a>\\n<a href=\"/register/login?why=vote\" title=\"Register or login to rate this title\" rel=\"nofollow\"><span>4</span></a>\\n<a href=\"/register/login?why=vote\" title=\"Register or login to rate this title\" rel=\"nofollow\"><span>5</span></a>\\n<a href=\"/register/login?why=vote\" title=\"Register or login to rate this title\" rel=\"nofollow\"><span>6</span></a>\\n<a href=\"/register/login?why=vote\" title=\"Register or login to rate this title\" rel=\"nofollow\"><span>7</span></a>\\n<a href=\"/register/login?why=vote\" title=\"Register or login to rate this title\" rel=\"nofollow\"><span>8</span></a>\\n<a href=\"/register/login?why=vote\" title=\"Register or login to rate this title\" rel=\"nofollow\"><span>9</span></a>\\n<a href=\"/register/login?why=vote\" title=\"Register or login to rate this title\" rel=\"nofollow\"><span>10</span></a>\\n</span>\\n<span class=\"rating-rating\"><span class=\"value\">1.9</span><span class=\"grey\">/</span><span class=\"grey\">10</span></span>\\n<span class=\"rating-cancel\"><a href=\"/title/tt2574698/vote?v=X;k=BCYqd3-T9R_pB2-3opNgcbnYDLC2noiXWUO34AyiVt0WNSQheevUTArmyNFXdGF2WnUIK8Hdv3VG5HJo78HI12GxChiuiSp1a0iAWJMa-sqxTVUaghrFikeXDrigVT1M4cX4\" title=\"Delete\" rel=\"nofollow\"><span>X</span></a></span>\\n&nbsp;</div>\\n\\n</div>\\n<span class=\"outline\">Two childhood friends travel from Bangladesh to Calcutta during the turbulent 1970s, becoming criminal superstars who both fall for a cabaret dancer.</span>\\n<span class=\"credit\">\\n    Dir: <a href=\"/name/nm1804614/\">Ali Abbas Zafar</a>\\n    With: <a href=\"/name/nm3828984/\">Ranveer Singh</a>, <a href=\"/name/nm1819083/\">Arjun Kapoor</a>, <a href=\"/name/nm1231899/\">Priyanka Chopra</a>\\n</span>\\n    <span class=\"genre\"><a href=\"/genre/action\">Action</a> | <a href=\"/genre/crime\">Crime</a> | <a href=\"/genre/drama\">Drama</a> | <a href=\"/genre/romance\">Romance</a> | <a href=\"/genre/thriller\">Thriller</a></span>\\n    <span class=\"certificate\"><span title=\"NOT_RATED\" class=\"us_not_rated titlePageSprite\"></span></span>\\n    <span class=\"runtime\">152 mins.</span>\\n</td>\\n</tr>\\n<tr class=\"odd detailed\">\\n  <td class=\"number\">34.</td>\\n  <td class=\"image\">\\n    <a href=\"/title/tt2882328/\" title=\"Ugly (2013)\"><img src=\"http://ia.media-imdb.com/images/M/MV5BNzA0ODUwMzUzNV5BMl5BanBnXkFtZTgwMDA0NTQwMDE@._V1._SX54_CR0,0,54,74_.jpg\" height=\"74\" width=\"54\" alt=\"Ugly (2013)\" title=\"Ugly (2013)\"></a>\\n  </td>\\n  <td class=\"title\">\\n    \\n\\n<span class=\"wlb_wrapper\" data-tconst=\"tt2882328\" data-size=\"small\" data-caller-name=\"search\"></span>\\n\\n    <a href=\"/title/tt2882328/\">Ugly</a>\\n    <span class=\"year_type\">(2013)</span><br>\\n<div class=\"user_rating\">\\n\\n\\n<div class=\"rating rating-list\" data-auth=\"BCYpbd7CQz_aM4_usnHlFAzINrG2noiXWUO34AyiVt0WNSQe6pFuGz6bqEEciJfVdzrDrJHYYoZr-7kz34sj9x2fN4fFldZ62SgikYOITgxVhyEnNjf09970jsbwVYdhAHwc\" id=\"tt2882328|imdb|8.2|8.2|advsearch\" data-ga-identifier=\"advsearch\"\\n title=\"Users rated this 8.2/10 (6,851 votes) - click stars to rate\">\\n<span class=\"rating-bg\">&nbsp;</span>\\n<span class=\"rating-imdb\" style=\"width: 114px\">&nbsp;</span>\\n<span class=\"rating-stars\">\\n<a href=\"/register/login?why=vote\" title=\"Register or login to rate this title\" rel=\"nofollow\"><span>1</span></a>\\n<a href=\"/register/login?why=vote\" title=\"Register or login to rate this title\" rel=\"nofollow\"><span>2</span></a>\\n<a href=\"/register/login?why=vote\" title=\"Register or login to rate this title\" rel=\"nofollow\"><span>3</span></a>\\n<a href=\"/register/login?why=vote\" title=\"Register or login to rate this title\" rel=\"nofollow\"><span>4</span></a>\\n<a href=\"/register/login?why=vote\" title=\"Register or login to rate this title\" rel=\"nofollow\"><span>5</span></a>\\n<a href=\"/register/login?why=vote\" title=\"Register or login to rate this title\" rel=\"nofollow\"><span>6</span></a>\\n<a href=\"/register/login?why=vote\" title=\"Register or login to rate this title\" rel=\"nofollow\"><span>7</span></a>\\n<a href=\"/register/login?why=vote\" title=\"Register or login to rate this title\" rel=\"nofollow\"><span>8</span></a>\\n<a href=\"/register/login?why=vote\" title=\"Register or login to rate this title\" rel=\"nofollow\"><span>9</span></a>\\n<a href=\"/register/login?why=vote\" title=\"Register or login to rate this title\" rel=\"nofollow\"><span>10</span></a>\\n</span>\\n<span class=\"rating-rating\"><span class=\"value\">8.2</span><span class=\"grey\">/</span><span class=\"grey\">10</span></span>\\n<span class=\"rating-cancel\"><a href=\"/title/tt2882328/vote?v=X;k=BCYpbd7CQz_aM4_usnHlFAzINrG2noiXWUO34AyiVt0WNSQe6pFuGz6bqEEciJfVdzrDrJHYYoZr-7kz34sj9x2fN4fFldZ62SgikYOITgxVhyEnNjf09970jsbwVYdhAHwc\" title=\"Delete\" rel=\"nofollow\"><span>X</span></a></span>\\n&nbsp;</div>\\n\\n</div>\\n<span class=\"outline\">A terrible tale of corruption, indifference, and systemic violence starts when 10 year old daughter of an aspiring actor disappears.</span>\\n<span class=\"credit\">\\n    Dir: <a href=\"/name/nm0440604/\">Anurag Kashyap</a>\\n    With: <a href=\"/name/nm1178211/\">Rahul Bhat</a>, <a href=\"/name/nm0747172/\">Ronit Roy</a>, <a href=\"/name/nm1339267/\">Tejaswini Kolhapure</a>\\n</span>\\n    <span class=\"genre\"><a href=\"/genre/crime\">Crime</a> | <a href=\"/genre/drama\">Drama</a> | <a href=\"/genre/mystery\">Mystery</a> | <a href=\"/genre/thriller\">Thriller</a></span>\\n    <span class=\"certificate\"></span>\\n    <span class=\"runtime\">128 mins.</span>\\n</td>\\n</tr>\\n<tr class=\"even detailed\">\\n  <td class=\"number\">35.</td>\\n  <td class=\"image\">\\n    <a href=\"/title/tt2112124/\" title=\"Chennai Express (2013)\"><img src=\"http://ia.media-imdb.com/images/M/MV5BMjE2OTEyOTA3OV5BMl5BanBnXkFtZTcwNjI4MDk3OQ@@._V1._SX54_CR0,0,54,74_.jpg\" height=\"74\" width=\"54\" alt=\"Chennai Express (2013)\" title=\"Chennai Express (2013)\"></a>\\n  </td>\\n  <td class=\"title\">\\n    \\n\\n<span class=\"wlb_wrapper\" data-tconst=\"tt2112124\" data-size=\"small\" data-caller-name=\"search\"></span>\\n\\n    <a href=\"/title/tt2112124/\">Chennai Express</a>\\n    <span class=\"year_type\">(2013)</span><br>\\n<div class=\"user_rating\">\\n\\n\\n<div class=\"rating rating-list\" data-auth=\"BCYohoXcF3pjR9GURgAYBN4HYLK2noiXWUO34AyiVt0WNSRyXpPl__iu42EsIOTT4wZUk59vdW3iSC_mi7i0N1tNjK_0BSVc6IDZtlU3LDtBDQrc1u5nibR3R2elpASor8Sy\" id=\"tt2112124|imdb|5.9|5.9|advsearch\" data-ga-identifier=\"advsearch\"\\n title=\"Users rated this 5.9/10 (31,179 votes) - click stars to rate\">\\n<span class=\"rating-bg\">&nbsp;</span>\\n<span class=\"rating-imdb\" style=\"width: 82px\">&nbsp;</span>\\n<span class=\"rating-stars\">\\n<a href=\"/register/login?why=vote\" title=\"Register or login to rate this title\" rel=\"nofollow\"><span>1</span></a>\\n<a href=\"/register/login?why=vote\" title=\"Register or login to rate this title\" rel=\"nofollow\"><span>2</span></a>\\n<a href=\"/register/login?why=vote\" title=\"Register or login to rate this title\" rel=\"nofollow\"><span>3</span></a>\\n<a href=\"/register/login?why=vote\" title=\"Register or login to rate this title\" rel=\"nofollow\"><span>4</span></a>\\n<a href=\"/register/login?why=vote\" title=\"Register or login to rate this title\" rel=\"nofollow\"><span>5</span></a>\\n<a href=\"/register/login?why=vote\" title=\"Register or login to rate this title\" rel=\"nofollow\"><span>6</span></a>\\n<a href=\"/register/login?why=vote\" title=\"Register or login to rate this title\" rel=\"nofollow\"><span>7</span></a>\\n<a href=\"/register/login?why=vote\" title=\"Register or login to rate this title\" rel=\"nofollow\"><span>8</span></a>\\n<a href=\"/register/login?why=vote\" title=\"Register or login to rate this title\" rel=\"nofollow\"><span>9</span></a>\\n<a href=\"/register/login?why=vote\" title=\"Register or login to rate this title\" rel=\"nofollow\"><span>10</span></a>\\n</span>\\n<span class=\"rating-rating\"><span class=\"value\">5.9</span><span class=\"grey\">/</span><span class=\"grey\">10</span></span>\\n<span class=\"rating-cancel\"><a href=\"/title/tt2112124/vote?v=X;k=BCYohoXcF3pjR9GURgAYBN4HYLK2noiXWUO34AyiVt0WNSRyXpPl__iu42EsIOTT4wZUk59vdW3iSC_mi7i0N1tNjK_0BSVc6IDZtlU3LDtBDQrc1u5nibR3R2elpASor8Sy\" title=\"Delete\" rel=\"nofollow\"><span>X</span></a></span>\\n&nbsp;</div>\\n\\n</div>\\n<span class=\"outline\">What could have been a sad journey turns joyful for Rahul when he falls in love with a woman en route to submerging his grandfather\\'s ashes.</span>\\n<span class=\"credit\">\\n    Dir: <a href=\"/name/nm1460159/\">Rohit Shetty</a>\\n    With: <a href=\"/name/nm2138653/\">Deepika Padukone</a>, <a href=\"/name/nm0451321/\">Shah Rukh Khan</a>, <a href=\"/name/nm0766470/\">Satyaraj</a>\\n</span>\\n    <span class=\"genre\"><a href=\"/genre/action\">Action</a> | <a href=\"/genre/comedy\">Comedy</a> | <a href=\"/genre/romance\">Romance</a></span>\\n    <span class=\"certificate\"><span title=\"NOT_RATED\" class=\"us_not_rated titlePageSprite\"></span></span>\\n    <span class=\"runtime\">141 mins.</span>\\n</td>\\n</tr>\\n<tr class=\"odd detailed\">\\n  <td class=\"number\">36.</td>\\n  <td class=\"image\">\\n    <a href=\"/title/tt4635372/\" title=\"Fly Away Solo (2015)\"><img src=\"http://ia.media-imdb.com/images/M/MV5BMTU4NTE0NTMyNl5BMl5BanBnXkFtZTgwNjI5MDkxNjE@._V1._SX54_CR0,0,54,74_.jpg\" height=\"74\" width=\"54\" alt=\"Fly Away Solo (2015)\" title=\"Fly Away Solo (2015)\"></a>\\n  </td>\\n  <td class=\"title\">\\n    \\n\\n<span class=\"wlb_wrapper\" data-tconst=\"tt4635372\" data-size=\"small\" data-caller-name=\"search\"></span>\\n\\n    <a href=\"/title/tt4635372/\">Fly Away Solo</a>\\n    <span class=\"year_type\">(2015)</span><br>\\n<div class=\"user_rating\">\\n\\n\\n<div class=\"rating rating-list\" data-auth=\"BCYvoqL_iPRxejtUoLtX7nvWv7O2noiXWUO34AyiVt0WNSQThIN4Tz3v8pjjTBOomIUzfhEv-BL0k8_g7QMHA5oVw3LKAWoIJzP_H9YaUd_6eU06X5SZXrBX9V_EcfO5yNfA\" id=\"tt4635372|imdb|8.2|8.2|advsearch\" data-ga-identifier=\"advsearch\"\\n title=\"Users rated this 8.2/10 (1,340 votes) - click stars to rate\">\\n<span class=\"rating-bg\">&nbsp;</span>\\n<span class=\"rating-imdb\" style=\"width: 114px\">&nbsp;</span>\\n<span class=\"rating-stars\">\\n<a href=\"/register/login?why=vote\" title=\"Register or login to rate this title\" rel=\"nofollow\"><span>1</span></a>\\n<a href=\"/register/login?why=vote\" title=\"Register or login to rate this title\" rel=\"nofollow\"><span>2</span></a>\\n<a href=\"/register/login?why=vote\" title=\"Register or login to rate this title\" rel=\"nofollow\"><span>3</span></a>\\n<a href=\"/register/login?why=vote\" title=\"Register or login to rate this title\" rel=\"nofollow\"><span>4</span></a>\\n<a href=\"/register/login?why=vote\" title=\"Register or login to rate this title\" rel=\"nofollow\"><span>5</span></a>\\n<a href=\"/register/login?why=vote\" title=\"Register or login to rate this title\" rel=\"nofollow\"><span>6</span></a>\\n<a href=\"/register/login?why=vote\" title=\"Register or login to rate this title\" rel=\"nofollow\"><span>7</span></a>\\n<a href=\"/register/login?why=vote\" title=\"Register or login to rate this title\" rel=\"nofollow\"><span>8</span></a>\\n<a href=\"/register/login?why=vote\" title=\"Register or login to rate this title\" rel=\"nofollow\"><span>9</span></a>\\n<a href=\"/register/login?why=vote\" title=\"Register or login to rate this title\" rel=\"nofollow\"><span>10</span></a>\\n</span>\\n<span class=\"rating-rating\"><span class=\"value\">8.2</span><span class=\"grey\">/</span><span class=\"grey\">10</span></span>\\n<span class=\"rating-cancel\"><a href=\"/title/tt4635372/vote?v=X;k=BCYvoqL_iPRxejtUoLtX7nvWv7O2noiXWUO34AyiVt0WNSQThIN4Tz3v8pjjTBOomIUzfhEv-BL0k8_g7QMHA5oVw3LKAWoIJzP_H9YaUd_6eU06X5SZXrBX9V_EcfO5yNfA\" title=\"Delete\" rel=\"nofollow\"><span>X</span></a></span>\\n&nbsp;</div>\\n\\n</div>\\n<span class=\"outline\">Four lives intersect along the Ganges: a low caste boy hopelessly in love, a daughter ridden with guilt of a sexual encounter ending in a tragedy...</span>\\n<span class=\"credit\">\\n    Dir: <a href=\"/name/nm4784536/\">Neeraj Ghaywan</a>\\n    With: <a href=\"/name/nm3190246/\">Richa Chadda</a>, <a href=\"/name/nm0592799/\">Sanjay Mishra</a>, <a href=\"/name/nm5817249/\">Vicky Kaushal</a>\\n</span>\\n    <span class=\"genre\"><a href=\"/genre/drama\">Drama</a></span>\\n    <span class=\"certificate\"></span>\\n    <span class=\"runtime\">109 mins.</span>\\n</td>\\n</tr>\\n<tr class=\"even detailed\">\\n  <td class=\"number\">37.</td>\\n  <td class=\"image\">\\n    <a href=\"/title/tt1839596/\" title=\"RockStar (2011)\"><img src=\"http://ia.media-imdb.com/images/M/MV5BOTc3NzAxMjg4M15BMl5BanBnXkFtZTcwMDc2ODQwNw@@._V1._SY74_CR1,0,54,74_.jpg\" height=\"74\" width=\"54\" alt=\"RockStar (2011)\" title=\"RockStar (2011)\"></a>\\n  </td>\\n  <td class=\"title\">\\n    \\n\\n<span class=\"wlb_wrapper\" data-tconst=\"tt1839596\" data-size=\"small\" data-caller-name=\"search\"></span>\\n\\n    <a href=\"/title/tt1839596/\">RockStar</a>\\n    <span class=\"year_type\">(2011)</span><br>\\n<div class=\"user_rating\">\\n\\n\\n<div class=\"rating rating-list\" data-auth=\"BCYplYxXile6xE2Ru9A5l6NbkrS2noiXWUO34AyiVt0WNSQgOIymamNoRurIwK3maao8R2n-cihIqWGCjHpR9qCzngRxSd2-YkylRyb9is83Bs65d-Hpe5U4NpOIqsTlAyT5\" id=\"tt1839596|imdb|7.6|7.6|advsearch\" data-ga-identifier=\"advsearch\"\\n title=\"Users rated this 7.6/10 (21,134 votes) - click stars to rate\">\\n<span class=\"rating-bg\">&nbsp;</span>\\n<span class=\"rating-imdb\" style=\"width: 106px\">&nbsp;</span>\\n<span class=\"rating-stars\">\\n<a href=\"/register/login?why=vote\" title=\"Register or login to rate this title\" rel=\"nofollow\"><span>1</span></a>\\n<a href=\"/register/login?why=vote\" title=\"Register or login to rate this title\" rel=\"nofollow\"><span>2</span></a>\\n<a href=\"/register/login?why=vote\" title=\"Register or login to rate this title\" rel=\"nofollow\"><span>3</span></a>\\n<a href=\"/register/login?why=vote\" title=\"Register or login to rate this title\" rel=\"nofollow\"><span>4</span></a>\\n<a href=\"/register/login?why=vote\" title=\"Register or login to rate this title\" rel=\"nofollow\"><span>5</span></a>\\n<a href=\"/register/login?why=vote\" title=\"Register or login to rate this title\" rel=\"nofollow\"><span>6</span></a>\\n<a href=\"/register/login?why=vote\" title=\"Register or login to rate this title\" rel=\"nofollow\"><span>7</span></a>\\n<a href=\"/register/login?why=vote\" title=\"Register or login to rate this title\" rel=\"nofollow\"><span>8</span></a>\\n<a href=\"/register/login?why=vote\" title=\"Register or login to rate this title\" rel=\"nofollow\"><span>9</span></a>\\n<a href=\"/register/login?why=vote\" title=\"Register or login to rate this title\" rel=\"nofollow\"><span>10</span></a>\\n</span>\\n<span class=\"rating-rating\"><span class=\"value\">7.6</span><span class=\"grey\">/</span><span class=\"grey\">10</span></span>\\n<span class=\"rating-cancel\"><a href=\"/title/tt1839596/vote?v=X;k=BCYplYxXile6xE2Ru9A5l6NbkrS2noiXWUO34AyiVt0WNSQgOIymamNoRurIwK3maao8R2n-cihIqWGCjHpR9qCzngRxSd2-YkylRyb9is83Bs65d-Hpe5U4NpOIqsTlAyT5\" title=\"Delete\" rel=\"nofollow\"><span>X</span></a></span>\\n&nbsp;</div>\\n\\n</div>\\n<span class=\"outline\">Janardhan Jakhar chases his dreams of becoming a big Rock star, during which he falls in love with Heer.</span>\\n<span class=\"credit\">\\n    Dir: <a href=\"/name/nm1665004/\">Imtiaz Ali</a>\\n    With: <a href=\"/name/nm1633541/\">Ranbir Kapoor</a>, <a href=\"/name/nm3668216/\">Nargis Fakhri</a>, <a href=\"/name/nm0004433/\">Shammi Kapoor</a>\\n</span>\\n    <span class=\"genre\"><a href=\"/genre/music\">Music</a> | <a href=\"/genre/musical\">Musical</a></span>\\n    <span class=\"certificate\"><span title=\"NOT_RATED\" class=\"us_not_rated titlePageSprite\"></span></span>\\n    <span class=\"runtime\">159 mins.</span>\\n</td>\\n</tr>\\n<tr class=\"odd detailed\">\\n  <td class=\"number\">38.</td>\\n  <td class=\"image\">\\n    <a href=\"/title/tt2372222/\" title=\"Kick (2014)\"><img src=\"http://ia.media-imdb.com/images/M/MV5BMTUyMTg0MTA1OF5BMl5BanBnXkFtZTgwMDg2MjMwMjE@._V1._SX54_CR0,0,54,74_.jpg\" height=\"74\" width=\"54\" alt=\"Kick (2014)\" title=\"Kick (2014)\"></a>\\n  </td>\\n  <td class=\"title\">\\n    \\n\\n<span class=\"wlb_wrapper\" data-tconst=\"tt2372222\" data-size=\"small\" data-caller-name=\"search\"></span>\\n\\n    <a href=\"/title/tt2372222/\">Kick</a>\\n    <span class=\"year_type\">(2014)</span><br>\\n<div class=\"user_rating\">\\n\\n\\n<div class=\"rating rating-list\" data-auth=\"BCYr11OD4KfxaYCeJdNN_5ex9rW2noiXWUO34AyiVt0WNST52BuA1kx5B8N_k76MfITKnVu7wZgY26lbbXNoHWq6Ub3SSeLthdQhS_OsUkvjoxA\" id=\"tt2372222|imdb|5.6|5.6|advsearch\" data-ga-identifier=\"advsearch\"\\n title=\"Users rated this 5.6/10 (13,994 votes) - click stars to rate\">\\n<span class=\"rating-bg\">&nbsp;</span>\\n<span class=\"rating-imdb\" style=\"width: 78px\">&nbsp;</span>\\n<span class=\"rating-stars\">\\n<a href=\"/register/login?why=vote\" title=\"Register or login to rate this title\" rel=\"nofollow\"><span>1</span></a>\\n<a href=\"/register/login?why=vote\" title=\"Register or login to rate this title\" rel=\"nofollow\"><span>2</span></a>\\n<a href=\"/register/login?why=vote\" title=\"Register or login to rate this title\" rel=\"nofollow\"><span>3</span></a>\\n<a href=\"/register/login?why=vote\" title=\"Register or login to rate this title\" rel=\"nofollow\"><span>4</span></a>\\n<a href=\"/register/login?why=vote\" title=\"Register or login to rate this title\" rel=\"nofollow\"><span>5</span></a>\\n<a href=\"/register/login?why=vote\" title=\"Register or login to rate this title\" rel=\"nofollow\"><span>6</span></a>\\n<a href=\"/register/login?why=vote\" title=\"Register or login to rate this title\" rel=\"nofollow\"><span>7</span></a>\\n<a href=\"/register/login?why=vote\" title=\"Register or login to rate this title\" rel=\"nofollow\"><span>8</span></a>\\n<a href=\"/register/login?why=vote\" title=\"Register or login to rate this title\" rel=\"nofollow\"><span>9</span></a>\\n<a href=\"/register/login?why=vote\" title=\"Register or login to rate this title\" rel=\"nofollow\"><span>10</span></a>\\n</span>\\n<span class=\"rating-rating\"><span class=\"value\">5.6</span><span class=\"grey\">/</span><span class=\"grey\">10</span></span>\\n<span class=\"rating-cancel\"><a href=\"/title/tt2372222/vote?v=X;k=BCYr11OD4KfxaYCeJdNN_5ex9rW2noiXWUO34AyiVt0WNST52BuA1kx5B8N_k76MfITKnVu7wZgY26lbbXNoHWq6Ub3SSeLthdQhS_OsUkvjoxA\" title=\"Delete\" rel=\"nofollow\"><span>X</span></a></span>\\n&nbsp;</div>\\n\\n</div>\\n<span class=\"outline\">An adrenaline junkie walks away from a whirlwind romance and embraces a new life as a thief, though he soon finds himself pursued by veteran police officer and engaged in a turf war with a local gangster.</span>\\n<span class=\"credit\">\\n    Dir: <a href=\"/name/nm0618898/\">Sajid Nadiadwala</a>\\n    With: <a href=\"/name/nm0006795/\">Salman Khan</a>, <a href=\"/name/nm2596365/\">Jacqueline Fernandez</a>, <a href=\"/name/nm1596350/\">Nawazuddin Siddiqui</a>\\n</span>\\n    <span class=\"genre\"><a href=\"/genre/action\">Action</a> | <a href=\"/genre/comedy\">Comedy</a> | <a href=\"/genre/romance\">Romance</a> | <a href=\"/genre/thriller\">Thriller</a></span>\\n    <span class=\"certificate\"></span>\\n    <span class=\"runtime\">146 mins.</span>\\n</td>\\n</tr>\\n<tr class=\"even detailed\">\\n  <td class=\"number\">39.</td>\\n  <td class=\"image\">\\n    <a href=\"/title/tt0367110/\" title=\"Swades (2004)\"><img src=\"http://ia.media-imdb.com/images/M/MV5BNDE2ODEyNTY2OV5BMl5BanBnXkFtZTcwNTA1ODcyMQ@@._V1._SX54_CR0,0,54,74_.jpg\" height=\"74\" width=\"54\" alt=\"Swades (2004)\" title=\"Swades (2004)\"></a>\\n  </td>\\n  <td class=\"title\">\\n    \\n\\n<span class=\"wlb_wrapper\" data-tconst=\"tt0367110\" data-size=\"small\" data-caller-name=\"search\"></span>\\n\\n    <a href=\"/title/tt0367110/\">Swades</a>\\n    <span class=\"year_type\">(2004)</span><br>\\n<div class=\"user_rating\">\\n\\n\\n<div class=\"rating rating-list\" data-auth=\"BCYoOke9rdY-b-6_das5dKBPDba2noiXWUO34AyiVt0WNSQ8K_r2szw9A1A20gzHEWcYm5JHTzSCIwHcFW6A11272okRmuRi1lWL1tDT2pDye_2piQ_AWyB2MS0g057_eC0g\" id=\"tt0367110|imdb|8.3|8.3|advsearch\" data-ga-identifier=\"advsearch\"\\n title=\"Users rated this 8.3/10 (49,583 votes) - click stars to rate\">\\n<span class=\"rating-bg\">&nbsp;</span>\\n<span class=\"rating-imdb\" style=\"width: 116px\">&nbsp;</span>\\n<span class=\"rating-stars\">\\n<a href=\"/register/login?why=vote\" title=\"Register or login to rate this title\" rel=\"nofollow\"><span>1</span></a>\\n<a href=\"/register/login?why=vote\" title=\"Register or login to rate this title\" rel=\"nofollow\"><span>2</span></a>\\n<a href=\"/register/login?why=vote\" title=\"Register or login to rate this title\" rel=\"nofollow\"><span>3</span></a>\\n<a href=\"/register/login?why=vote\" title=\"Register or login to rate this title\" rel=\"nofollow\"><span>4</span></a>\\n<a href=\"/register/login?why=vote\" title=\"Register or login to rate this title\" rel=\"nofollow\"><span>5</span></a>\\n<a href=\"/register/login?why=vote\" title=\"Register or login to rate this title\" rel=\"nofollow\"><span>6</span></a>\\n<a href=\"/register/login?why=vote\" title=\"Register or login to rate this title\" rel=\"nofollow\"><span>7</span></a>\\n<a href=\"/register/login?why=vote\" title=\"Register or login to rate this title\" rel=\"nofollow\"><span>8</span></a>\\n<a href=\"/register/login?why=vote\" title=\"Register or login to rate this title\" rel=\"nofollow\"><span>9</span></a>\\n<a href=\"/register/login?why=vote\" title=\"Register or login to rate this title\" rel=\"nofollow\"><span>10</span></a>\\n</span>\\n<span class=\"rating-rating\"><span class=\"value\">8.3</span><span class=\"grey\">/</span><span class=\"grey\">10</span></span>\\n<span class=\"rating-cancel\"><a href=\"/title/tt0367110/vote?v=X;k=BCYoOke9rdY-b-6_das5dKBPDba2noiXWUO34AyiVt0WNSQ8K_r2szw9A1A20gzHEWcYm5JHTzSCIwHcFW6A11272okRmuRi1lWL1tDT2pDye_2piQ_AWyB2MS0g057_eC0g\" title=\"Delete\" rel=\"nofollow\"><span>X</span></a></span>\\n&nbsp;</div>\\n\\n</div>\\n<span class=\"outline\">A successful Indian scientist returns to an Indian village to take his nanny to America with him and in the process rediscovers his roots.</span>\\n<span class=\"credit\">\\n    Dir: <a href=\"/name/nm0332950/\">Ashutosh Gowariker</a>\\n    With: <a href=\"/name/nm0451321/\">Shah Rukh Khan</a>, <a href=\"/name/nm1539666/\">Gayatri Joshi</a>, <a href=\"/name/nm1584145/\">Kishori Balal</a>\\n</span>\\n    <span class=\"genre\"><a href=\"/genre/drama\">Drama</a></span>\\n    <span class=\"certificate\"><span title=\"NOT_RATED\" class=\"us_not_rated titlePageSprite\"></span></span>\\n    <span class=\"runtime\">210 mins.</span>\\n</td>\\n</tr>\\n<tr class=\"odd detailed\">\\n  <td class=\"number\">40.</td>\\n  <td class=\"image\">\\n    <a href=\"/title/tt3679000/\" title=\"Any Body Can Dance 2 (2015)\"><img src=\"http://ia.media-imdb.com/images/M/MV5BMTY1NzM4NTM3Nl5BMl5BanBnXkFtZTgwNzgzNjA1NTE@._V1._SX54_CR0,0,54,74_.jpg\" height=\"74\" width=\"54\" alt=\"Any Body Can Dance 2 (2015)\" title=\"Any Body Can Dance 2 (2015)\"></a>\\n  </td>\\n  <td class=\"title\">\\n    \\n\\n<span class=\"wlb_wrapper\" data-tconst=\"tt3679000\" data-size=\"small\" data-caller-name=\"search\"></span>\\n\\n    <a href=\"/title/tt3679000/\">Any Body Can Dance 2</a>\\n    <span class=\"year_type\">(2015)</span><br>\\n<div class=\"user_rating\">\\n\\n\\n<div class=\"rating rating-list\" data-auth=\"BCYhM5lycO0Y4fzv2Zg_9DgHare2noiXWUO34AyiVt0WNSQ8NfCVbTlAQMAt6tfEC4cY5wTDcKy67N1vyPjFcc6-5v360PEFrG8nwAfBtFUKpKcLxAN_G8xqFRDI9z55aIzO\" id=\"tt3679000|imdb|5.8|5.8|advsearch\" data-ga-identifier=\"advsearch\"\\n title=\"Users rated this 5.8/10 (2,081 votes) - click stars to rate\">\\n<span class=\"rating-bg\">&nbsp;</span>\\n<span class=\"rating-imdb\" style=\"width: 81px\">&nbsp;</span>\\n<span class=\"rating-stars\">\\n<a href=\"/register/login?why=vote\" title=\"Register or login to rate this title\" rel=\"nofollow\"><span>1</span></a>\\n<a href=\"/register/login?why=vote\" title=\"Register or login to rate this title\" rel=\"nofollow\"><span>2</span></a>\\n<a href=\"/register/login?why=vote\" title=\"Register or login to rate this title\" rel=\"nofollow\"><span>3</span></a>\\n<a href=\"/register/login?why=vote\" title=\"Register or login to rate this title\" rel=\"nofollow\"><span>4</span></a>\\n<a href=\"/register/login?why=vote\" title=\"Register or login to rate this title\" rel=\"nofollow\"><span>5</span></a>\\n<a href=\"/register/login?why=vote\" title=\"Register or login to rate this title\" rel=\"nofollow\"><span>6</span></a>\\n<a href=\"/register/login?why=vote\" title=\"Register or login to rate this title\" rel=\"nofollow\"><span>7</span></a>\\n<a href=\"/register/login?why=vote\" title=\"Register or login to rate this title\" rel=\"nofollow\"><span>8</span></a>\\n<a href=\"/register/login?why=vote\" title=\"Register or login to rate this title\" rel=\"nofollow\"><span>9</span></a>\\n<a href=\"/register/login?why=vote\" title=\"Register or login to rate this title\" rel=\"nofollow\"><span>10</span></a>\\n</span>\\n<span class=\"rating-rating\"><span class=\"value\">5.8</span><span class=\"grey\">/</span><span class=\"grey\">10</span></span>\\n<span class=\"rating-cancel\"><a href=\"/title/tt3679000/vote?v=X;k=BCYhM5lycO0Y4fzv2Zg_9DgHare2noiXWUO34AyiVt0WNSQ8NfCVbTlAQMAt6tfEC4cY5wTDcKy67N1vyPjFcc6-5v360PEFrG8nwAfBtFUKpKcLxAN_G8xqFRDI9z55aIzO\" title=\"Delete\" rel=\"nofollow\"><span>X</span></a></span>\\n&nbsp;</div>\\n\\n</div>\\n<span class=\"outline\">Based on the actual story of the Fictitious Dance group; their rise to fame, sudden downfall, and their heroic attempt to seek vindication by regaining their lost pride and glory.</span>\\n<span class=\"credit\">\\n    Dir: <a href=\"/name/nm1150656/\">Remo</a>\\n    With: <a href=\"/name/nm3601766/\">Shraddha Kapoor</a>, <a href=\"/name/nm3315894/\">Varun Dhawan</a>, <a href=\"/name/nm2689943/\">Lauren Gottlieb</a>\\n</span>\\n    <span class=\"genre\"><a href=\"/genre/musical\">Musical</a></span>\\n    <span class=\"certificate\"></span>\\n    <span class=\"runtime\">154 mins.</span>\\n</td>\\n</tr>\\n<tr class=\"even detailed\">\\n  <td class=\"number\">41.</td>\\n  <td class=\"image\">\\n    <a href=\"/title/tt2082197/\" title=\"Barfi! (2012)\"><img src=\"http://ia.media-imdb.com/images/M/MV5BMTQzMTEyODY2Ml5BMl5BanBnXkFtZTgwMjA0MDUyMjE@._V1._SX54_CR0,0,54,74_.jpg\" height=\"74\" width=\"54\" alt=\"Barfi! (2012)\" title=\"Barfi! (2012)\"></a>\\n  </td>\\n  <td class=\"title\">\\n    \\n\\n<span class=\"wlb_wrapper\" data-tconst=\"tt2082197\" data-size=\"small\" data-caller-name=\"search\"></span>\\n\\n    <a href=\"/title/tt2082197/\">Barfi!</a>\\n    <span class=\"year_type\">(2012)</span><br>\\n<div class=\"user_rating\">\\n\\n\\n<div class=\"rating rating-list\" data-auth=\"BCYr0OLVW5WTRqOjyVgwJrHQeLi2noiXWUO34AyiVt0WNSTXCVw5EA0Darxpe7RCR9Pkht1vE5YdvuHv2nKmBJ6uScWhUlCc5f40S2T_fBS3H5yJ6g7fu-FbuQIh4CA-_IT9\" id=\"tt2082197|imdb|8.2|8.2|advsearch\" data-ga-identifier=\"advsearch\"\\n title=\"Users rated this 8.2/10 (46,072 votes) - click stars to rate\">\\n<span class=\"rating-bg\">&nbsp;</span>\\n<span class=\"rating-imdb\" style=\"width: 114px\">&nbsp;</span>\\n<span class=\"rating-stars\">\\n<a href=\"/register/login?why=vote\" title=\"Register or login to rate this title\" rel=\"nofollow\"><span>1</span></a>\\n<a href=\"/register/login?why=vote\" title=\"Register or login to rate this title\" rel=\"nofollow\"><span>2</span></a>\\n<a href=\"/register/login?why=vote\" title=\"Register or login to rate this title\" rel=\"nofollow\"><span>3</span></a>\\n<a href=\"/register/login?why=vote\" title=\"Register or login to rate this title\" rel=\"nofollow\"><span>4</span></a>\\n<a href=\"/register/login?why=vote\" title=\"Register or login to rate this title\" rel=\"nofollow\"><span>5</span></a>\\n<a href=\"/register/login?why=vote\" title=\"Register or login to rate this title\" rel=\"nofollow\"><span>6</span></a>\\n<a href=\"/register/login?why=vote\" title=\"Register or login to rate this title\" rel=\"nofollow\"><span>7</span></a>\\n<a href=\"/register/login?why=vote\" title=\"Register or login to rate this title\" rel=\"nofollow\"><span>8</span></a>\\n<a href=\"/register/login?why=vote\" title=\"Register or login to rate this title\" rel=\"nofollow\"><span>9</span></a>\\n<a href=\"/register/login?why=vote\" title=\"Register or login to rate this title\" rel=\"nofollow\"><span>10</span></a>\\n</span>\\n<span class=\"rating-rating\"><span class=\"value\">8.2</span><span class=\"grey\">/</span><span class=\"grey\">10</span></span>\\n<span class=\"rating-cancel\"><a href=\"/title/tt2082197/vote?v=X;k=BCYr0OLVW5WTRqOjyVgwJrHQeLi2noiXWUO34AyiVt0WNSTXCVw5EA0Darxpe7RCR9Pkht1vE5YdvuHv2nKmBJ6uScWhUlCc5f40S2T_fBS3H5yJ6g7fu-FbuQIh4CA-_IT9\" title=\"Delete\" rel=\"nofollow\"><span>X</span></a></span>\\n&nbsp;</div>\\n\\n</div>\\n<span class=\"outline\">Three young people learn that love can neither be defined nor contained by society\\'s norms of normal and abnormal.</span>\\n<span class=\"credit\">\\n    Dir: <a href=\"/name/nm1397301/\">Anurag Basu</a>\\n    With: <a href=\"/name/nm1633541/\">Ranbir Kapoor</a>, <a href=\"/name/nm1231899/\">Priyanka Chopra</a>, <a href=\"/name/nm2299825/\">Ileana</a>\\n</span>\\n    <span class=\"genre\"><a href=\"/genre/adventure\">Adventure</a> | <a href=\"/genre/comedy\">Comedy</a> | <a href=\"/genre/drama\">Drama</a> | <a href=\"/genre/romance\">Romance</a></span>\\n    <span class=\"certificate\"><span title=\"NOT_RATED\" class=\"us_not_rated titlePageSprite\"></span></span>\\n    <span class=\"runtime\">151 mins.</span>\\n</td>\\n</tr>\\n<tr class=\"odd detailed\">\\n  <td class=\"number\">42.</td>\\n  <td class=\"image\">\\n    <a href=\"/title/tt2377938/\" title=\"Special 26 (2013)\"><img src=\"http://ia.media-imdb.com/images/M/MV5BMTQ1NDI5MjMzNF5BMl5BanBnXkFtZTcwMTc0MDQwOQ@@._V1._SX54_CR0,0,54,74_.jpg\" height=\"74\" width=\"54\" alt=\"Special 26 (2013)\" title=\"Special 26 (2013)\"></a>\\n  </td>\\n  <td class=\"title\">\\n    \\n\\n<span class=\"wlb_wrapper\" data-tconst=\"tt2377938\" data-size=\"small\" data-caller-name=\"search\"></span>\\n\\n    <a href=\"/title/tt2377938/\">Special 26</a>\\n    <span class=\"year_type\">(2013)</span><br>\\n<div class=\"user_rating\">\\n\\n\\n<div class=\"rating rating-list\" data-auth=\"BCYkwLO920d05DqZeT7RYXj_eLm2noiXWUO34AyiVt0WNSRYQHD15_U1HKlOrj2tCTeOeWujB43Ln1Z5EicaHq1kQrjxiK0606dp-EWr7cvcaZOoK1MomNTTbwmOyKhZ0WGv\" id=\"tt2377938|imdb|7.9|7.9|advsearch\" data-ga-identifier=\"advsearch\"\\n title=\"Users rated this 7.9/10 (24,697 votes) - click stars to rate\">\\n<span class=\"rating-bg\">&nbsp;</span>\\n<span class=\"rating-imdb\" style=\"width: 110px\">&nbsp;</span>\\n<span class=\"rating-stars\">\\n<a href=\"/register/login?why=vote\" title=\"Register or login to rate this title\" rel=\"nofollow\"><span>1</span></a>\\n<a href=\"/register/login?why=vote\" title=\"Register or login to rate this title\" rel=\"nofollow\"><span>2</span></a>\\n<a href=\"/register/login?why=vote\" title=\"Register or login to rate this title\" rel=\"nofollow\"><span>3</span></a>\\n<a href=\"/register/login?why=vote\" title=\"Register or login to rate this title\" rel=\"nofollow\"><span>4</span></a>\\n<a href=\"/register/login?why=vote\" title=\"Register or login to rate this title\" rel=\"nofollow\"><span>5</span></a>\\n<a href=\"/register/login?why=vote\" title=\"Register or login to rate this title\" rel=\"nofollow\"><span>6</span></a>\\n<a href=\"/register/login?why=vote\" title=\"Register or login to rate this title\" rel=\"nofollow\"><span>7</span></a>\\n<a href=\"/register/login?why=vote\" title=\"Register or login to rate this title\" rel=\"nofollow\"><span>8</span></a>\\n<a href=\"/register/login?why=vote\" title=\"Register or login to rate this title\" rel=\"nofollow\"><span>9</span></a>\\n<a href=\"/register/login?why=vote\" title=\"Register or login to rate this title\" rel=\"nofollow\"><span>10</span></a>\\n</span>\\n<span class=\"rating-rating\"><span class=\"value\">7.9</span><span class=\"grey\">/</span><span class=\"grey\">10</span></span>\\n<span class=\"rating-cancel\"><a href=\"/title/tt2377938/vote?v=X;k=BCYkwLO920d05DqZeT7RYXj_eLm2noiXWUO34AyiVt0WNSRYQHD15_U1HKlOrj2tCTeOeWujB43Ln1Z5EicaHq1kQrjxiK0606dp-EWr7cvcaZOoK1MomNTTbwmOyKhZ0WGv\" title=\"Delete\" rel=\"nofollow\"><span>X</span></a></span>\\n&nbsp;</div>\\n\\n</div>\\n<span class=\"outline\">A gang of con-men rob prominent rich businessmen and politicians by posing as C.B.I and income tax officers.</span>\\n<span class=\"credit\">\\n    Dir: <a href=\"/name/nm3109770/\">Neeraj Pandey</a>\\n    With: <a href=\"/name/nm0474774/\">Akshay Kumar</a>, <a href=\"/name/nm2570245/\">Kajal Agarwal</a>, <a href=\"/name/nm0451600/\">Anupam Kher</a>\\n</span>\\n    <span class=\"genre\"><a href=\"/genre/crime\">Crime</a> | <a href=\"/genre/drama\">Drama</a> | <a href=\"/genre/history\">History</a> | <a href=\"/genre/thriller\">Thriller</a></span>\\n    <span class=\"certificate\"></span>\\n    <span class=\"runtime\">144 mins.</span>\\n</td>\\n</tr>\\n<tr class=\"even detailed\">\\n  <td class=\"number\">43.</td>\\n  <td class=\"image\">\\n    <a href=\"/title/tt3405236/\" title=\"Raees (2016)\"><img src=\"http://i.media-imdb.com/images/SF1f0a42ee1aa08d477a576fbbf7562eed/realm/feature.gif\" height=\"74\" width=\"54\" alt=\"Raees (2016)\" title=\"Raees (2016)\"></a>\\n  </td>\\n  <td class=\"title\">\\n    \\n\\n<span class=\"wlb_wrapper\" data-tconst=\"tt3405236\" data-size=\"small\" data-caller-name=\"search\"></span>\\n\\n    <a href=\"/title/tt3405236/\">Raees</a>\\n    <span class=\"year_type\">(2016)</span><br>\\n<div class=\"user_rating\">\\n\\n</div>\\n<span class=\"outline\">A cruel and clever bootlegger finds trouble when a brave cop starts chasing him.</span>\\n<span class=\"credit\">\\n    Dir: <a href=\"/name/nm1194320/\">Rahul Dholakia</a>\\n    With: <a href=\"/name/nm0451321/\">Shah Rukh Khan</a>, <a href=\"/name/nm1596350/\">Nawazuddin Siddiqui</a>, <a href=\"/name/nm4493060/\">Mahira Khan</a>\\n</span>\\n    <span class=\"genre\"><a href=\"/genre/crime\">Crime</a></span>\\n    <span class=\"certificate\"></span>\\n</td>\\n</tr>\\n<tr class=\"odd detailed\">\\n  <td class=\"number\">44.</td>\\n  <td class=\"image\">\\n    <a href=\"/title/tt1375789/\" title=\"Race 2 (2013)\"><img src=\"http://ia.media-imdb.com/images/M/MV5BMjA4NzEzODQ3NV5BMl5BanBnXkFtZTcwMDMzMjg3OA@@._V1._SX54_CR0,0,54,74_.jpg\" height=\"74\" width=\"54\" alt=\"Race 2 (2013)\" title=\"Race 2 (2013)\"></a>\\n  </td>\\n  <td class=\"title\">\\n    \\n\\n<span class=\"wlb_wrapper\" data-tconst=\"tt1375789\" data-size=\"small\" data-caller-name=\"search\"></span>\\n\\n    <a href=\"/title/tt1375789/\">Race 2</a>\\n    <span class=\"year_type\">(2013)</span><br>\\n<div class=\"user_rating\">\\n\\n\\n<div class=\"rating rating-list\" data-auth=\"BCYk1tPDgGu5KanR-18eRrYeOrq2noiXWUO34AyiVt0WNSSdIpWjiPq3XN6on-7-nMV6xteqzwM7yTZsavGsJm6uipWhHNrqlkMPVqfyNzHFuF1_1PL07nlA882-myLHs4ZE\" id=\"tt1375789|imdb|5.3|5.3|advsearch\" data-ga-identifier=\"advsearch\"\\n title=\"Users rated this 5.3/10 (9,061 votes) - click stars to rate\">\\n<span class=\"rating-bg\">&nbsp;</span>\\n<span class=\"rating-imdb\" style=\"width: 74px\">&nbsp;</span>\\n<span class=\"rating-stars\">\\n<a href=\"/register/login?why=vote\" title=\"Register or login to rate this title\" rel=\"nofollow\"><span>1</span></a>\\n<a href=\"/register/login?why=vote\" title=\"Register or login to rate this title\" rel=\"nofollow\"><span>2</span></a>\\n<a href=\"/register/login?why=vote\" title=\"Register or login to rate this title\" rel=\"nofollow\"><span>3</span></a>\\n<a href=\"/register/login?why=vote\" title=\"Register or login to rate this title\" rel=\"nofollow\"><span>4</span></a>\\n<a href=\"/register/login?why=vote\" title=\"Register or login to rate this title\" rel=\"nofollow\"><span>5</span></a>\\n<a href=\"/register/login?why=vote\" title=\"Register or login to rate this title\" rel=\"nofollow\"><span>6</span></a>\\n<a href=\"/register/login?why=vote\" title=\"Register or login to rate this title\" rel=\"nofollow\"><span>7</span></a>\\n<a href=\"/register/login?why=vote\" title=\"Register or login to rate this title\" rel=\"nofollow\"><span>8</span></a>\\n<a href=\"/register/login?why=vote\" title=\"Register or login to rate this title\" rel=\"nofollow\"><span>9</span></a>\\n<a href=\"/register/login?why=vote\" title=\"Register or login to rate this title\" rel=\"nofollow\"><span>10</span></a>\\n</span>\\n<span class=\"rating-rating\"><span class=\"value\">5.3</span><span class=\"grey\">/</span><span class=\"grey\">10</span></span>\\n<span class=\"rating-cancel\"><a href=\"/title/tt1375789/vote?v=X;k=BCYk1tPDgGu5KanR-18eRrYeOrq2noiXWUO34AyiVt0WNSSdIpWjiPq3XN6on-7-nMV6xteqzwM7yTZsavGsJm6uipWhHNrqlkMPVqfyNzHFuF1_1PL07nlA882-myLHs4ZE\" title=\"Delete\" rel=\"nofollow\"><span>X</span></a></span>\\n&nbsp;</div>\\n\\n</div>\\n<span class=\"outline\">Ranvir treads through the world of the Indian mafia in Turkey as he looks to avenge the death of his lover and partner in crime.</span>\\n<span class=\"credit\">\\n    Dir: <a href=\"/name/nm0122216/\">Abbas Alibhai Burmawalla</a>, <a href=\"/name/nm0122217/\">Mastan Alibhai Burmawalla</a>\\n    With: <a href=\"/name/nm0451307/\">Saif Ali Khan</a>, <a href=\"/name/nm0438463/\">Anil Kapoor</a>, <a href=\"/name/nm1303433/\">John Abraham</a>\\n</span>\\n    <span class=\"genre\"><a href=\"/genre/action\">Action</a> | <a href=\"/genre/crime\">Crime</a> | <a href=\"/genre/drama\">Drama</a> | <a href=\"/genre/thriller\">Thriller</a></span>\\n    <span class=\"certificate\"><span title=\"NOT_RATED\" class=\"us_not_rated titlePageSprite\"></span></span>\\n    <span class=\"runtime\">150 mins.</span>\\n</td>\\n</tr>\\n<tr class=\"even detailed\">\\n  <td class=\"number\">45.</td>\\n  <td class=\"image\">\\n    <a href=\"/title/tt2016894/\" title=\"Ek Tha Tiger (2012)\"><img src=\"http://ia.media-imdb.com/images/M/MV5BMjc2NTgwOTE1OF5BMl5BanBnXkFtZTcwMTY1ODA4Nw@@._V1._SX54_CR0,0,54,74_.jpg\" height=\"74\" width=\"54\" alt=\"Ek Tha Tiger (2012)\" title=\"Ek Tha Tiger (2012)\"></a>\\n  </td>\\n  <td class=\"title\">\\n    \\n\\n<span class=\"wlb_wrapper\" data-tconst=\"tt2016894\" data-size=\"small\" data-caller-name=\"search\"></span>\\n\\n    <a href=\"/title/tt2016894/\">Ek Tha Tiger</a>\\n    <span class=\"year_type\">(2012)</span><br>\\n<div class=\"user_rating\">\\n\\n\\n<div class=\"rating rating-list\" data-auth=\"BCYsFpAAiVlMRxqJ1Qz4028AzLu2noiXWUO34AyiVt0WNSSjwzU4kf07mv2yxn6zPkLx9d8t9Ty6jpTy2PtyTrtPL5m1K4OnWY-0aAc_5Wy-UjcjkQL3lsOanDkpZ6momA3a\" id=\"tt2016894|imdb|5.3|5.3|advsearch\" data-ga-identifier=\"advsearch\"\\n title=\"Users rated this 5.3/10 (18,481 votes) - click stars to rate\">\\n<span class=\"rating-bg\">&nbsp;</span>\\n<span class=\"rating-imdb\" style=\"width: 74px\">&nbsp;</span>\\n<span class=\"rating-stars\">\\n<a href=\"/register/login?why=vote\" title=\"Register or login to rate this title\" rel=\"nofollow\"><span>1</span></a>\\n<a href=\"/register/login?why=vote\" title=\"Register or login to rate this title\" rel=\"nofollow\"><span>2</span></a>\\n<a href=\"/register/login?why=vote\" title=\"Register or login to rate this title\" rel=\"nofollow\"><span>3</span></a>\\n<a href=\"/register/login?why=vote\" title=\"Register or login to rate this title\" rel=\"nofollow\"><span>4</span></a>\\n<a href=\"/register/login?why=vote\" title=\"Register or login to rate this title\" rel=\"nofollow\"><span>5</span></a>\\n<a href=\"/register/login?why=vote\" title=\"Register or login to rate this title\" rel=\"nofollow\"><span>6</span></a>\\n<a href=\"/register/login?why=vote\" title=\"Register or login to rate this title\" rel=\"nofollow\"><span>7</span></a>\\n<a href=\"/register/login?why=vote\" title=\"Register or login to rate this title\" rel=\"nofollow\"><span>8</span></a>\\n<a href=\"/register/login?why=vote\" title=\"Register or login to rate this title\" rel=\"nofollow\"><span>9</span></a>\\n<a href=\"/register/login?why=vote\" title=\"Register or login to rate this title\" rel=\"nofollow\"><span>10</span></a>\\n</span>\\n<span class=\"rating-rating\"><span class=\"value\">5.3</span><span class=\"grey\">/</span><span class=\"grey\">10</span></span>\\n<span class=\"rating-cancel\"><a href=\"/title/tt2016894/vote?v=X;k=BCYsFpAAiVlMRxqJ1Qz4028AzLu2noiXWUO34AyiVt0WNSSjwzU4kf07mv2yxn6zPkLx9d8t9Ty6jpTy2PtyTrtPL5m1K4OnWY-0aAc_5Wy-UjcjkQL3lsOanDkpZ6momA3a\" title=\"Delete\" rel=\"nofollow\"><span>X</span></a></span>\\n&nbsp;</div>\\n\\n</div>\\n<span class=\"outline\">RAW agent Tiger is on a mission to retrieve information from a scientist in Dublin.</span>\\n<span class=\"credit\">\\n    Dir: <a href=\"/name/nm1203138/\">Kabir Khan</a>\\n    With: <a href=\"/name/nm0006795/\">Salman Khan</a>, <a href=\"/name/nm1229940/\">Katrina Kaif</a>, <a href=\"/name/nm1249116/\">Ranvir Shorey</a>\\n</span>\\n    <span class=\"genre\"><a href=\"/genre/action\">Action</a> | <a href=\"/genre/romance\">Romance</a> | <a href=\"/genre/thriller\">Thriller</a></span>\\n    <span class=\"certificate\"><span title=\"NOT_RATED\" class=\"us_not_rated titlePageSprite\"></span></span>\\n    <span class=\"runtime\">132 mins.</span>\\n</td>\\n</tr>\\n<tr class=\"odd detailed\">\\n  <td class=\"number\">46.</td>\\n  <td class=\"image\">\\n    <a href=\"/title/tt3595298/\" title=\"Prem Ratan Dhan Payo (2015)\"><img src=\"http://i.media-imdb.com/images/SF1f0a42ee1aa08d477a576fbbf7562eed/realm/feature.gif\" height=\"74\" width=\"54\" alt=\"Prem Ratan Dhan Payo (2015)\" title=\"Prem Ratan Dhan Payo (2015)\"></a>\\n  </td>\\n  <td class=\"title\">\\n    \\n\\n<span class=\"wlb_wrapper\" data-tconst=\"tt3595298\" data-size=\"small\" data-caller-name=\"search\"></span>\\n\\n    <a href=\"/title/tt3595298/\">Prem Ratan Dhan Payo</a>\\n    <span class=\"year_type\">(2015)</span><br>\\n<div class=\"user_rating\">\\n\\n</div>\\n<span class=\"outline\">A king, who is loved by his subjects, wants to lead a normal life away from all the responsibilities and his kingdom...</span>\\n<span class=\"credit\">\\n    Dir: <a href=\"/name/nm0054744/\">Sooraj R. Barjatya</a>\\n    With: <a href=\"/name/nm0006795/\">Salman Khan</a>, <a href=\"/name/nm0451600/\">Anupam Kher</a>, <a href=\"/name/nm2128238/\">Sonam Kapoor</a>\\n</span>\\n    <span class=\"genre\"><a href=\"/genre/drama\">Drama</a> | <a href=\"/genre/romance\">Romance</a></span>\\n    <span class=\"certificate\"></span>\\n</td>\\n</tr>\\n<tr class=\"even detailed\">\\n  <td class=\"number\">47.</td>\\n  <td class=\"image\">\\n    <a href=\"/title/tt2181931/\" title=\"English Vinglish (2012)\"><img src=\"http://ia.media-imdb.com/images/M/MV5BMTkwODA3NDU3M15BMl5BanBnXkFtZTgwNTY0NTIwMzE@._V1._SX54_CR0,0,54,74_.jpg\" height=\"74\" width=\"54\" alt=\"English Vinglish (2012)\" title=\"English Vinglish (2012)\"></a>\\n  </td>\\n  <td class=\"title\">\\n    \\n\\n<span class=\"wlb_wrapper\" data-tconst=\"tt2181931\" data-size=\"small\" data-caller-name=\"search\"></span>\\n\\n    <a href=\"/title/tt2181931/\">English Vinglish</a>\\n    <span class=\"year_type\">(2012)</span><br>\\n<div class=\"user_rating\">\\n\\n\\n<div class=\"rating rating-list\" data-auth=\"BCYs8fO7ijZEbLu-ykIB-iWXYby2noiXWUO34AyiVt0WNSTrm-tXuYG3U4OVLJ3-WEE901JrPVx9npqke3N3KvOcxJr4XSpqbZ8j2gRnw0uSxd51goPRoHU-qf2do-BCwelD\" id=\"tt2181931|imdb|7.9|7.9|advsearch\" data-ga-identifier=\"advsearch\"\\n title=\"Users rated this 7.9/10 (17,801 votes) - click stars to rate\">\\n<span class=\"rating-bg\">&nbsp;</span>\\n<span class=\"rating-imdb\" style=\"width: 110px\">&nbsp;</span>\\n<span class=\"rating-stars\">\\n<a href=\"/register/login?why=vote\" title=\"Register or login to rate this title\" rel=\"nofollow\"><span>1</span></a>\\n<a href=\"/register/login?why=vote\" title=\"Register or login to rate this title\" rel=\"nofollow\"><span>2</span></a>\\n<a href=\"/register/login?why=vote\" title=\"Register or login to rate this title\" rel=\"nofollow\"><span>3</span></a>\\n<a href=\"/register/login?why=vote\" title=\"Register or login to rate this title\" rel=\"nofollow\"><span>4</span></a>\\n<a href=\"/register/login?why=vote\" title=\"Register or login to rate this title\" rel=\"nofollow\"><span>5</span></a>\\n<a href=\"/register/login?why=vote\" title=\"Register or login to rate this title\" rel=\"nofollow\"><span>6</span></a>\\n<a href=\"/register/login?why=vote\" title=\"Register or login to rate this title\" rel=\"nofollow\"><span>7</span></a>\\n<a href=\"/register/login?why=vote\" title=\"Register or login to rate this title\" rel=\"nofollow\"><span>8</span></a>\\n<a href=\"/register/login?why=vote\" title=\"Register or login to rate this title\" rel=\"nofollow\"><span>9</span></a>\\n<a href=\"/register/login?why=vote\" title=\"Register or login to rate this title\" rel=\"nofollow\"><span>10</span></a>\\n</span>\\n<span class=\"rating-rating\"><span class=\"value\">7.9</span><span class=\"grey\">/</span><span class=\"grey\">10</span></span>\\n<span class=\"rating-cancel\"><a href=\"/title/tt2181931/vote?v=X;k=BCYs8fO7ijZEbLu-ykIB-iWXYby2noiXWUO34AyiVt0WNSTrm-tXuYG3U4OVLJ3-WEE901JrPVx9npqke3N3KvOcxJr4XSpqbZ8j2gRnw0uSxd51goPRoHU-qf2do-BCwelD\" title=\"Delete\" rel=\"nofollow\"><span>X</span></a></span>\\n&nbsp;</div>\\n\\n</div>\\n<span class=\"outline\">A quiet, sweet tempered housewife endures small slights from her well-educated husband and daughter everyday because of her inability to speak and understand English.</span>\\n<span class=\"credit\">\\n    Dir: <a href=\"/name/nm1903006/\">Gauri Shinde</a>\\n    With: <a href=\"/name/nm0004437/\">Sridevi</a>, <a href=\"/name/nm1300009/\">Adil Hussain</a>, <a href=\"/name/nm0623854/\">Mehdi Nebbou</a>\\n</span>\\n    <span class=\"genre\"><a href=\"/genre/comedy\">Comedy</a> | <a href=\"/genre/drama\">Drama</a> | <a href=\"/genre/family\">Family</a></span>\\n    <span class=\"certificate\"><span title=\"NOT_RATED\" class=\"us_not_rated titlePageSprite\"></span></span>\\n    <span class=\"runtime\">134 mins.</span>\\n</td>\\n</tr>\\n<tr class=\"odd detailed\">\\n  <td class=\"number\">48.</td>\\n  <td class=\"image\">\\n    <a href=\"/title/tt2979920/\" title=\"Bombay Velvet (2015)\"><img src=\"http://ia.media-imdb.com/images/M/MV5BMTQ0OTY3NTA4OV5BMl5BanBnXkFtZTgwNDU2MjAwNTE@._V1._SX54_CR0,0,54,74_.jpg\" height=\"74\" width=\"54\" alt=\"Bombay Velvet (2015)\" title=\"Bombay Velvet (2015)\"></a>\\n  </td>\\n  <td class=\"title\">\\n    \\n\\n<span class=\"wlb_wrapper\" data-tconst=\"tt2979920\" data-size=\"small\" data-caller-name=\"search\"></span>\\n\\n    <a href=\"/title/tt2979920/\">Bombay Velvet</a>\\n    <span class=\"year_type\">(2015)</span><br>\\n<div class=\"user_rating\">\\n\\n\\n<div class=\"rating rating-list\" data-auth=\"BCYv9BaoFKND2bYoarbYUuCSkr22noiXWUO34AyiVt0WNSTBUXqQ7V5MtKdn2oLrgTVDsG1DwtHV8mqmU5KtofHkLpkkwktgtdcajHFXf0TMH2b64DMEBz7-U0PaKrkkWEnj\" id=\"tt2979920|imdb|5.8|5.8|advsearch\" data-ga-identifier=\"advsearch\"\\n title=\"Users rated this 5.8/10 (2,773 votes) - click stars to rate\">\\n<span class=\"rating-bg\">&nbsp;</span>\\n<span class=\"rating-imdb\" style=\"width: 81px\">&nbsp;</span>\\n<span class=\"rating-stars\">\\n<a href=\"/register/login?why=vote\" title=\"Register or login to rate this title\" rel=\"nofollow\"><span>1</span></a>\\n<a href=\"/register/login?why=vote\" title=\"Register or login to rate this title\" rel=\"nofollow\"><span>2</span></a>\\n<a href=\"/register/login?why=vote\" title=\"Register or login to rate this title\" rel=\"nofollow\"><span>3</span></a>\\n<a href=\"/register/login?why=vote\" title=\"Register or login to rate this title\" rel=\"nofollow\"><span>4</span></a>\\n<a href=\"/register/login?why=vote\" title=\"Register or login to rate this title\" rel=\"nofollow\"><span>5</span></a>\\n<a href=\"/register/login?why=vote\" title=\"Register or login to rate this title\" rel=\"nofollow\"><span>6</span></a>\\n<a href=\"/register/login?why=vote\" title=\"Register or login to rate this title\" rel=\"nofollow\"><span>7</span></a>\\n<a href=\"/register/login?why=vote\" title=\"Register or login to rate this title\" rel=\"nofollow\"><span>8</span></a>\\n<a href=\"/register/login?why=vote\" title=\"Register or login to rate this title\" rel=\"nofollow\"><span>9</span></a>\\n<a href=\"/register/login?why=vote\" title=\"Register or login to rate this title\" rel=\"nofollow\"><span>10</span></a>\\n</span>\\n<span class=\"rating-rating\"><span class=\"value\">5.8</span><span class=\"grey\">/</span><span class=\"grey\">10</span></span>\\n<span class=\"rating-cancel\"><a href=\"/title/tt2979920/vote?v=X;k=BCYv9BaoFKND2bYoarbYUuCSkr22noiXWUO34AyiVt0WNSTBUXqQ7V5MtKdn2oLrgTVDsG1DwtHV8mqmU5KtofHkLpkkwktgtdcajHFXf0TMH2b64DMEBz7-U0PaKrkkWEnj\" title=\"Delete\" rel=\"nofollow\"><span>X</span></a></span>\\n&nbsp;</div>\\n\\n</div>\\n<span class=\"outline\">An ordinary man goes against all odds and forges his destiny to become a \\'Big Shot\\'.</span>\\n<span class=\"credit\">\\n    Dir: <a href=\"/name/nm0440604/\">Anurag Kashyap</a>\\n    With: <a href=\"/name/nm1633541/\">Ranbir Kapoor</a>, <a href=\"/name/nm3087728/\">Anushka Sharma</a>, <a href=\"/name/nm0424103/\">Karan Johar</a>\\n</span>\\n    <span class=\"genre\"><a href=\"/genre/crime\">Crime</a> | <a href=\"/genre/drama\">Drama</a> | <a href=\"/genre/thriller\">Thriller</a></span>\\n    <span class=\"certificate\"></span>\\n    <span class=\"runtime\">149 mins.</span>\\n</td>\\n</tr>\\n<tr class=\"even detailed\">\\n  <td class=\"number\">49.</td>\\n  <td class=\"image\">\\n    <a href=\"/title/tt0292490/\" title=\"Dil Chahta Hai (2001)\"><img src=\"http://ia.media-imdb.com/images/M/MV5BMTQwNzYwMzY5N15BMl5BanBnXkFtZTcwMjc5ODQxMQ@@._V1._SX54_CR0,0,54,74_.jpg\" height=\"74\" width=\"54\" alt=\"Dil Chahta Hai (2001)\" title=\"Dil Chahta Hai (2001)\"></a>\\n  </td>\\n  <td class=\"title\">\\n    \\n\\n<span class=\"wlb_wrapper\" data-tconst=\"tt0292490\" data-size=\"small\" data-caller-name=\"search\"></span>\\n\\n    <a href=\"/title/tt0292490/\">Dil Chahta Hai</a>\\n    <span class=\"year_type\">(2001)</span><br>\\n<div class=\"user_rating\">\\n\\n\\n<div class=\"rating rating-list\" data-auth=\"BCYs1ntg4Tvk5mYI8iBbA_22w762noiXWUO34AyiVt0WNSSevNqc_EtedY7hu4Qpn_nvBOsbYC4fJOLsB32bNNPbumFnR4Y0POyM7E4QtTJmMbyriCGLFfKRDrxCgny-qmmJ\" id=\"tt0292490|imdb|8.2|8.2|advsearch\" data-ga-identifier=\"advsearch\"\\n title=\"Users rated this 8.2/10 (40,716 votes) - click stars to rate\">\\n<span class=\"rating-bg\">&nbsp;</span>\\n<span class=\"rating-imdb\" style=\"width: 114px\">&nbsp;</span>\\n<span class=\"rating-stars\">\\n<a href=\"/register/login?why=vote\" title=\"Register or login to rate this title\" rel=\"nofollow\"><span>1</span></a>\\n<a href=\"/register/login?why=vote\" title=\"Register or login to rate this title\" rel=\"nofollow\"><span>2</span></a>\\n<a href=\"/register/login?why=vote\" title=\"Register or login to rate this title\" rel=\"nofollow\"><span>3</span></a>\\n<a href=\"/register/login?why=vote\" title=\"Register or login to rate this title\" rel=\"nofollow\"><span>4</span></a>\\n<a href=\"/register/login?why=vote\" title=\"Register or login to rate this title\" rel=\"nofollow\"><span>5</span></a>\\n<a href=\"/register/login?why=vote\" title=\"Register or login to rate this title\" rel=\"nofollow\"><span>6</span></a>\\n<a href=\"/register/login?why=vote\" title=\"Register or login to rate this title\" rel=\"nofollow\"><span>7</span></a>\\n<a href=\"/register/login?why=vote\" title=\"Register or login to rate this title\" rel=\"nofollow\"><span>8</span></a>\\n<a href=\"/register/login?why=vote\" title=\"Register or login to rate this title\" rel=\"nofollow\"><span>9</span></a>\\n<a href=\"/register/login?why=vote\" title=\"Register or login to rate this title\" rel=\"nofollow\"><span>10</span></a>\\n</span>\\n<span class=\"rating-rating\"><span class=\"value\">8.2</span><span class=\"grey\">/</span><span class=\"grey\">10</span></span>\\n<span class=\"rating-cancel\"><a href=\"/title/tt0292490/vote?v=X;k=BCYs1ntg4Tvk5mYI8iBbA_22w762noiXWUO34AyiVt0WNSSevNqc_EtedY7hu4Qpn_nvBOsbYC4fJOLsB32bNNPbumFnR4Y0POyM7E4QtTJmMbyriCGLFfKRDrxCgny-qmmJ\" title=\"Delete\" rel=\"nofollow\"><span>X</span></a></span>\\n&nbsp;</div>\\n\\n</div>\\n<span class=\"outline\">Three inseparable childhood friends are just out of college. Nothing comes between them - until they each fall in love, and their wildly different approaches to relationships creates tension.</span>\\n<span class=\"credit\">\\n    Dir: <a href=\"/name/nm1027719/\">Farhan Akhtar</a>\\n    With: <a href=\"/name/nm0451148/\">Aamir Khan</a>, <a href=\"/name/nm0451307/\">Saif Ali Khan</a>, <a href=\"/name/nm0451379/\">Akshaye Khanna</a>\\n</span>\\n    <span class=\"genre\"><a href=\"/genre/comedy\">Comedy</a> | <a href=\"/genre/drama\">Drama</a></span>\\n    <span class=\"certificate\"><span title=\"NOT_RATED\" class=\"us_not_rated titlePageSprite\"></span></span>\\n    <span class=\"runtime\">183 mins.</span>\\n</td>\\n</tr>\\n<tr class=\"odd detailed\">\\n  <td class=\"number\">50.</td>\\n  <td class=\"image\">\\n    <a href=\"/title/tt2215477/\" title=\"Goliyon Ki Rasleela Ram-Leela (2013)\"><img src=\"http://ia.media-imdb.com/images/M/MV5BOTI0MzEyODgyN15BMl5BanBnXkFtZTgwODI3Mjk3MDE@._V1._SX54_CR0,0,54,74_.jpg\" height=\"74\" width=\"54\" alt=\"Goliyon Ki Rasleela Ram-Leela (2013)\" title=\"Goliyon Ki Rasleela Ram-Leela (2013)\"></a>\\n  </td>\\n  <td class=\"title\">\\n    \\n\\n<span class=\"wlb_wrapper\" data-tconst=\"tt2215477\" data-size=\"small\" data-caller-name=\"search\"></span>\\n\\n    <a href=\"/title/tt2215477/\">Goliyon Ki Rasleela Ram-Leela</a>\\n    <span class=\"year_type\">(2013)</span><br>\\n<div class=\"user_rating\">\\n\\n\\n<div class=\"rating rating-list\" data-auth=\"BCYnqNBQMDQuBmNjuMl3Y6C6hr-2noiXWUO34AyiVt0WNSSF-9Cgixs212t-kp77aEZjRz3D4jAl-tkoiycCBk6gM1WR9XUo8-LbIEK9fwKLBdwLFes9jXlpH4Vl4U8zUufD\" id=\"tt2215477|imdb|6.2|6.2|advsearch\" data-ga-identifier=\"advsearch\"\\n title=\"Users rated this 6.2/10 (9,864 votes) - click stars to rate\">\\n<span class=\"rating-bg\">&nbsp;</span>\\n<span class=\"rating-imdb\" style=\"width: 86px\">&nbsp;</span>\\n<span class=\"rating-stars\">\\n<a href=\"/register/login?why=vote\" title=\"Register or login to rate this title\" rel=\"nofollow\"><span>1</span></a>\\n<a href=\"/register/login?why=vote\" title=\"Register or login to rate this title\" rel=\"nofollow\"><span>2</span></a>\\n<a href=\"/register/login?why=vote\" title=\"Register or login to rate this title\" rel=\"nofollow\"><span>3</span></a>\\n<a href=\"/register/login?why=vote\" title=\"Register or login to rate this title\" rel=\"nofollow\"><span>4</span></a>\\n<a href=\"/register/login?why=vote\" title=\"Register or login to rate this title\" rel=\"nofollow\"><span>5</span></a>\\n<a href=\"/register/login?why=vote\" title=\"Register or login to rate this title\" rel=\"nofollow\"><span>6</span></a>\\n<a href=\"/register/login?why=vote\" title=\"Register or login to rate this title\" rel=\"nofollow\"><span>7</span></a>\\n<a href=\"/register/login?why=vote\" title=\"Register or login to rate this title\" rel=\"nofollow\"><span>8</span></a>\\n<a href=\"/register/login?why=vote\" title=\"Register or login to rate this title\" rel=\"nofollow\"><span>9</span></a>\\n<a href=\"/register/login?why=vote\" title=\"Register or login to rate this title\" rel=\"nofollow\"><span>10</span></a>\\n</span>\\n<span class=\"rating-rating\"><span class=\"value\">6.2</span><span class=\"grey\">/</span><span class=\"grey\">10</span></span>\\n<span class=\"rating-cancel\"><a href=\"/title/tt2215477/vote?v=X;k=BCYnqNBQMDQuBmNjuMl3Y6C6hr-2noiXWUO34AyiVt0WNSSF-9Cgixs212t-kp77aEZjRz3D4jAl-tkoiycCBk6gM1WR9XUo8-LbIEK9fwKLBdwLFes9jXlpH4Vl4U8zUufD\" title=\"Delete\" rel=\"nofollow\"><span>X</span></a></span>\\n&nbsp;</div>\\n\\n</div>\\n<span class=\"outline\">Ram and Leela, their love, lust and the drama afterwards. Modern adaptation of William Shakespeare\\'s \\'Romeo & Juliet\\'.</span>\\n<span class=\"credit\">\\n    Dir: <a href=\"/name/nm0080220/\">Sanjay Leela Bhansali</a>\\n    With: <a href=\"/name/nm2138653/\">Deepika Padukone</a>, <a href=\"/name/nm3828984/\">Ranveer Singh</a>, <a href=\"/name/nm0665554/\">Supriya Pathak</a>\\n</span>\\n    <span class=\"genre\"><a href=\"/genre/drama\">Drama</a> | <a href=\"/genre/musical\">Musical</a> | <a href=\"/genre/romance\">Romance</a></span>\\n    <span class=\"certificate\"></span>\\n    <span class=\"runtime\">150 mins.</span>\\n</td>\\n</tr>\\n</table>\\n\\n\\n<div class=\"leftright\">\\n<div id=\"left\">\\n1-50 of 11,698\\ntitles.\\n</div>\\n<div id=\"right\">\\n<span class=\"pagination\">\\n<a href=\"/search/title?languages=hi%7C1&sort=moviemeter,asc&start=51&title_type=feature\">Next&nbsp;&raquo;</a>\\n</span>\\n</div>\\n</div>\\n<br class=\"clear\" />\\n\\n\\n</div>\\n    <div id=\"sidebar\">\\n        <div class=\"aux-ad-widget-1\">\\n            \\n\\n\\n<!-- begin TOP_RHS -->\\n<div id=\"top_rhs_wrapper\" class=\"dfp_slot\">\\n<script>\\nwindow.generic = window.generic || {};\\ngeneric.alphalfaComponents = {\\n\"alphalfa-container.html\" : \"http://ia.media-imdb.com/images/G/01/imdbads/alphalfa-container-253150330._CB315223742_.html\",\\n\"js/collections/alphalfa.js\" : \"http://ia.media-imdb.com/images/G/01/imdbads/js/collections/alphalfa-2513524760._CB315223700_.js\"\\n};\\n</script>\\n<script type=\"text/javascript\">\\ndoWithAds(function(){\\nad_utils.register_ad(\\'top_rhs\\');\\n});\\n</script>\\n<iframe data-dart-params=\"#imdb2.consumer.main/find;!TILE!;sz=300x250,300x600,11x1;p=tr;fv=1;ab=f;bpx=1;c=0;oe=utf-8;[CLIENT_SIDE_KEYVALUES];u=771496913748;ord=771496913748?\" id=\"top_rhs\" name=\"top_rhs\" class=\"yesScript\" width=\"300\" height=\"250\" data-original-width=\"300\" data-original-height=\"250\" data-config-width=\"300\" data-config-height=\"250\" data-cookie-width=\"null\" data-cookie-height=\"null\" marginwidth=\"0\" marginheight=\"0\" frameborder=\"0\" scrolling=\"no\" allowtransparency=\"true\" onload=\"doWithAds.call(this, function(){ ad_utils.on_ad_load(this); });\"></iframe>\\n<noscript><a href=\"http://ad.doubleclick.net/N4215/jump/imdb2.consumer.main/find;tile=1;sz=300x250,300x600,11x1;p=tr;fv=1;ab=f;bpx=1;c=0;ord=771496913748?\" target=\"_blank\"><img src=\"http://ad.doubleclick.net/N4215/ad/imdb2.consumer.main/find;tile=1;sz=300x250,300x600,11x1;p=tr;fv=1;ab=f;bpx=1;c=0;ord=771496913748?\" border=\"0\" alt=\"advertisement\" /></a></noscript>\\n</div>\\n<div id=\"top_rhs_reflow_helper\"></div>\\n<div id=\"top_rhs_after\" class=\"after_ad\" style=\"visibility:hidden;\">\\n<a class=\"yesScript\" href=\"#\" onclick=\"ad_utils.show_ad_feedback(\\'top_rhs\\');return false;\" id=\"ad_feedback_top_rhs\">ad feedback</a>\\n</div>\\n<script>\\ndoWithAds(function(){\\nad_utils.gpt.render_ad(\\'top_rhs\\');\\n}, \"ad_utils not defined, unable to render client-side GPT ad.\");\\n</script>\\n<!-- End TOP_RHS --><!-- _get_ad_for_slot(TOP_RHS) -->\\n\\n        </div>\\n        <div class=\"aux-content-widget-2\">\\n<h4 class=\"inline\">Feedback?</h4>\\n<a href=\"http://www.imdb.com/help/show_leaf?getsatisfaction\">Tell us what you think about this feature.</a>\\n</div>\\n\\n    </div>\\n    <div class=\"clear\">&nbsp;</div>\\n\\n</div>\\n\\n<br class=\"clear\"/>\\n</div>\\n\\n\\n\\n\\n<div id=\"footer\" class=\"ft\">\\n  <div id=\"rvi-div\">\\n    <div class=\"recently-viewed\">&nbsp;</div>\\n    <br class=\"clear\">\\n  </div>\\n\\n  \\n\\n\\n<!-- begin BOTTOM_AD -->\\n<div id=\"bottom_ad_wrapper\" class=\"cornerstone_slot\">\\n<script type=\"text/javascript\">\\ndoWithAds(function(){\\nad_utils.register_ad(\\'bottom_ad\\');\\n});\\n</script>\\n<iframe id=\"bottom_ad\" name=\"bottom_ad\" class=\"yesScript\" width=\"728\" height=\"90\" data-original-width=\"728\" data-original-height=\"90\" data-blank-serverside marginwidth=\"0\" marginheight=\"0\" frameborder=\"0\" scrolling=\"no\" allowtransparency=\"true\" onload=\"doWithAds.call(this, function(){ ad_utils.on_ad_load(this); });\" allowfullscreen=\"true\"></iframe>\\n</div>\\n<div id=\"bottom_ad_reflow_helper\"></div>\\n<script>\\ndoWithAds(function(){\\nad_utils.inject_serverside_ad(\\'bottom_ad\\', \\'\\');\\n},\"unable to inject serverside ad\");\\n</script><!-- _get_ad_for_slot(BOTTOM_AD) -->\\n\\n\\n  <div class=\"container footer-grid-wrapper\">\\n    <div class=\"grid-row footer-row\">\\n      <div class=\"grid-col outside\">\\n        <h3>IMDb Everywhere</h3>\\n        <div class=\"app-links\">\\n          \\n\\n<a href=\"https://itunes.apple.com/app/imdb-movies-tv/id342792525\"    title=\"Get the IMDb App on the Apple App Store\"\\n  target=\"_blank\" >\\n            <span class=\"desktop-sprite appstore-apple\"></span>\\n          </a>\\n          \\n\\n<a href=\"https://play.google.com/store/apps/details?id=com.imdb.mobile\"    title=\"Get the IMDb app on Google Play\"\\n  target=\"_blank\" >\\n            <span class=\"desktop-sprite appstore-google\"></span>\\n          </a>\\n          \\n\\n<a href=\"http://www.amazon.com/IMDb-Mobile-LLC-Movies-TV/dp/B004GISARW/?amp&ref=mas_ba_imdb_dp&amp&pf_rd_m=ATVPDKIKX0DER&amp&pf_rd_s=right-1&amp&pf_rd_r=0H6RNAMSQ70FM7ATR0WN&amp&pf_rd_t=101&amp&pf_rd_p=1290998462&amp&pf_rd_i=2350149011&ref_=imdbref_ft_app_amazon&tag=imdb-fire-housead-20\"    title=\"Get the IMDb app on Amazon Appstore for Android\"\\n  target=\"_blank\" >\\n            <span class=\"desktop-sprite appstore-amazon\"></span>\\n          </a>\\n        </div>\\n\\n        <p>Find showtimes, watch trailers, browse photos, track your Watchlist and rate your favorite movies and TV shows on your phone or tablet!</p>\\n\\n        <a    onclick=\"(new Image()).src=\\'/rg/mobile-web/footer/images/b.gif?link=http%3A%2F%2Fm.imdb.com%3Fref%3Dft_mdot\\';\"     href=\"http://m.imdb.com?ref=ft_mdot\"   class=\"touchlink\"\\n    >IMDb Mobile site</a>\\n      </div>\\n      <div class=\"grid-col center\">\\n        <div class=\"link-bar icon-link-bar\">\\n          <h3>Follow IMDb on\\n            <div>\\n              \\n\\n\\n<a href=\"https://www.facebook.com/imdb\"    title=\"Follow IMDb on Facebook\"\\n  target=\"_blank\" >\\n  <span class=\"desktop-sprite follow-facebook\"></span>\\n</a>\\n\\n\\n<a href=\"https://twitter.com/imdb\"    title=\"Follow IMDb on Twitter\"\\n  target=\"_blank\" >\\n  <span class=\"desktop-sprite follow-twitter\"></span>\\n</a>\\n\\n\\n<a href=\"https://instagram.com/imdblive/\"    title=\"Follow IMDb on Instagram\"\\n  target=\"_blank\" >\\n  <span class=\"desktop-sprite follow-instagram\"></span>\\n</a>\\n\\n            </div>\\n          </h3>\\n        </div>\\n      </div>\\n      <div class=\"grid-col outside\">\\n        <div class=\"grid-row\">\\n          <div class=\"grid-col grid-col-4\">\\n            <ul class=\"unstyled\">\\n              <li>\\n\\n<a    onclick=\"(new Image()).src=\\'/rg/home/footer/images/b.gif?link=%2F%3Fref%3Dft_hm\\';\"     href=\"/?ref=ft_hm\"    >Home</a></li>\\n              <li>\\n\\n<a    onclick=\"(new Image()).src=\\'/rg/top250/footer/images/b.gif?link=%2Fchart%2Ftop%3Fref%3Dft_250\\';\"     href=\"/chart/top?ref=ft_250\"    >Top 250</a></li>\\n              <li>\\n\\n<a    onclick=\"(new Image()).src=\\'/rg/topmovies/footer/images/b.gif?link=%2Fchart%3Fref%3Dft_cht\\';\"     href=\"/chart?ref=ft_cht\"    >Top Movies</a></li>\\n              <li>\\n\\n<a    onclick=\"(new Image()).src=\\'/rg/tv/footer/images/b.gif?link=%2Fsections%2Ftv%3Fref%3Dft_tv\\';\"     href=\"/sections/tv?ref=ft_tv\"    >TV</a></li>\\n              <li>\\n\\n<a    onclick=\"(new Image()).src=\\'/rg/comingsoon/footer/images/b.gif?link=%2Fmovies-coming-soon%3Fref%3Dft_cs\\';\"     href=\"/movies-coming-soon?ref=ft_cs\"    >Coming Soon</a></li>\\n              <li>\\n\\n<a    onclick=\"(new Image()).src=\\'/rg/siteindex/footer/images/b.gif?link=%2Fa2z%3Fref%3Dft_si\\';\"     href=\"/a2z?ref=ft_si\"    >Site Index</a></li>\\n              <li>\\n\\n<a    onclick=\"(new Image()).src=\\'/rg/search/footer/images/b.gif?link=%2Fsearch%3Fref%3Dft_sr\\';\"     href=\"/search?ref=ft_sr\"    >Search</a></li>\\n              <li>\\n\\n<a    onclick=\"(new Image()).src=\\'/rg/intheaters/footer/images/b.gif?link=%2Fmovies-in-theaters%3Fref%3Dft_inth\\';\"     href=\"/movies-in-theaters?ref=ft_inth\"    >In Theaters</a></li>\\n            </ul>\\n          </div>\\n          <div class=\"grid-col grid-col-4\">\\n            <ul class=\"unstyled\">\\n              <li><a    onclick=\"(new Image()).src=\\'/rg/helpdesk/footer/images/b.gif?link=%2Fhelpdesk%2Fcontact%3Fref%3Dft_con\\';\"     href=\"/helpdesk/contact?ref=ft_con\"    >Contact Us</a></li>\\n              <li>\\n  \\n\\n<a    onclick=\"(new Image()).src=\\'/rg/messageboards/footer/images/b.gif?link=%2Fboards%3Fref%3Dft_mb\\';\"     href=\"/boards?ref=ft_mb\"    >Message Boards</a>\\n              </li>\\n              <li>\\n<a    onclick=\"(new Image()).src=\\'/rg/register-v2/footer/images/b.gif?link=https%3A%2F%2Fsecure.imdb.com%2Fregister-imdb%2Fform-v2\\';\"     href=\"https://secure.imdb.com/register-imdb/form-v2\"    >Register</a>\\n              </li>\\n              <li>\\n\\n<a    onclick=\"(new Image()).src=\\'/rg/news/footer/images/b.gif?link=%2Fnews%3Fref%3Dft_nw\\';\"     href=\"/news?ref=ft_nw\"    >News</a></li>\\n              <li class=\"spacer\"></li>\\n              <li>\\n\\n<a    onclick=\"(new Image()).src=\\'/rg/pressroom/footer/images/b.gif?link=%2Fpressroom%3Fref%3Dft_pr\\';\"     href=\"/pressroom?ref=ft_pr\"    >Press Room</a></li>\\n              <li>\\n\\n<a    onclick=\"(new Image()).src=\\'/rg/advertising/footer/images/b.gif?link=http%3A%2F%2Fwww.amazon.com%2Fb%2Fref%3Daz_adv_ln_dads_as%3F%26node%3D3055294011%26ld%3DAZPADSFooterAS\\';\"     href=\"http://www.amazon.com/b/ref=az_adv_ln_dads_as?&node=3055294011&ld=AZPADSFooterAS\"    >Advertising</a></li>\\n              <li>\\n\\n<a    onclick=\"(new Image()).src=\\'/rg/jobs/footer/images/b.gif?link=%2Fjobs%3Fref%3Dft_jb\\';\"     href=\"/jobs?ref=ft_jb\"    >Jobs</a></li>\\n            </ul>\\n          </div>\\n          <div class=\"grid-col grid-col-4\">\\n            <ul class=\"unstyled\">\\n              <li><a href=\"http://pro.imdb.com/signup/index.html?rf=cons_ft_hm&amp;ref_=cons_ft_hm\">IMDbPro</a></li>\\n              <li><a href=\"http://www.boxofficemojo.com\" onClick=\"(new Image()).src=\\'/rg/BOXOFFICEMOJO/FOOTER/images/b.gif?link=http://www.boxofficemojo.com\\';\">Box Office Mojo</a></li>\\n              <li><a href=\"http://www.withoutabox.com\" onClick=\"(new Image()).src=\\'/rg/WITHOUTABOX/FOOTER/images/b.gif?link=http://www.withoutabox.com\\';\">Withoutabox</a></li>\\n              <li class=\"spacer\"></li>\\n              <li>\\n\\n<a href=\"/help/show_article?conditions&ref=ft_cou\"    >Conditions of Use</a></li>\\n              <li>\\n\\n<a href=\"/privacy?ref=ft_pvc\"    >Privacy Policy</a></li>\\n              <li>\\n\\n<a href=\"//www.amazon.com/InterestBasedAds\"    >Interest-Based Ads</a></li>\\n              <li class=\"spacer\"></li>\\n            </ul>\\n          </div>\\n        </div>\\n      </div>\\n    </div>\\n  </div>\\n\\n  <div class=\"container\">\\n    <div class=\"float-right\">\\n      \\n\\n<a href=\"/help/show_article?conditions\"    >Copyright &copy;</a> 1990-2015\\n      \\n\\n<a href=\"/help/\"    >IMDb.com, Inc.</a>\\n    </div>\\n    <div>\\n      <link rel=\"stylesheet\" type=\"text/css\" href=\"http://i.media-imdb.com/images/SF2f8ce417a8a7dc0154a7c37111eac709/wheel/logo.css\" >\\nAn <img id=\"amazon_logo\" align=\"middle\" style=\"width:80px;height:19px;border:0 none\" src=\"http://i.media-imdb.com/images/SF9bb191c6827273aa978cab39a3587950/b.gif\" alt=\"Amazon.com\"/> company.\\n\\n    </div>\\n  </div>\\n  \\n  \\n\\n\\n<table class=\"footer\" id=\"amazon-affiliates\">\\n  <tr>\\n    <td colspan=\"8\">\\n      Amazon Affiliates\\n    </td>\\n  </tr>\\n  <tr>\\n    <td>\\n      <div>\\n        <a href=\"http://www.amazon.com/b?ie=UTF8&node=2676882011&tag=imdbpr1-20\">\\n          <span class=\"amazon-affiliate-site-name\">Amazon Instant Video</span><br>\\n          <span class=\"amazon-affiliate-site-desc\">Watch Movies &<br>TV Online</span>\\n        </a>\\n      </div>\\n    </td>\\n    <td>\\n      <div>\\n        <a href=\"http://www.amazon.com/b?ie=UTF8&node=2676882011&tag=imdbpr1-20\">\\n          <span class=\"amazon-affiliate-site-name\">Prime Instant Video</span><br>\\n          <span class=\"amazon-affiliate-site-desc\">Unlimited Streaming<br>of Movies & TV</span>\\n        </a>\\n      </div>\\n    </td>\\n    <td>\\n      <div>\\n        <a href=\"http://www.amazon.de/b?ie=UTF8&node=284266&tag=imdbpr1-de-21\">\\n          <span class=\"amazon-affiliate-site-name\">Amazon Germany</span><br>\\n          <span class=\"amazon-affiliate-site-desc\">Buy Movies on<br>DVD & Blu-ray</span>\\n        </a>\\n      </div>\\n    </td>\\n    <td>\\n      <div>\\n        <a href=\"http://www.amazon.it/b?ie=UTF8&node=412606031&tag=imdbpr1-it-21\">\\n          <span class=\"amazon-affiliate-site-name\">Amazon Italy</span><br>\\n          <span class=\"amazon-affiliate-site-desc\">Buy Movies on<br>DVD & Blu-ray</span>\\n        </a>\\n      </div>\\n    </td>\\n    <td>\\n      <div>\\n        <a href=\"http://www.amazon.fr/b?ie=UTF8&node=405322&tag=imdbpr1-fr-21\">\\n          <span class=\"amazon-affiliate-site-name\">Amazon France</span><br>\\n          <span class=\"amazon-affiliate-site-desc\">Buy Movies on<br>DVD & Blu-ray</span>\\n        </a>\\n      </div>\\n    </td>\\n    <td>\\n      <div>\\n        <a href=\"http://www.amazon.in/movies-tv-shows/b/?ie=UTF&node=976416031&tag=imdbpr1-in-21\">\\n          <span class=\"amazon-affiliate-site-name\">Amazon India</span><br>\\n          <span class=\"amazon-affiliate-site-desc\">Buy Movie and<br>TV Show DVDs</span>\\n        </a>\\n      </div>\\n    </td>\\n    <td>\\n      <div>\\n        <a href=\"http://www.dpreview.com\">\\n          <span class=\"amazon-affiliate-site-name\">DPReview</span><br>\\n          <span class=\"amazon-affiliate-site-desc\">Digital<br>Photography</span>\\n        </a>\\n      </div>\\n    </td>\\n    <td>\\n      <div>\\n        <a href=\"http://www.audible.com\">\\n          <span class=\"amazon-affiliate-site-name\">Audible</span><br>\\n          <span class=\"amazon-affiliate-site-desc\">Download<br>Audio Books</span>\\n        </a>\\n      </div>\\n    </td>\\n  </tr>\\n</table>\\n\\n</div>\\n\\n\\n\\n\\n\\n                    </div>\\n                </div>\\n<script src=\"http://i.media-imdb.com/images/SF539be3987208630802e712857c51a6c9/js/jquery.js\" ></script><script src=\"http://i.media-imdb.com/images/SF478cec6a48c8de4413dbc404879752d1/js/jquery/plugins/jquery.colorbox-min.js\" ></script><link rel=\"stylesheet\" type=\"text/css\" href=\"http://i.media-imdb.com/images/SF73051487323537a6449a6bb75bc86d43/css/min/lightbox.css\" ><script type=\"text/imdblogin-js\" id=\"login\">\\n    jQuery(document).ready(function(){\\n        window.imdb.login_lightbox(\"https://secure.imdb.com\",\\n                       \"http://www.imdb.com/search/title?languages=hi%7C1&title_type=feature&sort=moviemeter,asc\");\\n    });\\n</script>\\n<script src=\"http://i.media-imdb.com/images/SF5198c5e2bb2f9806089fdd8dbf57542e/js/cc/loginbox.js\" ></script><script src=\"http://i.media-imdb.com/images/SF562658279e4914c7c951f2001cc35fd3/js/navbar.js\" ></script><script src=\"http://i.media-imdb.com/images/SFa7b9b82fa94d0ce3e1bf5ea1d9ab2f60/js/cc/suggestionsearch.js\" charset=\"UTF-8\"></script><script src=\"http://i.media-imdb.com/images/SFb762c590afd141254ab36f8212ac0f29/js/jquery/ui-current-custom.js\" ></script><script src=\"http://i.media-imdb.com/images/SF7a5448fc461ffdc3669c5e32d5b2c953/js/cc/wlb-lite.js\" ></script>\\n<script>\\n(function($){\\n    $(\\'.wlb_wrapper\\')\\n    .wlb_lite();\\n})(jQuery);\\n</script>\\n<script src=\"http://i.media-imdb.com/images/SF7cd6175852436cd7d03e71594c402ad2/js/cc/rating.js\" ></script><script type=\"text/javascript\">jQuery(\".rating-list\").each(function (i) {\\n    jQuery(this).rating({\\n        uconst: \\'\\',\\n        widgetClass: \\'rating-list\\',\\n        ajaxURL: \\'/ratings/_ajax/title\\',\\n        starWidth: 14,\\n        errorMessage: \\'Oops! Please try again later.\\',\\n        images: {\\n            imdb: \"http://i.media-imdb.com/images/SFf61e3b0b4070522a50ac31a460101228/rating/rating-list/imdb.gif\",\\n            off: \"http://i.media-imdb.com/images/SF13607e633558b20fdf862870dd0bb1ab/rating/rating-list/off.gif\",\\n            your: \"http://i.media-imdb.com/images/SF9f5d09c8801a6161ee170b59446b1551/rating/rating-list/your.gif\",\\n            del: \"http://i.media-imdb.com/images/SF053ad2c5a9b53404112dc05b8074cb4a/rating/rating-list/del.gif\",\\n            info: \"http://i.media-imdb.com/images/SFf4976e5624107ef5bf7bc9acad68a79c/rating/rating-list/info.gif\"\\n        }\\n    });\\n});\\n</script><!-- begin ads footer -->\\n\\n<!-- Begin SIS code --> \\n<iframe id=\"sis_pixel_sitewide\" width=\"1\" height=\"1\" frameborder=\"0\" marginwidth=\"0\" marginheight=\"0\" style=\"display: none;\"></iframe>\\n<script>\\n    setTimeout(function(){\\n        try{\\n            //sis3.0 pixel\\n            var url_sis3 = \\'http://s.amazon-adsystem.com/iu3?\\',\\n                params_sis3 = [\\n                    \"d=imdb.com\",\\n                    \"a1=\",\\n                    \"a2=0101a1823ca3d5d46ce03d4502edf28f095b20f780c29eddcddebefb2933fa9c1e98\",\\n                    \"pId=\",\\n                    \"r=1\",\\n                    \"rP=http%3A%2F%2Fwww.imdb.com%2Fsearch%2Ftitle%3Flanguages%3Dhi%257C1%26title_type%3Dfeature%26sort%3Dmoviemeter%2Casc\",\\n                    \"encoding=server\",\\n                    \"cb=771496913748\"  \\n                ];\\n        \\n            if (document.getElementById(\\'sis_pixel_sitewide\\')) {\\n                (document.getElementById(\\'sis_pixel_sitewide\\')).src = url_sis3 + params_sis3.join(\\'&\\');\\n            }\\n        }\\n        catch(e){\\n            if (\\'consoleLog\\' in window){\\n                consoleLog(\\'Pixel failure \\' + e.toString(),\\'sis\\');\\n            }\\n            if (window.ueLogError) { \\n                window.ueLogError(e);\\n            }\\n        }\\n    }, 20);\\n</script>\\n<!-- End SIS code -->\\n\\n<!-- begin comscore beacon -->\\n<script type=\"text/javascript\" src=\\'http://ia.media-imdb.com/images/G/01/imdbads/js/beacon-232398347._CB349580400_.js\\'></script>\\n<script type=\"text/javascript\">\\nif(window.COMSCORE){\\nCOMSCORE.beacon({\\nc1: 2,\\nc2:\"6034961\",\\nc3:\"\",\\nc4:\"http://www.imdb.com/search/title?languages=hi%7C1&title_type=feature&sort=moviemeter,asc\",\\nc5:\"\",\\nc6:\"\",\\nc15:\"\"\\n});\\n}\\n</script>\\n<noscript>\\n<img src=\"http://b.scorecardresearch.com/p?c1=2&c2=6034961&c3=&c4=http%3A%2F%2Fwww.imdb.com%2Fsearch%2Ftitle%3Flanguages%3Dhi%257C1%26title_type%3Dfeature%26sort%3Dmoviemeter%2Casc&c5=c6=&15=&cj=1\"/>\\n</noscript>\\n<!-- end comscore beacon -->\\n\\n<script>\\n    doWithAds(function(){\\n        (new Image()).src = \"http://www.amazon.com/aan/2009-05-01/imdb/default?slot=sitewide-iframe&u=771496913748&ord=771496913748\";\\n    },\"unable to request AAN pixel\");\\n</script>\\n\\n<div id=\"flashContent\" style=\"width: 0px; height: 0px; overflow:hidden;\">\\n    <script type=\"text/javascript\">\\n        if (generic && generic.monitoring.record_metric && flashAdUtils.canPlayFlash) {\\n            var flashLoaded = 0;\\n            function swfLoaded() {\\n                flashLoaded = 1;\\n                generic.monitoring.record_metric(\\'ads_flash_did_play\\', 1, true);\\n            }\\n            window.onload = function() {\\n                // Flash was not loaded\\n                if (flashLoaded === 0) {\\n                    // Flash could be loaded but wasn\\'t\\n                    if (flashAdUtils.canPlayFlash()) {\\n                        generic.monitoring.record_metric(\\'ads_flash_can_but_did_not_play\\', 0, true);\\n                    } else {\\n                        generic.monitoring.record_metric(\\'ads_flash_cannot_play\\', 0, true);\\n                    }\\n                }\\n            }\\n            /**\\n             * There is a rare possibility of window.onload getting called before swfLoaded.\\n             * Firing this metric to keep track of such calls.\\n             */\\n             generic.monitoring.record_metric(\\'ads_flash_page_loaded\\', 1, true);\\n         }\\n    </script>\\n    <object classid=\"clsid:d27cdb6e-ae6d-11cf-96b8-444553540000\" width=\"1\" height=\"1\" id=\"1x1\" align=\"middle\">\\n        <param name=\"movie\" value=\"http://ia.media-imdb.com/images/G/01/imdbads/1x1-1154388164._CB316088672_.swf\" />\\n        <param name=\"quality\" value=\"high\" />\\n        <param name=\"play\" value=\"true\" />\\n        <param name=\"loop\" value=\"true\" />\\n        <param name=\"wmode\" value=\"transparent\" />\\n        <param name=\"scale\" value=\"showall\" />\\n        <param name=\"menu\" value=\"true\" />\\n        <param name=\"devicefont\" value=\"false\" />\\n        <param name=\"salign\" value=\"\" />\\n        <param name=\"allowScriptAccess\" value=\"always\" />\\n\\n        <!--[if !IE]>-->\\n        <object type=\"application/x-shockwave-flash\" data=\"http://ia.media-imdb.com/images/G/01/imdbads/1x1-1154388164._CB316088672_.swf\" width=\"1\" height=\"1\">\\n            <param name=\"movie\" value=\"http://ia.media-imdb.com/images/G/01/imdbads/1x1-1154388164._CB316088672_.swf\" />\\n            <param name=\"quality\" value=\"high\" />\\n            <param name=\"play\" value=\"true\" />\\n            <param name=\"loop\" value=\"true\" />\\n            <param name=\"wmode\" value=\"transparent\" />\\n            <param name=\"scale\" value=\"showall\" />\\n            <param name=\"menu\" value=\"true\" />\\n            <param name=\"devicefont\" value=\"false\" />\\n            <param name=\"salign\" value=\"\" />\\n            <param name=\"allowScriptAccess\" value=\"always\" />\\n        </object>\\n        <!--<![endif]-->\\n    </object>\\n</div>\\n\\n<script>\\n(function(){\\n    var readyTimeout = setInterval(function(){\\n        doWithAds(pageLoaded, \"No monitoring or document_is_ready object in generic\");\\n    }, 50);\\n\\n    // Wait until jQuery is loaded before firing final events.\\n    var pageLoaded = function() {\\n        if (window.jQuery) {\\n            clearTimeout(readyTimeout);\\n            jQuery(function(){ generic.document_is_ready(); });\\n            generic.monitoring.stop_timing(\\'page_load\\',\\'\\',true);\\n            generic.monitoring.all_events_started();\\n        }\\n    }\\n})();\\n</script>\\n<!-- end ads footer -->\\n<script src=\"http://i.media-imdb.com/images/SF13b529abb2d7f5490100996dd20b6a68/js/jquery/plugins/jquery.appear-1.1.1.min.js\" ></script><script src=\"http://i.media-imdb.com/images/SFa4be5baa8d51e22640d81fa1e6773c7c/js/app/clickstream/rvi.js\" ></script>\\n<!-- h=iop2013 i=2015-08-30 s=legacy(default) t=\\'Mon Aug 31 08:23:06 2015\\' -->\\n        </body>\\n</html>\\n\\n\\n'"
      ]
     },
     "execution_count": 3,
     "metadata": {},
     "output_type": "execute_result"
    }
   ],
   "source": [
    "#r=urllib.urlopen(\"http://www.imdb.com/search/title?languages=hi|1&title_type=feature&sort=moviemeter,asc\").read()\n",
    "r=requests.get(\"http://www.imdb.com/search/title?languages=hi|1&title_type=feature&sort=moviemeter,asc\")\n",
    "#This is the url for the first 50 movies.\n",
    "r.text #The HTML"
   ]
  },
  {
   "cell_type": "markdown",
   "metadata": {},
   "source": [
    "We will later write a function which will extract data from a set of imdb pages as above. But for the first 50 movies we will use the following code snippet as the url the first 50 movies is a bit different.\n"
   ]
  },
  {
   "cell_type": "markdown",
   "metadata": {},
   "source": [
    "So, we first use the web object from the pattern module to get the html in the Document Object Notation(to see what this is , here's the wiki link :https://en.wikipedia.org/wiki/Document_Object_Model).\n",
    "In the first step of out analysis, we will create a dataframe with the following variables: Title of the movie, The IMDB movies rating, Runtime of the movie in minutes, the genres, the director of the movie, the movie's cast and its release year."
   ]
  },
  {
   "cell_type": "code",
   "execution_count": 4,
   "metadata": {
    "collapsed": false
   },
   "outputs": [],
   "source": [
    "#bs=BeautifulSoup(r)\n",
    "#table= bs.find_all(\"div #content-2-wide\")\n",
    "d=web.Element(r.text)\n",
    "titles=[]\n",
    "ratings=[]\n",
    "time=[]\n",
    "gen=[]\n",
    "directors=[]\n",
    "casts=[]\n",
    "years=[]\n",
    "#for movie in dom.by_tag('td.title'):\n",
    "    #titles.append(movie.by_tag('a')[0].content)\n",
    "    #ratings.append(movie.by_tag('span.value')[0].content)\n",
    "    #runtimes.append(movie.by_tag('span.runtime')[0].content)\n",
    "    \n",
    "#dom = web.Element(r.text)\n",
    "d = web.Element(r.text)\n",
    "for movie in d.by_tag('td.title'): #All the info bout the movie is inside the <td class=\"title\"> tag.    \n",
    "    title = movie.by_tag('a')[0].content  #The movie name.\n",
    "    try:\n",
    "        genres = movie.by_tag('span.genre')[0].by_tag('a') #The movie genre. Its the content of the <span class=\"genre\">\n",
    "        genres = [g.content for g in genres]\n",
    "    except IndexError:\n",
    "        genres=np.nan\n",
    "        \n",
    "    try:\n",
    "        \n",
    "            \n",
    "        director=movie.by_tag('span.credit')[0].by_tag('a')[0].content\n",
    "        \n",
    "    except IndexError:\n",
    "        director=np.nan    \n",
    "    \n",
    "    try:\n",
    "        castings=movie.by_tag('span.credit')[0].by_tag('a')[1:]\n",
    "        cast=[c.content for c in castings]\n",
    "    except IndexError:\n",
    "        cast=np.nan\n",
    "        \n",
    "    #We observe that some of the movies dont have ratings and runtimes and appending gives an IndexError. SO we use exception handling\n",
    "    #and we append a NA value in such cases.\n",
    "    \n",
    "    #Basically, we use try and except for handling missing values.\n",
    "    try:\n",
    "        runtime = movie.by_tag('span.runtime')[0].content\n",
    "    except IndexError:\n",
    "        runtime=np.nan\n",
    "    try:\n",
    "        rating = movie.by_tag('span.value')[0].content\n",
    "    except IndexError:\n",
    "        rating=np.nan\n",
    "    try:\n",
    "        year=movie.by_tag('span.year_type')[0].content.split(\"(\")[1].split(')')[0]\n",
    "    except IndexError:\n",
    "        year=np.nan\n",
    "    #runtime = movie.by_tag('span.runtime')[0].content\n",
    "    #rating = movie.by_tag('span.value')[0].content\n",
    "    \n",
    "    #Now we append the information got for each movie to the corresponding list.\n",
    "    titles.append(title)\n",
    "    gen.append(genres)\n",
    "    time.append(runtime)\n",
    "    ratings.append(rating)\n",
    "    directors.append(director)\n",
    "    casts.append(cast)\n",
    "    years.append(year)\n",
    "    \n",
    "    #Create a dataframe. Its input is a dictionary and output is a dataframe with column names as the dictionary keys.\n",
    "    df=pd.DataFrame({'Movie':titles, 'Genres':gen, 'Runtime':time, 'IMDB Rating':ratings,'Director':directors,'Cast':casts,'Year':years})\n",
    "    #df[[\"IMDB Rating\"]]=df[[\"IMDB Rating\"]].astype(float)"
   ]
  },
  {
   "cell_type": "code",
   "execution_count": 5,
   "metadata": {
    "collapsed": false
   },
   "outputs": [
    {
     "data": {
      "text/plain": [
       "(50, 7)"
      ]
     },
     "execution_count": 5,
     "metadata": {},
     "output_type": "execute_result"
    }
   ],
   "source": [
    "df.shape"
   ]
  },
  {
   "cell_type": "markdown",
   "metadata": {},
   "source": [
    "We,now write a function to get data for 2000 movies. The code is almost same as that used for getting the data for the first 50 movies. For these pages the urls are of the type:\n",
    "\"http://www.imdb.com/search/title?languages=hi%7C1&sort=moviemeter,asc&start=[NUMBER OF THE FIRST MOVIE ON THE PAGE]&title_type=feature\"\n",
    "\n",
    "So we can write a function which takes in as input a number corresponding to the number of the first movie on the page.\n",
    "example url: http://www.imdb.com/search/title?languages=hi%7C1&sort=moviemeter,asc&start=51&title_type=feature%22\n",
    "In this url, the value of the \"start\" parameter is the argument to our function.\n"
   ]
  },
  {
   "cell_type": "code",
   "execution_count": 6,
   "metadata": {
    "collapsed": false
   },
   "outputs": [
    {
     "name": "stdout",
     "output_type": "stream",
     "text": [
      "                                                Cast  \\\n",
      "0             [Asha Parekh, Manoj Kumar, Om Prakash]   \n",
      "1         [Ajay Devgn, Akshay Kumar, Karisma Kapoor]   \n",
      "2          [Sunny Deol, Juhi Chawla, Saurabh Shukla]   \n",
      "3    [Juhi Chawla, Urmila Matondkar, Jimmy Shergill]   \n",
      "4  [Mastan Alibhai Burmawalla, Ajay Devgn, Bipash...   \n",
      "\n",
      "                   Director                    Genres IMDB Rating  \\\n",
      "0               Mohan Segal        [Mystery, Romance]         6.7   \n",
      "1             Sandesh Kohli  [Action, Drama, Romance]         5.7   \n",
      "2              Rahul Rawail         [Action, Romance]         5.1   \n",
      "3                      Onir          [Drama, Romance]         6.0   \n",
      "4  Abbas Alibhai Burmawalla        [Comedy, Thriller]         6.5   \n",
      "\n",
      "          Movie Runtime  Year  \n",
      "0         Sajan     NaN  1969  \n",
      "1        Suhaag     NaN  1994  \n",
      "2  Arjun Pandit     NaN  1999  \n",
      "3    Bas Ek Pal     NaN  2006  \n",
      "4     Mr. Fraud     NaN  2012  \n"
     ]
    }
   ],
   "source": [
    "def movies_data(id):\n",
    "    s1=\"http://www.imdb.com/search/title?languages=hi%7C1&sort=moviemeter,asc&start=\"\n",
    "    s2= \"%s&title_type=feature\" %(id)\n",
    "    url=s1 + s2   #Get the correct url.\n",
    "    t=requests.get(url).text\n",
    "    dom=web.Element(t)\n",
    "    titles=[]\n",
    "    gen=[]\n",
    "    time=[]\n",
    "    ratings=[]\n",
    "    directors=[]\n",
    "    casts=[]\n",
    "    years=[]\n",
    "    for movie in dom.by_tag('td.title'):\n",
    "        title = movie.by_tag('a')[0].content\n",
    "        try:\n",
    "            genres = movie.by_tag('span.genre')[0].by_tag('a')\n",
    "            genres = [g.content for g in genres]\n",
    "        except IndexError:\n",
    "            genres=np.nan\n",
    "            \n",
    "        try:\n",
    "            \n",
    "            director=movie.by_tag('span.credit')[0].by_tag('a')[0].content\n",
    "        \n",
    "        except IndexError:\n",
    "            director=np.nan\n",
    "            \n",
    "        try:    \n",
    "            castings=movie.by_tag('span.credit')[0].by_tag('a')[1:]\n",
    "            cast=[c.content for c in castings]\n",
    "        except IndexError:\n",
    "            cast=np.nan\n",
    "       \n",
    "        #We observe that some of the movies dont have ratings and runtimes and appending gives an IndexError. SO we use exception handling\n",
    "        #and we append a NA value in such cases.\n",
    "        try:\n",
    "            runtime = movie.by_tag('span.runtime')[0].content\n",
    "        except IndexError:\n",
    "            runtime=np.nan\n",
    "        try:\n",
    "            rating = movie.by_tag('span.value')[0].content\n",
    "        except IndexError:\n",
    "            rating= np.nan\n",
    "            \n",
    "        try:\n",
    "            year=movie.by_tag('span.year_type')[0].content.split(\"(\")[1].split(\")\")[0]\n",
    "            \n",
    "        except IndexError:\n",
    "            year=np.nan\n",
    "            \n",
    "        #runtime = movie.by_tag('span.runtime')[0].content\n",
    "        #rating = movie.by_tag('span.value')[0].content\n",
    "        titles.append(title)\n",
    "        gen.append(genres)\n",
    "        time.append(runtime)\n",
    "        ratings.append(rating)\n",
    "        directors.append(director)\n",
    "        casts.append(cast)\n",
    "        years.append(year)\n",
    "    df=pd.DataFrame({'Movie':titles, 'Genres':gen, 'Runtime':time, 'IMDB Rating':ratings,'Director':directors,'Cast':casts,'Year':years})\n",
    "    #df[[\"IMDB Rating\"]]=df[[\"IMDB Rating\"]].astype(float)\n",
    "    #print (url)\n",
    "    return df\n",
    "\n",
    "\n",
    "print movies_data(\"801\").head()      "
   ]
  },
  {
   "cell_type": "markdown",
   "metadata": {},
   "source": [
    "Now we need to create a large data frame which contains data for all the 2000 movies. So, we go on appending th dataframes returned by succesive function calls to a copy of the original dataframe containing data for the first 50 movies."
   ]
  },
  {
   "cell_type": "code",
   "execution_count": 7,
   "metadata": {
    "collapsed": false,
    "scrolled": true
   },
   "outputs": [
    {
     "name": "stdout",
     "output_type": "stream",
     "text": [
      "(100, 7)\n",
      "(150, 7)\n",
      "(200, 7)\n",
      "(250, 7)\n",
      "(300, 7)\n",
      "(350, 7)\n",
      "(400, 7)\n",
      "(450, 7)\n",
      "(500, 7)\n",
      "(550, 7)\n",
      "(600, 7)\n",
      "(650, 7)\n",
      "(700, 7)\n",
      "(750, 7)\n",
      "(800, 7)\n",
      "(850, 7)\n",
      "(900, 7)\n",
      "(950, 7)\n",
      "(1000, 7)\n",
      "(1050, 7)\n",
      "(1100, 7)\n",
      "(1150, 7)\n",
      "(1200, 7)\n",
      "(1250, 7)\n",
      "(1300, 7)\n",
      "(1350, 7)\n",
      "(1400, 7)\n",
      "(1450, 7)\n",
      "(1500, 7)\n",
      "(1550, 7)\n",
      "(1600, 7)\n",
      "(1650, 7)\n",
      "(1700, 7)\n",
      "(1750, 7)\n",
      "(1800, 7)\n",
      "(1850, 7)\n",
      "(1900, 7)\n",
      "(1950, 7)\n",
      "(2000, 7)\n",
      "(2050, 7)\n",
      "(2100, 7)\n",
      "(2150, 7)\n",
      "(2200, 7)\n",
      "(2250, 7)\n",
      "(2300, 7)\n",
      "(2350, 7)\n",
      "(2400, 7)\n",
      "(2450, 7)\n",
      "(2500, 7)\n",
      "(2550, 7)\n",
      "(2600, 7)\n",
      "(2650, 7)\n",
      "(2700, 7)\n",
      "(2750, 7)\n",
      "(2800, 7)\n",
      "(2850, 7)\n",
      "(2900, 7)\n",
      "(2950, 7)\n",
      "(3000, 7)\n",
      "(3050, 7)\n",
      "(3100, 7)\n",
      "(3150, 7)\n",
      "(3200, 7)\n",
      "(3250, 7)\n",
      "(3300, 7)\n",
      "(3350, 7)\n",
      "(3400, 7)\n",
      "(3450, 7)\n",
      "(3500, 7)\n",
      "(3550, 7)\n",
      "(3600, 7)\n",
      "(3650, 7)\n",
      "(3700, 7)\n",
      "(3750, 7)\n",
      "(3800, 7)\n",
      "(3850, 7)\n",
      "(3900, 7)\n",
      "(3950, 7)\n",
      "(4000, 7)\n",
      "(4050, 7)\n",
      "(4100, 7)\n",
      "(4150, 7)\n",
      "(4200, 7)\n",
      "(4250, 7)\n",
      "(4300, 7)\n",
      "(4350, 7)\n",
      "(4400, 7)\n",
      "(4450, 7)\n",
      "(4500, 7)\n",
      "(4550, 7)\n",
      "(4600, 7)\n",
      "(4650, 7)\n",
      "(4700, 7)\n",
      "(4750, 7)\n",
      "(4800, 7)\n",
      "(4850, 7)\n",
      "(4900, 7)\n",
      "(4950, 7)\n",
      "(5000, 7)\n"
     ]
    }
   ],
   "source": [
    "df1=df.copy()\n",
    "for i in range(51,5001,50):\n",
    "    df1=df1.append(movies_data(i)) #Equivalent to a row-bind of the two dataframes.\n",
    "    print df1.shape\n",
    "    \n",
    "#print df.shape    "
   ]
  },
  {
   "cell_type": "markdown",
   "metadata": {},
   "source": [
    "The column names are in unicode format. We now convert them to ASCII."
   ]
  },
  {
   "cell_type": "code",
   "execution_count": 8,
   "metadata": {
    "collapsed": true
   },
   "outputs": [],
   "source": [
    "for name in df1.columns:\n",
    "    name.encode('ascii','ignore')\n",
    "    "
   ]
  },
  {
   "cell_type": "markdown",
   "metadata": {},
   "source": [
    "Remember that we are building a system which will predict IMDB ratings . For this its important that we consider only movies that are relatively recent.  So we will take movies released after or in 1988.(Thats the year when Aamir Khan, delivered his first superhit \"Qayamat se Qayamat Tak\". Salman Khan debuted around 1988 but and Shah Rukh Khan in 1992. These three being the most popular and successful actors in Bollywood, 1988 seems to be a pretty decent threshold.)"
   ]
  },
  {
   "cell_type": "code",
   "execution_count": 9,
   "metadata": {
    "collapsed": false
   },
   "outputs": [],
   "source": [
    "df_new=df1[df1.Year>=\"1988\"] #Get only those movies after 1988."
   ]
  },
  {
   "cell_type": "code",
   "execution_count": 10,
   "metadata": {
    "collapsed": false
   },
   "outputs": [
    {
     "data": {
      "text/plain": [
       "(3155, 7)"
      ]
     },
     "execution_count": 10,
     "metadata": {},
     "output_type": "execute_result"
    }
   ],
   "source": [
    "df_new.shape #3156 movies"
   ]
  },
  {
   "cell_type": "code",
   "execution_count": 11,
   "metadata": {
    "collapsed": false
   },
   "outputs": [
    {
     "data": {
      "text/plain": [
       "Index([u'Cast', u'Director', u'Genres', u'IMDB Rating', u'Movie', u'Runtime', u'Year'], dtype='object')"
      ]
     },
     "execution_count": 11,
     "metadata": {},
     "output_type": "execute_result"
    }
   ],
   "source": [
    "df_new.columns"
   ]
  },
  {
   "cell_type": "markdown",
   "metadata": {},
   "source": [
    "We will now  expand our dataframe and make it wider. Our movie rating also depends on the genre of the movie. So we find all the unique genres in our data and create a separate column for each genre(The column corresponding to each genre will be a list of 0's and 1's. 1 if that genre is for that movie and 0 otherwise."
   ]
  },
  {
   "cell_type": "markdown",
   "metadata": {},
   "source": [
    "Now that we have got our data in a dataframe its time to clean it. We will filter out all the rows(that is all the movies which have missing entries for any of the variables."
   ]
  },
  {
   "cell_type": "code",
   "execution_count": 12,
   "metadata": {
    "collapsed": false
   },
   "outputs": [
    {
     "data": {
      "text/plain": [
       "(1249, 7)"
      ]
     },
     "execution_count": 12,
     "metadata": {},
     "output_type": "execute_result"
    }
   ],
   "source": [
    "from numpy import nan as NA\n",
    "df_new=df_new.dropna()\n",
    "df_new.shape"
   ]
  },
  {
   "cell_type": "code",
   "execution_count": 13,
   "metadata": {
    "collapsed": false
   },
   "outputs": [],
   "source": [
    "unique_genres=[] #List of the unique genres.\n",
    "\n",
    "for gens in df_new.Genres:\n",
    "    for g in gens:\n",
    "        unique_genres.append(g)\n",
    "    \n",
    "unique_genres=set(unique_genres)  #set() function converts  list to all the unique elements in that list.     \n",
    "        \n",
    "\n"
   ]
  },
  {
   "cell_type": "code",
   "execution_count": 14,
   "metadata": {
    "collapsed": false
   },
   "outputs": [
    {
     "data": {
      "text/plain": [
       "21"
      ]
     },
     "execution_count": 14,
     "metadata": {},
     "output_type": "execute_result"
    }
   ],
   "source": [
    "len(unique_genres) #21 unique genres"
   ]
  },
  {
   "cell_type": "code",
   "execution_count": 15,
   "metadata": {
    "collapsed": false
   },
   "outputs": [
    {
     "data": {
      "text/plain": [
       "{u'Action',\n",
       " u'Adventure',\n",
       " u'Animation',\n",
       " u'Biography',\n",
       " u'Comedy',\n",
       " u'Crime',\n",
       " u'Drama',\n",
       " u'Family',\n",
       " u'Fantasy',\n",
       " u'History',\n",
       " u'Horror',\n",
       " u'Music',\n",
       " u'Musical',\n",
       " u'Mystery',\n",
       " u'News',\n",
       " u'Romance',\n",
       " u'Sci-Fi',\n",
       " u'Sport',\n",
       " u'Thriller',\n",
       " u'War',\n",
       " u'Western'}"
      ]
     },
     "execution_count": 15,
     "metadata": {},
     "output_type": "execute_result"
    }
   ],
   "source": [
    "unique_genres #List of the unique genres"
   ]
  },
  {
   "cell_type": "markdown",
   "metadata": {},
   "source": [
    "This cell below will now get us our wide dataframe. The code is straightforward to follow."
   ]
  },
  {
   "cell_type": "code",
   "execution_count": 16,
   "metadata": {
    "collapsed": false
   },
   "outputs": [],
   "source": [
    "#df_genres=pd.DataFrame({n:[1 if n in df_new.Genres] for n in unique_genres})\n",
    "for g in unique_genres:\n",
    "    l=[]\n",
    "    for elem in df_new.Genres:\n",
    "        if g in elem:\n",
    "            l.append(1)\n",
    "        else:\n",
    "            l.append(0)\n",
    "    df_new[g]=l       #Assigning the list to a new column in a dataframe"
   ]
  },
  {
   "cell_type": "code",
   "execution_count": 17,
   "metadata": {
    "collapsed": false
   },
   "outputs": [
    {
     "data": {
      "text/plain": [
       "(1249, 28)"
      ]
     },
     "execution_count": 17,
     "metadata": {},
     "output_type": "execute_result"
    }
   ],
   "source": [
    "df_new.shape #The dataframe now has 1634 rows and 29 columns."
   ]
  },
  {
   "cell_type": "code",
   "execution_count": 18,
   "metadata": {
    "collapsed": false
   },
   "outputs": [
    {
     "data": {
      "text/plain": [
       "Index([u'Cast', u'Director', u'Genres', u'IMDB Rating', u'Movie', u'Runtime', u'Year', u'Mystery', u'Romance', u'Comedy', u'Sci-Fi', u'Family', u'Adventure', u'Horror', u'War', u'Crime', u'Drama', u'Fantasy', u'Western', u'Animation', u'Music', u'Biography', u'Action', u'News', u'Sport', u'Musical', u'Thriller', u'History'], dtype='object')"
      ]
     },
     "execution_count": 18,
     "metadata": {},
     "output_type": "execute_result"
    }
   ],
   "source": [
    "df_new.columns #the column names."
   ]
  },
  {
   "cell_type": "markdown",
   "metadata": {},
   "source": [
    "We will now do a similar process for the cast (actors) for each movie. For this we will uuse the list under the Cast column in our dataframe."
   ]
  },
  {
   "cell_type": "code",
   "execution_count": 19,
   "metadata": {
    "collapsed": false
   },
   "outputs": [],
   "source": [
    "actors=[]\n",
    "for c in df_new.Cast:\n",
    "    for act in c:\n",
    "        actors.append(act)"
   ]
  },
  {
   "cell_type": "code",
   "execution_count": 20,
   "metadata": {
    "collapsed": false
   },
   "outputs": [
    {
     "data": {
      "text/plain": [
       "1456"
      ]
     },
     "execution_count": 20,
     "metadata": {},
     "output_type": "execute_result"
    }
   ],
   "source": [
    "actors=set(actors)\n",
    "len(actors) #1454 unique actors"
   ]
  },
  {
   "cell_type": "code",
   "execution_count": 21,
   "metadata": {
    "collapsed": false
   },
   "outputs": [],
   "source": [
    "for act in actors:\n",
    "    l=[]\n",
    "    for elem in df_new.Cast:\n",
    "        if act in elem:\n",
    "            l.append(1)\n",
    "        else:\n",
    "            l.append(0)\n",
    "    df_new[act]=l        "
   ]
  },
  {
   "cell_type": "code",
   "execution_count": 22,
   "metadata": {
    "collapsed": false
   },
   "outputs": [
    {
     "data": {
      "text/plain": [
       "(1249, 1484)"
      ]
     },
     "execution_count": 22,
     "metadata": {},
     "output_type": "execute_result"
    }
   ],
   "source": [
    "df_new.shape #Now dataframe has 1634 rows and 1478 columns. "
   ]
  },
  {
   "cell_type": "markdown",
   "metadata": {},
   "source": [
    "Our data frame has only 1224 movies. This could have been much more.Remember that we dropped all those movies which had missing values for some field. This may not be a good approach always. So, from the original dataset scraped, we got only about 20% of the data which will be useful to us. We may be losing a lot of information here but I dont see any other way to deal with this!. If you see the imdb page, it has about 11,000 odd movies. But I didnt scrape all of them as it would have taken a lot of time and . We may as well get more than 6000 movies( only those movies after 1988) had we scraped all these 11,000-odd movies. One could try this!"
   ]
  },
  {
   "cell_type": "markdown",
   "metadata": {},
   "source": [
    "The Runtime column in the dataframe has runtime of the movie in minutes and we know that. So we may as well get rid of the 'mins' and convert all the values to integer type."
   ]
  },
  {
   "cell_type": "code",
   "execution_count": 23,
   "metadata": {
    "collapsed": false
   },
   "outputs": [
    {
     "data": {
      "text/plain": [
       "0     156 mins.\n",
       "1     163 mins.\n",
       "2     170 mins.\n",
       "3     126 mins.\n",
       "4     120 mins.\n",
       "5     123 mins.\n",
       "6     153 mins.\n",
       "7     128 mins.\n",
       "8     136 mins.\n",
       "9     320 mins.\n",
       "10    172 mins.\n",
       "11    104 mins.\n",
       "12    170 mins.\n",
       "13    180 mins.\n",
       "14    146 mins.\n",
       "...\n",
       "24    124 mins.\n",
       "29    109 mins.\n",
       "1      77 mins.\n",
       "21    112 mins.\n",
       "31    119 mins.\n",
       "45    250 mins.\n",
       "23     78 mins.\n",
       "38     95 mins.\n",
       "17    133 mins.\n",
       "39    115 mins.\n",
       "16     88 mins.\n",
       "9     139 mins.\n",
       "36    138 mins.\n",
       "38     99 mins.\n",
       "43     63 mins.\n",
       "Name: Runtime, Length: 1249, dtype: object"
      ]
     },
     "execution_count": 23,
     "metadata": {},
     "output_type": "execute_result"
    }
   ],
   "source": [
    "df_new.Runtime "
   ]
  },
  {
   "cell_type": "markdown",
   "metadata": {},
   "source": [
    "Now, we will get the runtime values in a range of (0,1). This is called as normalizing and this will be important for us."
   ]
  },
  {
   "cell_type": "code",
   "execution_count": 24,
   "metadata": {
    "collapsed": false
   },
   "outputs": [],
   "source": [
    "y=[]\n",
    "for f in df_new.Runtime:\n",
    "    f=f.encode(\"ascii\",\"ignore\")\n",
    "    f=f.split(\" \")[0]\n",
    "    if f!=\"NA\":\n",
    "        f=float(f)\n",
    "        y.append(f)\n",
    "    else:\n",
    "        f=\"NA\"\n",
    "        y.append(f)\n",
    "df_new.Runtime=y  "
   ]
  },
  {
   "cell_type": "code",
   "execution_count": 25,
   "metadata": {
    "collapsed": false
   },
   "outputs": [
    {
     "data": {
      "text/plain": [
       "0     156\n",
       "1     163\n",
       "2     170\n",
       "3     126\n",
       "4     120\n",
       "5     123\n",
       "6     153\n",
       "7     128\n",
       "8     136\n",
       "9     320\n",
       "10    172\n",
       "11    104\n",
       "12    170\n",
       "13    180\n",
       "14    146\n",
       "...\n",
       "24    124\n",
       "29    109\n",
       "1      77\n",
       "21    112\n",
       "31    119\n",
       "45    250\n",
       "23     78\n",
       "38     95\n",
       "17    133\n",
       "39    115\n",
       "16     88\n",
       "9     139\n",
       "36    138\n",
       "38     99\n",
       "43     63\n",
       "Name: Runtime, Length: 1249, dtype: float64"
      ]
     },
     "execution_count": 25,
     "metadata": {},
     "output_type": "execute_result"
    }
   ],
   "source": [
    "df_new.Runtime"
   ]
  },
  {
   "cell_type": "code",
   "execution_count": 26,
   "metadata": {
    "collapsed": false
   },
   "outputs": [],
   "source": [
    "#import numpy as np\n",
    "m=float(min(df_new.Runtime))\n",
    "M=float(max(df_new.Runtime))\n",
    "type(m)\n",
    "type(M)\n",
    "f=[]\n",
    "for d in df_new.Runtime:\n",
    "    \n",
    "    #print type(d)\n",
    "    numerator=d-m\n",
    "    denominator=M-m\n",
    "    f.append(numerator/denominator) \n",
    "df_new.Runtime=f        "
   ]
  },
  {
   "cell_type": "code",
   "execution_count": 27,
   "metadata": {
    "collapsed": false
   },
   "outputs": [
    {
     "data": {
      "text/plain": [
       "0     0.364341\n",
       "1     0.391473\n",
       "2     0.418605\n",
       "3     0.248062\n",
       "4     0.224806\n",
       "5     0.236434\n",
       "6     0.352713\n",
       "7     0.255814\n",
       "8     0.286822\n",
       "9     1.000000\n",
       "10    0.426357\n",
       "11    0.162791\n",
       "12    0.418605\n",
       "13    0.457364\n",
       "14    0.325581\n",
       "...\n",
       "24    0.240310\n",
       "29    0.182171\n",
       "1     0.058140\n",
       "21    0.193798\n",
       "31    0.220930\n",
       "45    0.728682\n",
       "23    0.062016\n",
       "38    0.127907\n",
       "17    0.275194\n",
       "39    0.205426\n",
       "16    0.100775\n",
       "9     0.298450\n",
       "36    0.294574\n",
       "38    0.143411\n",
       "43    0.003876\n",
       "Name: Runtime, Length: 1249, dtype: float64"
      ]
     },
     "execution_count": 27,
     "metadata": {},
     "output_type": "execute_result"
    }
   ],
   "source": [
    "df_new.Runtime #Now all values which aren't NA's are in between 0 and 1."
   ]
  },
  {
   "cell_type": "markdown",
   "metadata": {},
   "source": [
    "We will now also normalize the year values."
   ]
  },
  {
   "cell_type": "code",
   "execution_count": 28,
   "metadata": {
    "collapsed": false
   },
   "outputs": [],
   "source": [
    "year_min=float(min(df_new.Year))\n",
    "year_max=float(max(df_new.Year))\n",
    "#print type(year_min)\n",
    "l=[]\n",
    "for year in df_new.Year:\n",
    "    l.append((float(year)-year_min)/(year_max-year_min))\n",
    "    #print type(year)\n",
    "    \n"
   ]
  },
  {
   "cell_type": "code",
   "execution_count": 29,
   "metadata": {
    "collapsed": false
   },
   "outputs": [],
   "source": [
    "df_new.Year=l"
   ]
  },
  {
   "cell_type": "code",
   "execution_count": 30,
   "metadata": {
    "collapsed": false
   },
   "outputs": [
    {
     "data": {
      "text/plain": [
       "0     1.000000\n",
       "1     1.000000\n",
       "2     0.777778\n",
       "3     1.000000\n",
       "4     1.000000\n",
       "5     1.000000\n",
       "6     0.962963\n",
       "7     1.000000\n",
       "8     1.000000\n",
       "9     0.888889\n",
       "10    0.925926\n",
       "11    0.925926\n",
       "12    1.000000\n",
       "13    0.962963\n",
       "14    0.962963\n",
       "...\n",
       "24    1.000000\n",
       "29    0.666667\n",
       "1     0.888889\n",
       "21    0.851852\n",
       "31    0.962963\n",
       "45    0.666667\n",
       "23    0.629630\n",
       "38    0.333333\n",
       "17    0.666667\n",
       "39    0.888889\n",
       "16    0.962963\n",
       "9     0.037037\n",
       "36    0.481481\n",
       "38    1.000000\n",
       "43    0.962963\n",
       "Name: Year, Length: 1249, dtype: float64"
      ]
     },
     "execution_count": 30,
     "metadata": {},
     "output_type": "execute_result"
    }
   ],
   "source": [
    "df_new.Year"
   ]
  },
  {
   "cell_type": "code",
   "execution_count": 35,
   "metadata": {
    "collapsed": false
   },
   "outputs": [],
   "source": [
    "#Writing the dataframe obtained to a csv file\n",
    "df_new.to_csv(\"imdb.txt\",sep=\",\",encoding='utf-8')"
   ]
  },
  {
   "cell_type": "code",
   "execution_count": 48,
   "metadata": {
    "collapsed": false
   },
   "outputs": [
    {
     "data": {
      "text/html": [
       "<div style=\"max-height:1000px;max-width:1500px;overflow:auto;\">\n",
       "<table border=\"1\" class=\"dataframe\">\n",
       "  <thead>\n",
       "    <tr style=\"text-align: right;\">\n",
       "      <th></th>\n",
       "      <th>Cast</th>\n",
       "      <th>Director</th>\n",
       "      <th>Genres</th>\n",
       "      <th>IMDB Rating</th>\n",
       "      <th>Movie</th>\n",
       "      <th>Runtime</th>\n",
       "      <th>Year</th>\n",
       "      <th>Mystery</th>\n",
       "      <th>Romance</th>\n",
       "      <th>Comedy</th>\n",
       "      <th>...</th>\n",
       "      <th>Satyaraj</th>\n",
       "      <th>Hansa Vithal</th>\n",
       "      <th>Sandeep Bose</th>\n",
       "      <th>Jitin Gulati</th>\n",
       "      <th>Suman Ranganathan</th>\n",
       "      <th>Kader Khan</th>\n",
       "      <th>Seema Kelkar</th>\n",
       "      <th>Kriti Malhotra</th>\n",
       "      <th>Master Adil</th>\n",
       "      <th>Deep Dhillon</th>\n",
       "    </tr>\n",
       "  </thead>\n",
       "  <tbody>\n",
       "    <tr>\n",
       "      <th>0</th>\n",
       "      <td>  [Akshay Kumar, Jackie Shroff, Sidharth Malhotra]</td>\n",
       "      <td>  Karan Malhotra</td>\n",
       "      <td>               [Action, Drama, Sport]</td>\n",
       "      <td> 7.1</td>\n",
       "      <td>                 Brothers</td>\n",
       "      <td> 0.364341</td>\n",
       "      <td> 1.000000</td>\n",
       "      <td> 0</td>\n",
       "      <td> 0</td>\n",
       "      <td> 0</td>\n",
       "      <td>...</td>\n",
       "      <td> 0</td>\n",
       "      <td> 0</td>\n",
       "      <td> 0</td>\n",
       "      <td> 0</td>\n",
       "      <td> 0</td>\n",
       "      <td> 0</td>\n",
       "      <td> 0</td>\n",
       "      <td> 0</td>\n",
       "      <td> 0</td>\n",
       "      <td> 0</td>\n",
       "    </tr>\n",
       "    <tr>\n",
       "      <th>1</th>\n",
       "      <td>                  [Ajay Devgn, Shriya Saran, Tabu]</td>\n",
       "      <td> Nishikant Kamat</td>\n",
       "      <td>           [Drama, Mystery, Thriller]</td>\n",
       "      <td> 9.0</td>\n",
       "      <td>                 Drishyam</td>\n",
       "      <td> 0.391473</td>\n",
       "      <td> 1.000000</td>\n",
       "      <td> 1</td>\n",
       "      <td> 0</td>\n",
       "      <td> 0</td>\n",
       "      <td>...</td>\n",
       "      <td> 0</td>\n",
       "      <td> 0</td>\n",
       "      <td> 0</td>\n",
       "      <td> 0</td>\n",
       "      <td> 0</td>\n",
       "      <td> 0</td>\n",
       "      <td> 0</td>\n",
       "      <td> 0</td>\n",
       "      <td> 0</td>\n",
       "      <td> 0</td>\n",
       "    </tr>\n",
       "    <tr>\n",
       "      <th>2</th>\n",
       "      <td>                [Aamir Khan, Madhavan, Mona Singh]</td>\n",
       "      <td> Rajkumar Hirani</td>\n",
       "      <td>                      [Comedy, Drama]</td>\n",
       "      <td> 8.5</td>\n",
       "      <td>                 3 Idiots</td>\n",
       "      <td> 0.418605</td>\n",
       "      <td> 0.777778</td>\n",
       "      <td> 0</td>\n",
       "      <td> 0</td>\n",
       "      <td> 1</td>\n",
       "      <td>...</td>\n",
       "      <td> 0</td>\n",
       "      <td> 0</td>\n",
       "      <td> 0</td>\n",
       "      <td> 0</td>\n",
       "      <td> 0</td>\n",
       "      <td> 0</td>\n",
       "      <td> 0</td>\n",
       "      <td> 0</td>\n",
       "      <td> 0</td>\n",
       "      <td> 0</td>\n",
       "    </tr>\n",
       "    <tr>\n",
       "      <th>3</th>\n",
       "      <td>           [Rishi Kapoor, Abhishek Bachchan, Asin]</td>\n",
       "      <td>    Umesh Shukla</td>\n",
       "      <td>             [Comedy, Drama, Romance]</td>\n",
       "      <td> 3.6</td>\n",
       "      <td>              All Is Well</td>\n",
       "      <td> 0.248062</td>\n",
       "      <td> 1.000000</td>\n",
       "      <td> 0</td>\n",
       "      <td> 1</td>\n",
       "      <td> 1</td>\n",
       "      <td>...</td>\n",
       "      <td> 0</td>\n",
       "      <td> 0</td>\n",
       "      <td> 0</td>\n",
       "      <td> 0</td>\n",
       "      <td> 0</td>\n",
       "      <td> 0</td>\n",
       "      <td> 0</td>\n",
       "      <td> 0</td>\n",
       "      <td> 0</td>\n",
       "      <td> 0</td>\n",
       "    </tr>\n",
       "    <tr>\n",
       "      <th>4</th>\n",
       "      <td> [Nawazuddin Siddiqui, Radhika Apte, Ashutosh A...</td>\n",
       "      <td>     Ketan Mehta</td>\n",
       "      <td> [Biography, Drama, History, Romance]</td>\n",
       "      <td> 8.7</td>\n",
       "      <td> Manjhi: The Mountain Man</td>\n",
       "      <td> 0.224806</td>\n",
       "      <td> 1.000000</td>\n",
       "      <td> 0</td>\n",
       "      <td> 1</td>\n",
       "      <td> 0</td>\n",
       "      <td>...</td>\n",
       "      <td> 0</td>\n",
       "      <td> 0</td>\n",
       "      <td> 0</td>\n",
       "      <td> 0</td>\n",
       "      <td> 0</td>\n",
       "      <td> 0</td>\n",
       "      <td> 0</td>\n",
       "      <td> 0</td>\n",
       "      <td> 0</td>\n",
       "      <td> 0</td>\n",
       "    </tr>\n",
       "  </tbody>\n",
       "</table>\n",
       "<p>5 rows × 1484 columns</p>\n",
       "</div>"
      ],
      "text/plain": [
       "                                                Cast         Director  \\\n",
       "0   [Akshay Kumar, Jackie Shroff, Sidharth Malhotra]   Karan Malhotra   \n",
       "1                   [Ajay Devgn, Shriya Saran, Tabu]  Nishikant Kamat   \n",
       "2                 [Aamir Khan, Madhavan, Mona Singh]  Rajkumar Hirani   \n",
       "3            [Rishi Kapoor, Abhishek Bachchan, Asin]     Umesh Shukla   \n",
       "4  [Nawazuddin Siddiqui, Radhika Apte, Ashutosh A...      Ketan Mehta   \n",
       "\n",
       "                                 Genres IMDB Rating                     Movie  \\\n",
       "0                [Action, Drama, Sport]         7.1                  Brothers   \n",
       "1            [Drama, Mystery, Thriller]         9.0                  Drishyam   \n",
       "2                       [Comedy, Drama]         8.5                  3 Idiots   \n",
       "3              [Comedy, Drama, Romance]         3.6               All Is Well   \n",
       "4  [Biography, Drama, History, Romance]         8.7  Manjhi: The Mountain Man   \n",
       "\n",
       "    Runtime      Year  Mystery  Romance  Comedy      ...       Satyaraj  \\\n",
       "0  0.364341  1.000000        0        0       0      ...              0   \n",
       "1  0.391473  1.000000        1        0       0      ...              0   \n",
       "2  0.418605  0.777778        0        0       1      ...              0   \n",
       "3  0.248062  1.000000        0        1       1      ...              0   \n",
       "4  0.224806  1.000000        0        1       0      ...              0   \n",
       "\n",
       "   Hansa Vithal  Sandeep Bose  Jitin Gulati  Suman Ranganathan  Kader Khan  \\\n",
       "0             0             0             0                  0           0   \n",
       "1             0             0             0                  0           0   \n",
       "2             0             0             0                  0           0   \n",
       "3             0             0             0                  0           0   \n",
       "4             0             0             0                  0           0   \n",
       "\n",
       "   Seema Kelkar  Kriti Malhotra  Master Adil  Deep Dhillon  \n",
       "0             0               0            0             0  \n",
       "1             0               0            0             0  \n",
       "2             0               0            0             0  \n",
       "3             0               0            0             0  \n",
       "4             0               0            0             0  \n",
       "\n",
       "[5 rows x 1484 columns]"
      ]
     },
     "execution_count": 48,
     "metadata": {},
     "output_type": "execute_result"
    }
   ],
   "source": [
    "df_new.head(5)"
   ]
  },
  {
   "cell_type": "markdown",
   "metadata": {},
   "source": [
    "#Exploratory Data Analysis"
   ]
  },
  {
   "cell_type": "code",
   "execution_count": 83,
   "metadata": {
    "collapsed": false
   },
   "outputs": [
    {
     "ename": "AttributeError",
     "evalue": "'numpy.float64' object has no attribute 'encode'",
     "output_type": "error",
     "traceback": [
      "\u001b[1;31m---------------------------------------------------------------------------\u001b[0m",
      "\u001b[1;31mAttributeError\u001b[0m                            Traceback (most recent call last)",
      "\u001b[1;32m<ipython-input-83-f1f664fee5cc>\u001b[0m in \u001b[0;36m<module>\u001b[1;34m()\u001b[0m\n\u001b[0;32m      3\u001b[0m \u001b[1;32mimport\u001b[0m \u001b[0mmatplotlib\u001b[0m\u001b[1;33m.\u001b[0m\u001b[0mpyplot\u001b[0m \u001b[1;32mas\u001b[0m \u001b[0mplt\u001b[0m\u001b[1;33m\u001b[0m\u001b[0m\n\u001b[0;32m      4\u001b[0m \u001b[1;32mfor\u001b[0m \u001b[0md\u001b[0m \u001b[1;32min\u001b[0m \u001b[0mdf_new\u001b[0m\u001b[1;33m[\u001b[0m\u001b[1;34m'IMDB Rating'\u001b[0m\u001b[1;33m]\u001b[0m\u001b[1;33m:\u001b[0m\u001b[1;33m\u001b[0m\u001b[0m\n\u001b[1;32m----> 5\u001b[1;33m     \u001b[0md\u001b[0m\u001b[1;33m=\u001b[0m\u001b[0md\u001b[0m\u001b[1;33m.\u001b[0m\u001b[0mencode\u001b[0m\u001b[1;33m(\u001b[0m\u001b[1;34m\"ascii\"\u001b[0m\u001b[1;33m,\u001b[0m\u001b[1;34m\"ignore\"\u001b[0m\u001b[1;33m)\u001b[0m\u001b[1;33m\u001b[0m\u001b[0m\n\u001b[0m\u001b[0;32m      6\u001b[0m     \u001b[0mk\u001b[0m\u001b[1;33m.\u001b[0m\u001b[0mappend\u001b[0m\u001b[1;33m(\u001b[0m\u001b[0mfloat\u001b[0m\u001b[1;33m(\u001b[0m\u001b[0md\u001b[0m\u001b[1;33m)\u001b[0m\u001b[1;33m)\u001b[0m\u001b[1;33m\u001b[0m\u001b[0m\n\u001b[0;32m      7\u001b[0m     \u001b[1;32mprint\u001b[0m \u001b[0mtype\u001b[0m\u001b[1;33m(\u001b[0m\u001b[0md\u001b[0m\u001b[1;33m)\u001b[0m\u001b[1;33m\u001b[0m\u001b[0m\n",
      "\u001b[1;31mAttributeError\u001b[0m: 'numpy.float64' object has no attribute 'encode'"
     ]
    }
   ],
   "source": [
    "%matplotlib inline\n",
    "k=[]\n",
    "import matplotlib.pyplot as plt\n",
    "for d in df_new['IMDB Rating']:\n",
    "    d=d.encode(\"ascii\",\"ignore\")\n",
    "    k.append(float(d))\n",
    "    print type(d)\n",
    "df_new['IMDB Rating']=l\n",
    "#df_new.plot('Year','IMDB Rating')\n",
    "#plt.plot(df_new['Year'],df_new['IMDB Rating'])\n",
    "#plt.show()"
   ]
  },
  {
   "cell_type": "code",
   "execution_count": 86,
   "metadata": {
    "collapsed": false
   },
   "outputs": [
    {
     "data": {
      "image/png": "[encoded data removed]",
      "text/plain": [
       "<matplotlib.figure.Figure at 0x106d3160>"
      ]
     },
     "metadata": {},
     "output_type": "display_data"
    }
   ],
   "source": [
    "plt.scatter(list(df_new['Year']),list(df_new['IMDB Rating']))\n",
    "plt.show()"
   ]
  },
  {
   "cell_type": "markdown",
   "metadata": {
    "collapsed": true
   },
   "source": [
    "#  Predicting."
   ]
  },
  {
   "cell_type": "markdown",
   "metadata": {},
   "source": [
    "Now for starters we will fit a linear model to the data."
   ]
  },
  {
   "cell_type": "markdown",
   "metadata": {},
   "source": [
    "Our dataframe now has many many columns. We will now peform PCA to compress the data."
   ]
  },
  {
   "cell_type": "code",
   "execution_count": 30,
   "metadata": {
    "collapsed": false
   },
   "outputs": [
    {
     "data": {
      "text/plain": [
       "(1248, 1482)"
      ]
     },
     "execution_count": 30,
     "metadata": {},
     "output_type": "execute_result"
    }
   ],
   "source": [
    "from sklearn import linear_model\n",
    "df_new.shape"
   ]
  },
  {
   "cell_type": "code",
   "execution_count": 50,
   "metadata": {
    "collapsed": false
   },
   "outputs": [],
   "source": [
    "clf=linear_model.LinearRegression()"
   ]
  },
  {
   "cell_type": "code",
   "execution_count": 51,
   "metadata": {
    "collapsed": false
   },
   "outputs": [
    {
     "data": {
      "text/plain": [
       "LinearRegression(copy_X=True, fit_intercept=True, normalize=False)"
      ]
     },
     "execution_count": 51,
     "metadata": {},
     "output_type": "execute_result"
    }
   ],
   "source": [
    "clf"
   ]
  },
  {
   "cell_type": "code",
   "execution_count": 52,
   "metadata": {
    "collapsed": false
   },
   "outputs": [
    {
     "data": {
      "text/plain": [
       "Index([u'Cast', u'Director', u'Genres', u'IMDB Rating', u'Movie', u'Runtime', u'Year', u'Mystery', u'Romance', u'Sport', u'Sci-Fi', u'Family', u'Biography', u'War', u'Crime', u'Drama', u'Fantasy', u'Western', u'Animation', u'Music', u'Adventure', u'Horror', u'Action', u'News', u'Comedy', u'Musical', u'Thriller', u'History', u'Manish Gupta', u'Sonakshi Sinha', u'Bunty Grewal', u'Abbas', u'Antara Mali', u'Tanushree Dutta', u'Rahul Roy', u'Garrick Chaudhary', u'Raajpal Yadav', u'Anil Kapoor', u'Inder Kumar', u'Anita Kanwar', u'Ravali', u'Karanvir Bohra', u'Vinay Pathak', u'Gayatri Joshi', u'Harsh Mayar', u'Krutika Deo', u'Mohnish Bahl', u'Aamir Bashir', u'Raja Gulati', u'Neten Chokling', u'Indravadan Tridevi', u'Aaran Chaudhary', u'Shernaz Patel', u'Raj Kesaria', u'Sidharth Malhotra', u'Emraan Hashmi', u'Keneth Desai', u'Aham Sharma', u'Joy Fernandes', u'Caterina Lopez', u'Suhasini', u'Mohan Azaad', u'Ranjeeta Kaur', u'Tabu', u'Mantra', u'Jamuna', u'Shadab Khan', u'Amruta Subhash', u'Ashish Kattar', u'Anu Agrawal', u'Nirmal Pandey', u'Atif Jamil', u'Mithilesh Chaturvedi', u'Suresh Bhagwat', u'Raheela Agha', u'Anita Raj', u'Savi Bishta', u'Saidah Jules', u'Sahil Anand', u'Rati Agnihotri', u'Jasleen Matharu', u'Vikas Sethi', u'Pankaj Tripathy', u'A.A. Baig', u'Ravi Bhushan Bhartiya', u'Ayush Mahesh Khedekar', u'Pakkhi Hegde', u'S.M. Zaheer', u'Gurfareen Bano', u'Aanchal Dwivedi', u'Aditya Srivastava', u'Durgesh Kumar', u'Roy Radhika', u'Karan Arora', u'Arbaaz Ali Khan', u'Vatsal Seth', u'Rajesh Shringarpore', u'Sudesh Berry', u'Ram Mohan', u'Hazel Croney', ...], dtype='object')"
      ]
     },
     "execution_count": 52,
     "metadata": {},
     "output_type": "execute_result"
    }
   ],
   "source": [
    "df_new.columns"
   ]
  },
  {
   "cell_type": "code",
   "execution_count": 53,
   "metadata": {
    "collapsed": false,
    "scrolled": true
   },
   "outputs": [],
   "source": [
    "cols=(list(df_new.columns))\n",
    "cols.remove('IMDB Rating')\n",
    "X,y= df_new[cols],df_new['IMDB Rating']\n"
   ]
  },
  {
   "cell_type": "code",
   "execution_count": 54,
   "metadata": {
    "collapsed": false
   },
   "outputs": [
    {
     "data": {
      "text/plain": [
       "(1225, 1457)"
      ]
     },
     "execution_count": 54,
     "metadata": {},
     "output_type": "execute_result"
    }
   ],
   "source": [
    "X.shape\n",
    "X[3:].shape"
   ]
  },
  {
   "cell_type": "code",
   "execution_count": 63,
   "metadata": {
    "collapsed": false,
    "scrolled": true
   },
   "outputs": [
    {
     "data": {
      "text/plain": [
       "1    0.777778\n",
       "1    0.703704\n",
       "1    0.814815\n",
       "1    0.370370\n",
       "1    0.407407\n",
       "1    0.777778\n",
       "1    0.444444\n",
       "1    0.629630\n",
       "1    0.740741\n",
       "1    0.666667\n",
       "1    0.851852\n",
       "1    0.888889\n",
       "1    0.888889\n",
       "1    0.185185\n",
       "1    0.592593\n",
       "1    0.592593\n",
       "1    1.000000\n",
       "1    0.518519\n",
       "Name: Year, dtype: float64"
      ]
     },
     "execution_count": 63,
     "metadata": {},
     "output_type": "execute_result"
    }
   ],
   "source": [
    "y.shape\n",
    "x=X.ix[:,'Runtime':]#We want to exclude the first four variables from the features vector.\n",
    "x=x[1:1000]\n",
    "#We will use the last part of our dataframe as our test set and the first 1000 observations as the training set.\n",
    "x\n"
   ]
  },
  {
   "cell_type": "code",
   "execution_count": 56,
   "metadata": {
    "collapsed": false,
    "scrolled": true
   },
   "outputs": [
    {
     "ename": "TypeError",
     "evalue": "unsupported operand type(s) for /: 'unicode' and 'long'",
     "output_type": "error",
     "traceback": [
      "\u001b[1;31m---------------------------------------------------------------------------\u001b[0m",
      "\u001b[1;31mTypeError\u001b[0m                                 Traceback (most recent call last)",
      "\u001b[1;32m<ipython-input-56-3f82f9ba6ff8>\u001b[0m in \u001b[0;36m<module>\u001b[1;34m()\u001b[0m\n\u001b[1;32m----> 1\u001b[1;33m \u001b[0mclf\u001b[0m\u001b[1;33m=\u001b[0m\u001b[0mclf\u001b[0m\u001b[1;33m.\u001b[0m\u001b[0mfit\u001b[0m\u001b[1;33m(\u001b[0m\u001b[0mx\u001b[0m\u001b[1;33m,\u001b[0m\u001b[0my\u001b[0m\u001b[1;33m[\u001b[0m\u001b[1;36m1\u001b[0m\u001b[1;33m:\u001b[0m\u001b[1;36m1000\u001b[0m\u001b[1;33m]\u001b[0m\u001b[1;33m)\u001b[0m\u001b[1;33m\u001b[0m\u001b[0m\n\u001b[0m",
      "\u001b[1;32mC:\\Users\\ADMIN\\Anaconda\\lib\\site-packages\\sklearn\\linear_model\\base.pyc\u001b[0m in \u001b[0;36mfit\u001b[1;34m(self, X, y, n_jobs)\u001b[0m\n\u001b[0;32m    353\u001b[0m \u001b[1;33m\u001b[0m\u001b[0m\n\u001b[0;32m    354\u001b[0m         X, y, X_mean, y_mean, X_std = self._center_data(\n\u001b[1;32m--> 355\u001b[1;33m             X, y, self.fit_intercept, self.normalize, self.copy_X)\n\u001b[0m\u001b[0;32m    356\u001b[0m \u001b[1;33m\u001b[0m\u001b[0m\n\u001b[0;32m    357\u001b[0m         \u001b[1;32mif\u001b[0m \u001b[0msp\u001b[0m\u001b[1;33m.\u001b[0m\u001b[0missparse\u001b[0m\u001b[1;33m(\u001b[0m\u001b[0mX\u001b[0m\u001b[1;33m)\u001b[0m\u001b[1;33m:\u001b[0m\u001b[1;33m\u001b[0m\u001b[0m\n",
      "\u001b[1;32mC:\\Users\\ADMIN\\Anaconda\\lib\\site-packages\\sklearn\\linear_model\\base.pyc\u001b[0m in \u001b[0;36mcenter_data\u001b[1;34m(X, y, fit_intercept, normalize, copy, sample_weight)\u001b[0m\n\u001b[0;32m    103\u001b[0m             \u001b[1;32melse\u001b[0m\u001b[1;33m:\u001b[0m\u001b[1;33m\u001b[0m\u001b[0m\n\u001b[0;32m    104\u001b[0m                 \u001b[0mX_std\u001b[0m \u001b[1;33m=\u001b[0m \u001b[0mnp\u001b[0m\u001b[1;33m.\u001b[0m\u001b[0mones\u001b[0m\u001b[1;33m(\u001b[0m\u001b[0mX\u001b[0m\u001b[1;33m.\u001b[0m\u001b[0mshape\u001b[0m\u001b[1;33m[\u001b[0m\u001b[1;36m1\u001b[0m\u001b[1;33m]\u001b[0m\u001b[1;33m)\u001b[0m\u001b[1;33m\u001b[0m\u001b[0m\n\u001b[1;32m--> 105\u001b[1;33m         \u001b[0my_mean\u001b[0m \u001b[1;33m=\u001b[0m \u001b[0mnp\u001b[0m\u001b[1;33m.\u001b[0m\u001b[0maverage\u001b[0m\u001b[1;33m(\u001b[0m\u001b[0my\u001b[0m\u001b[1;33m,\u001b[0m \u001b[0maxis\u001b[0m\u001b[1;33m=\u001b[0m\u001b[1;36m0\u001b[0m\u001b[1;33m,\u001b[0m \u001b[0mweights\u001b[0m\u001b[1;33m=\u001b[0m\u001b[0msample_weight\u001b[0m\u001b[1;33m)\u001b[0m\u001b[1;33m\u001b[0m\u001b[0m\n\u001b[0m\u001b[0;32m    106\u001b[0m         \u001b[0my\u001b[0m \u001b[1;33m=\u001b[0m \u001b[0my\u001b[0m \u001b[1;33m-\u001b[0m \u001b[0my_mean\u001b[0m\u001b[1;33m\u001b[0m\u001b[0m\n\u001b[0;32m    107\u001b[0m     \u001b[1;32melse\u001b[0m\u001b[1;33m:\u001b[0m\u001b[1;33m\u001b[0m\u001b[0m\n",
      "\u001b[1;32mC:\\Users\\ADMIN\\Anaconda\\lib\\site-packages\\numpy\\lib\\function_base.pyc\u001b[0m in \u001b[0;36maverage\u001b[1;34m(a, axis, weights, returned)\u001b[0m\n\u001b[0;32m    512\u001b[0m \u001b[1;33m\u001b[0m\u001b[0m\n\u001b[0;32m    513\u001b[0m     \u001b[1;32mif\u001b[0m \u001b[0mweights\u001b[0m \u001b[1;32mis\u001b[0m \u001b[0mNone\u001b[0m\u001b[1;33m:\u001b[0m\u001b[1;33m\u001b[0m\u001b[0m\n\u001b[1;32m--> 514\u001b[1;33m         \u001b[0mavg\u001b[0m \u001b[1;33m=\u001b[0m \u001b[0ma\u001b[0m\u001b[1;33m.\u001b[0m\u001b[0mmean\u001b[0m\u001b[1;33m(\u001b[0m\u001b[0maxis\u001b[0m\u001b[1;33m)\u001b[0m\u001b[1;33m\u001b[0m\u001b[0m\n\u001b[0m\u001b[0;32m    515\u001b[0m         \u001b[0mscl\u001b[0m \u001b[1;33m=\u001b[0m \u001b[0mavg\u001b[0m\u001b[1;33m.\u001b[0m\u001b[0mdtype\u001b[0m\u001b[1;33m.\u001b[0m\u001b[0mtype\u001b[0m\u001b[1;33m(\u001b[0m\u001b[0ma\u001b[0m\u001b[1;33m.\u001b[0m\u001b[0msize\u001b[0m\u001b[1;33m/\u001b[0m\u001b[0mavg\u001b[0m\u001b[1;33m.\u001b[0m\u001b[0msize\u001b[0m\u001b[1;33m)\u001b[0m\u001b[1;33m\u001b[0m\u001b[0m\n\u001b[0;32m    516\u001b[0m     \u001b[1;32melse\u001b[0m\u001b[1;33m:\u001b[0m\u001b[1;33m\u001b[0m\u001b[0m\n",
      "\u001b[1;32mC:\\Users\\ADMIN\\Anaconda\\lib\\site-packages\\numpy\\core\\_methods.pyc\u001b[0m in \u001b[0;36m_mean\u001b[1;34m(a, axis, dtype, out, keepdims)\u001b[0m\n\u001b[0;32m     71\u001b[0m         \u001b[0mret\u001b[0m \u001b[1;33m=\u001b[0m \u001b[0mret\u001b[0m\u001b[1;33m.\u001b[0m\u001b[0mdtype\u001b[0m\u001b[1;33m.\u001b[0m\u001b[0mtype\u001b[0m\u001b[1;33m(\u001b[0m\u001b[0mret\u001b[0m \u001b[1;33m/\u001b[0m \u001b[0mrcount\u001b[0m\u001b[1;33m)\u001b[0m\u001b[1;33m\u001b[0m\u001b[0m\n\u001b[0;32m     72\u001b[0m     \u001b[1;32melse\u001b[0m\u001b[1;33m:\u001b[0m\u001b[1;33m\u001b[0m\u001b[0m\n\u001b[1;32m---> 73\u001b[1;33m         \u001b[0mret\u001b[0m \u001b[1;33m=\u001b[0m \u001b[0mret\u001b[0m \u001b[1;33m/\u001b[0m \u001b[0mrcount\u001b[0m\u001b[1;33m\u001b[0m\u001b[0m\n\u001b[0m\u001b[0;32m     74\u001b[0m \u001b[1;33m\u001b[0m\u001b[0m\n\u001b[0;32m     75\u001b[0m     \u001b[1;32mreturn\u001b[0m \u001b[0mret\u001b[0m\u001b[1;33m\u001b[0m\u001b[0m\n",
      "\u001b[1;31mTypeError\u001b[0m: unsupported operand type(s) for /: 'unicode' and 'long'"
     ]
    }
   ],
   "source": [
    "clf=clf.fit(x,y[1:1000])"
   ]
  },
  {
   "cell_type": "code",
   "execution_count": 48,
   "metadata": {
    "collapsed": false
   },
   "outputs": [
    {
     "data": {
      "text/plain": [
       "SGDClassifier(alpha=0.0001, class_weight=None, epsilon=0.1, eta0=0.0,\n",
       "       fit_intercept=True, l1_ratio=0.15, learning_rate='optimal',\n",
       "       loss='hinge', n_iter=5, n_jobs=1, penalty='l2', power_t=0.5,\n",
       "       random_state=None, shuffle=False, verbose=0, warm_start=False)"
      ]
     },
     "execution_count": 48,
     "metadata": {},
     "output_type": "execute_result"
    }
   ],
   "source": [
    "clf"
   ]
  },
  {
   "cell_type": "code",
   "execution_count": 49,
   "metadata": {
    "collapsed": false
   },
   "outputs": [
    {
     "ename": "TypeError",
     "evalue": "'instancemethod' object has no attribute '__getitem__'",
     "output_type": "error",
     "traceback": [
      "\u001b[1;31m---------------------------------------------------------------------------\u001b[0m",
      "\u001b[1;31mTypeError\u001b[0m                                 Traceback (most recent call last)",
      "\u001b[1;32m<ipython-input-49-7da76fbfeb2f>\u001b[0m in \u001b[0;36m<module>\u001b[1;34m()\u001b[0m\n\u001b[0;32m      1\u001b[0m \u001b[0mx_test\u001b[0m\u001b[1;33m=\u001b[0m\u001b[0mX\u001b[0m\u001b[1;33m[\u001b[0m\u001b[1;36m1001\u001b[0m\u001b[1;33m:\u001b[0m\u001b[1;33m]\u001b[0m\u001b[1;33m\u001b[0m\u001b[0m\n\u001b[0;32m      2\u001b[0m \u001b[1;31m#x_test['Predicted Rating']=clf.predict[x_test,y[1001:]]\u001b[0m\u001b[1;33m\u001b[0m\u001b[1;33m\u001b[0m\u001b[0m\n\u001b[1;32m----> 3\u001b[1;33m \u001b[0mclf\u001b[0m\u001b[1;33m.\u001b[0m\u001b[0mpredict\u001b[0m\u001b[1;33m[\u001b[0m\u001b[0mx_test\u001b[0m\u001b[1;33m]\u001b[0m\u001b[1;33m\u001b[0m\u001b[0m\n\u001b[0m",
      "\u001b[1;31mTypeError\u001b[0m: 'instancemethod' object has no attribute '__getitem__'"
     ]
    }
   ],
   "source": [
    "x_test=X[1001:]\n",
    "#x_test['Predicted Rating']=clf.predict[x_test,y[1001:]]\n",
    "clf.predict[x_test]"
   ]
  },
  {
   "cell_type": "code",
   "execution_count": null,
   "metadata": {
    "collapsed": true
   },
   "outputs": [],
   "source": []
  }
 ],
 "metadata": {
  "kernelspec": {
   "display_name": "Python 2",
   "language": "python",
   "name": "python2"
  },
  "language_info": {
   "codemirror_mode": {
    "name": "ipython",
    "version": 2
   },
   "file_extension": ".py",
   "mimetype": "text/x-python",
   "name": "python",
   "nbconvert_exporter": "python",
   "pygments_lexer": "ipython2",
   "version": "2.7.9"
  }
 },
 "nbformat": 4,
 "nbformat_minor": 0
}
